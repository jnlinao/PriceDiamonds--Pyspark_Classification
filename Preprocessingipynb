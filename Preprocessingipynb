{
 "cells": [
  {
   "cell_type": "markdown",
   "metadata": {},
   "source": [
    "# Project Milestone II: Data Preprocessing"
   ]
  },
  {
   "cell_type": "markdown",
   "metadata": {},
   "source": [
    "### Project Objective"
   ]
  },
  {
   "cell_type": "markdown",
   "metadata": {},
   "source": [
    "At the center of all diamond busines models is the worth and quality of diamonds and how clients, end users, and distributors perceive the genuine valuation of these stones. There is a critical business need to be able to legitimately price these diamonds in order to satisfy their high estimations and expectations.  \n",
    "\n",
    "Our project objective is to use descriptive analytics to explore and understand the caveats of the various characteristics of diamonds that impact its value and distinguish which ones either increase its prices or are less determinant to their worth. We also want to develop, build, and test a predictive model where we are able to accurately predict diamond prices by using its characteristics. "
   ]
  },
  {
   "cell_type": "markdown",
   "metadata": {},
   "source": [
    "### Method of Analysis"
   ]
  },
  {
   "cell_type": "markdown",
   "metadata": {},
   "source": [
    "For our method of analysis, we will first conduct a thorough and sophiscated descriptive analytics process using charts and visualizations from aggregating our data. Then we will utilize both Linear Regression and Gradient Boosted Trees to construct our models that we will fit, test, evaluate, and adjust to get the best accuracy. "
   ]
  },
  {
   "cell_type": "markdown",
   "metadata": {},
   "source": [
    "### Dataset Description"
   ]
  },
  {
   "cell_type": "markdown",
   "metadata": {},
   "source": [
    "**carat**: A carat is a unit of measurement used to specify the weight of a diamond. 'Carat' is a diamond industry special word for the weight of a diamond stone. One carat is equal to 200 milligrams (dtype: float64) <br>\n",
    "**cut**: The quality of the cut of the diamond measured as being Fair, Good, Very Good, Premium, and Ideal (dtype: object) <br>\n",
    "**color**: The color of the diamond randing from J which is the worst to D, which is the best (dtype: object) <br>\n",
    "**clarity**: The measure of how clear the diamond is which from worst to best measures as I1, SI2, SI1, VS2, VS1, VVS2, VVS1, IF I1 (worst), SI2, SI1, VS2, VS1, VVS2, VVS1, IF (dtype: object) <br>\n",
    "**table**: The width of the top of the diamond relative to the widest point, measured in mm (dtype: float64) <br>\n",
    "**price** The price of the diamond, measured in US Dollars (dtype: int64) <br>\n",
    "**x**: The length of the diamond, measured in mm (dtype: float64) <br>\n",
    "**y**: The width of the diamond, measured in mm (dtype: float64) <br>\n",
    "**z**: The depth of the diamond, measured in mm (dtype: float64) <br>\n",
    "**depth**: The total depth of the diamond which is calculated as percentage = z / mean(x, y) = 2 * z / (x + y) (dtype: float64) <br><br>\n",
    "Our dependent variable is price and our dependent variables are all the other characteristics of the diamond."
   ]
  },
  {
   "cell_type": "markdown",
   "metadata": {},
   "source": [
    "## Importing Packages"
   ]
  },
  {
   "cell_type": "markdown",
   "metadata": {},
   "source": [
    "Here we will install our visualization packages to use for histograms, bar charts, and scatterplots"
   ]
  },
  {
   "cell_type": "code",
   "execution_count": 1,
   "metadata": {},
   "outputs": [
    {
     "name": "stdout",
     "output_type": "stream",
     "text": [
      "Defaulting to user installation because normal site-packages is not writeable\n",
      "Requirement already satisfied: bokeh in /home/emr-notebook/.local/lib/python3.7/site-packages (2.3.0)\n",
      "Requirement already satisfied: Jinja2>=2.7 in /emr/notebook-env/lib/python3.7/site-packages (from bokeh) (2.11.1)\n",
      "Requirement already satisfied: numpy>=1.11.3 in /emr/notebook-env/lib/python3.7/site-packages (from bokeh) (1.18.1)\n",
      "Requirement already satisfied: tornado>=5.1 in /emr/notebook-env/lib/python3.7/site-packages (from bokeh) (6.0.4)\n",
      "Requirement already satisfied: PyYAML>=3.10 in /emr/notebook-env/lib/python3.7/site-packages (from bokeh) (5.3.1)\n",
      "Requirement already satisfied: pillow>=7.1.0 in /home/emr-notebook/.local/lib/python3.7/site-packages (from bokeh) (8.1.2)\n",
      "Requirement already satisfied: typing-extensions>=3.7.4 in /home/emr-notebook/.local/lib/python3.7/site-packages (from bokeh) (3.7.4.3)\n",
      "Requirement already satisfied: python-dateutil>=2.1 in /emr/notebook-env/lib/python3.7/site-packages (from bokeh) (2.8.1)\n",
      "Requirement already satisfied: packaging>=16.8 in /emr/notebook-env/lib/python3.7/site-packages (from bokeh) (20.3)\n",
      "Requirement already satisfied: MarkupSafe>=0.23 in /emr/notebook-env/lib/python3.7/site-packages (from Jinja2>=2.7->bokeh) (1.1.1)\n",
      "Requirement already satisfied: six>=1.5 in /emr/notebook-env/lib/python3.7/site-packages (from python-dateutil>=2.1->bokeh) (1.14.0)\n",
      "Requirement already satisfied: pyparsing>=2.0.2 in /emr/notebook-env/lib/python3.7/site-packages (from packaging>=16.8->bokeh) (2.4.6)\n",
      "Defaulting to user installation because normal site-packages is not writeable\n",
      "Requirement already satisfied: matplotlib in /home/emr-notebook/.local/lib/python3.7/site-packages (3.3.4)\n",
      "Requirement already satisfied: pillow>=6.2.0 in /home/emr-notebook/.local/lib/python3.7/site-packages (from matplotlib) (8.1.2)\n",
      "Requirement already satisfied: python-dateutil>=2.1 in /emr/notebook-env/lib/python3.7/site-packages (from matplotlib) (2.8.1)\n",
      "Requirement already satisfied: numpy>=1.15 in /emr/notebook-env/lib/python3.7/site-packages (from matplotlib) (1.18.1)\n",
      "Requirement already satisfied: cycler>=0.10 in /home/emr-notebook/.local/lib/python3.7/site-packages (from matplotlib) (0.10.0)\n",
      "Requirement already satisfied: kiwisolver>=1.0.1 in /home/emr-notebook/.local/lib/python3.7/site-packages (from matplotlib) (1.3.1)\n",
      "Requirement already satisfied: pyparsing!=2.0.4,!=2.1.2,!=2.1.6,>=2.0.3 in /emr/notebook-env/lib/python3.7/site-packages (from matplotlib) (2.4.6)\n",
      "Requirement already satisfied: six>=1.5 in /emr/notebook-env/lib/python3.7/site-packages (from python-dateutil>=2.1->matplotlib) (1.14.0)\n"
     ]
    }
   ],
   "source": [
    "%%local\n",
    "!emr/notebook-env/bin/pip install bokeh\n",
    "!emr/notebook-env/bin/pip install matplotlib"
   ]
  },
  {
   "cell_type": "markdown",
   "metadata": {},
   "source": [
    "We see that the packages were successfully installed. We need to restart the kernal to continue."
   ]
  },
  {
   "cell_type": "markdown",
   "metadata": {},
   "source": [
    "Here we import pyspark and pyspark sql to start the spark application to use for our notebook."
   ]
  },
  {
   "cell_type": "code",
   "execution_count": 2,
   "metadata": {},
   "outputs": [
    {
     "data": {
      "application/vnd.jupyter.widget-view+json": {
       "model_id": "9d79f169dcc44193b148b57b56939c1a",
       "version_major": 2,
       "version_minor": 0
      },
      "text/plain": [
       "VBox()"
      ]
     },
     "metadata": {},
     "output_type": "display_data"
    },
    {
     "name": "stdout",
     "output_type": "stream",
     "text": [
      "Starting Spark application\n"
     ]
    },
    {
     "data": {
      "text/html": [
       "<table>\n",
       "<tr><th>ID</th><th>YARN Application ID</th><th>Kind</th><th>State</th><th>Spark UI</th><th>Driver log</th><th>Current session?</th></tr><tr><td>5</td><td>application_1616723013212_0006</td><td>pyspark</td><td>idle</td><td><a target=\"_blank\" href=\"http://ip-172-31-34-63.ec2.internal:20888/proxy/application_1616723013212_0006/\">Link</a></td><td><a target=\"_blank\" href=\"http://ip-172-31-33-82.ec2.internal:8042/node/containerlogs/container_1616723013212_0006_01_000001/livy\">Link</a></td><td>✔</td></tr></table>"
      ],
      "text/plain": [
       "<IPython.core.display.HTML object>"
      ]
     },
     "metadata": {},
     "output_type": "display_data"
    },
    {
     "data": {
      "application/vnd.jupyter.widget-view+json": {
       "model_id": "",
       "version_major": 2,
       "version_minor": 0
      },
      "text/plain": [
       "FloatProgress(value=0.0, bar_style='info', description='Progress:', layout=Layout(height='25px', width='50%'),…"
      ]
     },
     "metadata": {},
     "output_type": "display_data"
    },
    {
     "name": "stdout",
     "output_type": "stream",
     "text": [
      "SparkSession available as 'spark'.\n"
     ]
    },
    {
     "data": {
      "application/vnd.jupyter.widget-view+json": {
       "model_id": "",
       "version_major": 2,
       "version_minor": 0
      },
      "text/plain": [
       "FloatProgress(value=0.0, bar_style='info', description='Progress:', layout=Layout(height='25px', width='50%'),…"
      ]
     },
     "metadata": {},
     "output_type": "display_data"
    }
   ],
   "source": [
    "from pyspark.sql.functions import col,sum\n",
    "from pyspark import SparkContext\n",
    "spark.conf.set('spark.sql.repl.eagerEval.enabled', True)"
   ]
  },
  {
   "cell_type": "markdown",
   "metadata": {},
   "source": [
    "We see that the Spark application was sucessfully started and we can use Spark now."
   ]
  },
  {
   "cell_type": "markdown",
   "metadata": {},
   "source": [
    "## Loading Data"
   ]
  },
  {
   "cell_type": "markdown",
   "metadata": {},
   "source": [
    "We load our dataset from our s3 bucket into a dataframe."
   ]
  },
  {
   "cell_type": "code",
   "execution_count": 3,
   "metadata": {},
   "outputs": [
    {
     "data": {
      "application/vnd.jupyter.widget-view+json": {
       "model_id": "efb8dad7e3184e59ab840f0cc4c612a9",
       "version_major": 2,
       "version_minor": 0
      },
      "text/plain": [
       "VBox()"
      ]
     },
     "metadata": {},
     "output_type": "display_data"
    },
    {
     "data": {
      "application/vnd.jupyter.widget-view+json": {
       "model_id": "",
       "version_major": 2,
       "version_minor": 0
      },
      "text/plain": [
       "FloatProgress(value=0.0, bar_style='info', description='Progress:', layout=Layout(height='25px', width='50%'),…"
      ]
     },
     "metadata": {},
     "output_type": "display_data"
    }
   ],
   "source": [
    "diamonds_df = (\n",
    "    spark.read.csv('s3://samuell-cis4567/Spark/diamonds/diamonds.csv', \n",
    "    header=True, \n",
    "    inferSchema=True))"
   ]
  },
  {
   "cell_type": "markdown",
   "metadata": {},
   "source": [
    "We have successfully loaded our data into Pyspark dataframe. We will use this dataframe for our cleansing before analysis."
   ]
  },
  {
   "cell_type": "markdown",
   "metadata": {},
   "source": [
    "## Cleaning Data"
   ]
  },
  {
   "cell_type": "markdown",
   "metadata": {},
   "source": [
    "### Checking and Removing Duplicates"
   ]
  },
  {
   "cell_type": "markdown",
   "metadata": {},
   "source": [
    "In the following code, we want to check our dataset to see we have duplicate rows. Duplicate rows would be an issue and would result in us taking action to remove it. We do this by comparing the total count of all records and compare it with the distinct records in the dataset."
   ]
  },
  {
   "cell_type": "code",
   "execution_count": 5,
   "metadata": {},
   "outputs": [
    {
     "data": {
      "application/vnd.jupyter.widget-view+json": {
       "model_id": "0a81a2d827454d11bb3da4b8cb954867",
       "version_major": 2,
       "version_minor": 0
      },
      "text/plain": [
       "VBox()"
      ]
     },
     "metadata": {},
     "output_type": "display_data"
    },
    {
     "data": {
      "application/vnd.jupyter.widget-view+json": {
       "model_id": "",
       "version_major": 2,
       "version_minor": 0
      },
      "text/plain": [
       "FloatProgress(value=0.0, bar_style='info', description='Progress:', layout=Layout(height='25px', width='50%'),…"
      ]
     },
     "metadata": {},
     "output_type": "display_data"
    },
    {
     "name": "stdout",
     "output_type": "stream",
     "text": [
      "(53940, 53940)"
     ]
    }
   ],
   "source": [
    "diamonds_df.count(), diamonds_df.distinct().count()"
   ]
  },
  {
   "cell_type": "markdown",
   "metadata": {},
   "source": [
    "From the output, we see that there are no duplicate records as the counts are the same. So we do not have to take action to remove any duplicated records."
   ]
  },
  {
   "cell_type": "markdown",
   "metadata": {},
   "source": [
    "### Checking and Removing Missing Values"
   ]
  },
  {
   "cell_type": "markdown",
   "metadata": {},
   "source": [
    "We run the following code to see if there are any missing values in any of our rows within our columns of our dataset. "
   ]
  },
  {
   "cell_type": "code",
   "execution_count": 6,
   "metadata": {},
   "outputs": [
    {
     "data": {
      "application/vnd.jupyter.widget-view+json": {
       "model_id": "29843e78f7e24211a0a430dd225888ca",
       "version_major": 2,
       "version_minor": 0
      },
      "text/plain": [
       "VBox()"
      ]
     },
     "metadata": {},
     "output_type": "display_data"
    },
    {
     "data": {
      "application/vnd.jupyter.widget-view+json": {
       "model_id": "",
       "version_major": 2,
       "version_minor": 0
      },
      "text/plain": [
       "FloatProgress(value=0.0, bar_style='info', description='Progress:', layout=Layout(height='25px', width='50%'),…"
      ]
     },
     "metadata": {},
     "output_type": "display_data"
    },
    {
     "name": "stdout",
     "output_type": "stream",
     "text": [
      "+---+-----+---+-----+-------+-----+-----+-----+---+---+---+\n",
      "|_c0|carat|cut|color|clarity|depth|table|price|  x|  y|  z|\n",
      "+---+-----+---+-----+-------+-----+-----+-----+---+---+---+\n",
      "|  0|    0|  0|    0|      0|    0|    0|    0|  0|  0|  0|\n",
      "+---+-----+---+-----+-------+-----+-----+-----+---+---+---+"
     ]
    }
   ],
   "source": [
    "diamonds_df.select(*(sum(col(c).isNull().cast(\"int\")).alias(c) for c in diamonds_df.columns)).show()"
   ]
  },
  {
   "cell_type": "markdown",
   "metadata": {},
   "source": [
    "From the output, we see that there are no missing values. So, we do need to take action to clean our dataset to accomodate any rows that have missing values. "
   ]
  },
  {
   "cell_type": "markdown",
   "metadata": {},
   "source": [
    "## Generate Descriptive Statistics"
   ]
  },
  {
   "cell_type": "markdown",
   "metadata": {},
   "source": [
    "We run the following code to illustrate descriptive statistics of our dataset's numeric features and use it to interpret any insights that can be of use for us for better understanding our data and discovering any route of action we can take for further analysis."
   ]
  },
  {
   "cell_type": "code",
   "execution_count": 8,
   "metadata": {},
   "outputs": [
    {
     "data": {
      "application/vnd.jupyter.widget-view+json": {
       "model_id": "cfa3972fa57f45febba35fc6e741330f",
       "version_major": 2,
       "version_minor": 0
      },
      "text/plain": [
       "VBox()"
      ]
     },
     "metadata": {},
     "output_type": "display_data"
    },
    {
     "data": {
      "application/vnd.jupyter.widget-view+json": {
       "model_id": "",
       "version_major": 2,
       "version_minor": 0
      },
      "text/plain": [
       "FloatProgress(value=0.0, bar_style='info', description='Progress:', layout=Layout(height='25px', width='50%'),…"
      ]
     },
     "metadata": {},
     "output_type": "display_data"
    },
    {
     "name": "stdout",
     "output_type": "stream",
     "text": [
      "-RECORD 0---------------------\n",
      " summary | count              \n",
      " carat   | 53940              \n",
      " depth   | 53940              \n",
      " table   | 53940              \n",
      " price   | 53940              \n",
      " x       | 53940              \n",
      " y       | 53940              \n",
      " z       | 53940              \n",
      "-RECORD 1---------------------\n",
      " summary | mean               \n",
      " carat   | 0.7979397478679852 \n",
      " depth   | 61.74940489432624  \n",
      " table   | 57.45718390804603  \n",
      " price   | 3932.799721913237  \n",
      " x       | 5.731157211716609  \n",
      " y       | 5.734525954764462  \n",
      " z       | 3.5387337782723316 \n",
      "-RECORD 2---------------------\n",
      " summary | stddev             \n",
      " carat   | 0.4740112444054196 \n",
      " depth   | 1.4326213188336525 \n",
      " table   | 2.2344905628213247 \n",
      " price   | 3989.439738146397  \n",
      " x       | 1.1217607467924915 \n",
      " y       | 1.1421346741235616 \n",
      " z       | 0.7056988469499883 \n",
      "-RECORD 3---------------------\n",
      " summary | min                \n",
      " carat   | 0.2                \n",
      " depth   | 43.0               \n",
      " table   | 43.0               \n",
      " price   | 326                \n",
      " x       | 0.0                \n",
      " y       | 0.0                \n",
      " z       | 0.0                \n",
      "-RECORD 4---------------------\n",
      " summary | max                \n",
      " carat   | 5.01               \n",
      " depth   | 79.0               \n",
      " table   | 95.0               \n",
      " price   | 18823              \n",
      " x       | 10.74              \n",
      " y       | 58.9               \n",
      " z       | 31.8"
     ]
    }
   ],
   "source": [
    "features = ['carat', 'depth', 'table', 'price', 'x', 'y', 'z']\n",
    "descriptive_stats = diamonds_df.describe(features)\n",
    "descriptive_stats.show(truncate=False, vertical=True)"
   ]
  },
  {
   "cell_type": "markdown",
   "metadata": {},
   "source": [
    "From running descriptive statistics, we can see the count, mean, standard deviation, min, and max values of each of our variables. This allows us to summarize our dataset and have a better understanding of our data."
   ]
  },
  {
   "cell_type": "markdown",
   "metadata": {},
   "source": [
    "## Data Visualization"
   ]
  },
  {
   "cell_type": "markdown",
   "metadata": {},
   "source": [
    "### Carat Histogram"
   ]
  },
  {
   "cell_type": "markdown",
   "metadata": {},
   "source": [
    "We run the following code to create our carat histogram's cut-off points. We first select the column we would like to visualize and convert it to an RDD level. We then flat map the column to flatten out all elements. Then we call the histogram method of RDD and provide the number of partitions."
   ]
  },
  {
   "cell_type": "code",
   "execution_count": 9,
   "metadata": {},
   "outputs": [
    {
     "data": {
      "application/vnd.jupyter.widget-view+json": {
       "model_id": "18aa3500786e4c8493836b7ba13f620c",
       "version_major": 2,
       "version_minor": 0
      },
      "text/plain": [
       "VBox()"
      ]
     },
     "metadata": {},
     "output_type": "display_data"
    },
    {
     "data": {
      "application/vnd.jupyter.widget-view+json": {
       "model_id": "",
       "version_major": 2,
       "version_minor": 0
      },
      "text/plain": [
       "FloatProgress(value=0.0, bar_style='info', description='Progress:', layout=Layout(height='25px', width='50%'),…"
      ]
     },
     "metadata": {},
     "output_type": "display_data"
    }
   ],
   "source": [
    "#generate bins and count of each bin\n",
    "histogram_carat = (\n",
    "    diamonds_df\n",
    "    .select('carat')\n",
    "    .rdd\n",
    "    .flatMap(lambda record: record)\n",
    "    .histogram(10)\n",
    ")"
   ]
  },
  {
   "cell_type": "markdown",
   "metadata": {},
   "source": [
    "This cell does not generate the histogram. Its purpose is to generate the cut-off points for our histogram."
   ]
  },
  {
   "cell_type": "markdown",
   "metadata": {},
   "source": [
    "We use cell magic to export our converted pandas dataframe to the client. We do this in order to have our bins and frequencies in two separate columns. "
   ]
  },
  {
   "cell_type": "code",
   "execution_count": 10,
   "metadata": {},
   "outputs": [
    {
     "data": {
      "application/vnd.jupyter.widget-view+json": {
       "model_id": "",
       "version_major": 2,
       "version_minor": 0
      },
      "text/plain": [
       "FloatProgress(value=0.0, bar_style='info', description='Progress:', layout=Layout(height='25px', width='50%'),…"
      ]
     },
     "metadata": {},
     "output_type": "display_data"
    },
    {
     "data": {
      "application/vnd.jupyter.widget-view+json": {
       "model_id": "",
       "version_major": 2,
       "version_minor": 0
      },
      "text/plain": [
       "FloatProgress(value=0.0, bar_style='info', description='Progress:', layout=Layout(height='25px', width='50%'),…"
      ]
     },
     "metadata": {},
     "output_type": "display_data"
    }
   ],
   "source": [
    "%%spark -o hist_carat\n",
    "\n",
    "import pandas as pd\n",
    "hist_carat =  spark.createDataFrame(\n",
    "    list(zip(*histogram_carat)), \n",
    "    ['bins', 'counts'])"
   ]
  },
  {
   "cell_type": "markdown",
   "metadata": {},
   "source": [
    "We first tell Jupyter that this is a local cell and to not send it to the cluster. We then import libraries from bokeh. We then set the parameters for our histogram and create it. We set bins as our index and we use counts for our heights. "
   ]
  },
  {
   "cell_type": "code",
   "execution_count": 11,
   "metadata": {},
   "outputs": [
    {
     "data": {
      "text/html": [
       "\n",
       "    <div class=\"bk-root\">\n",
       "        <a href=\"https://bokeh.org\" target=\"_blank\" class=\"bk-logo bk-logo-small bk-logo-notebook\"></a>\n",
       "        <span id=\"1002\">Loading BokehJS ...</span>\n",
       "    </div>"
      ]
     },
     "metadata": {},
     "output_type": "display_data"
    },
    {
     "data": {
      "application/javascript": [
       "\n",
       "(function(root) {\n",
       "  function now() {\n",
       "    return new Date();\n",
       "  }\n",
       "\n",
       "  var force = true;\n",
       "\n",
       "  if (typeof root._bokeh_onload_callbacks === \"undefined\" || force === true) {\n",
       "    root._bokeh_onload_callbacks = [];\n",
       "    root._bokeh_is_loading = undefined;\n",
       "  }\n",
       "\n",
       "  var JS_MIME_TYPE = 'application/javascript';\n",
       "  var HTML_MIME_TYPE = 'text/html';\n",
       "  var EXEC_MIME_TYPE = 'application/vnd.bokehjs_exec.v0+json';\n",
       "  var CLASS_NAME = 'output_bokeh rendered_html';\n",
       "\n",
       "  /**\n",
       "   * Render data to the DOM node\n",
       "   */\n",
       "  function render(props, node) {\n",
       "    var script = document.createElement(\"script\");\n",
       "    node.appendChild(script);\n",
       "  }\n",
       "\n",
       "  /**\n",
       "   * Handle when an output is cleared or removed\n",
       "   */\n",
       "  function handleClearOutput(event, handle) {\n",
       "    var cell = handle.cell;\n",
       "\n",
       "    var id = cell.output_area._bokeh_element_id;\n",
       "    var server_id = cell.output_area._bokeh_server_id;\n",
       "    // Clean up Bokeh references\n",
       "    if (id != null && id in Bokeh.index) {\n",
       "      Bokeh.index[id].model.document.clear();\n",
       "      delete Bokeh.index[id];\n",
       "    }\n",
       "\n",
       "    if (server_id !== undefined) {\n",
       "      // Clean up Bokeh references\n",
       "      var cmd = \"from bokeh.io.state import curstate; print(curstate().uuid_to_server['\" + server_id + \"'].get_sessions()[0].document.roots[0]._id)\";\n",
       "      cell.notebook.kernel.execute(cmd, {\n",
       "        iopub: {\n",
       "          output: function(msg) {\n",
       "            var id = msg.content.text.trim();\n",
       "            if (id in Bokeh.index) {\n",
       "              Bokeh.index[id].model.document.clear();\n",
       "              delete Bokeh.index[id];\n",
       "            }\n",
       "          }\n",
       "        }\n",
       "      });\n",
       "      // Destroy server and session\n",
       "      var cmd = \"import bokeh.io.notebook as ion; ion.destroy_server('\" + server_id + \"')\";\n",
       "      cell.notebook.kernel.execute(cmd);\n",
       "    }\n",
       "  }\n",
       "\n",
       "  /**\n",
       "   * Handle when a new output is added\n",
       "   */\n",
       "  function handleAddOutput(event, handle) {\n",
       "    var output_area = handle.output_area;\n",
       "    var output = handle.output;\n",
       "\n",
       "    // limit handleAddOutput to display_data with EXEC_MIME_TYPE content only\n",
       "    if ((output.output_type != \"display_data\") || (!Object.prototype.hasOwnProperty.call(output.data, EXEC_MIME_TYPE))) {\n",
       "      return\n",
       "    }\n",
       "\n",
       "    var toinsert = output_area.element.find(\".\" + CLASS_NAME.split(' ')[0]);\n",
       "\n",
       "    if (output.metadata[EXEC_MIME_TYPE][\"id\"] !== undefined) {\n",
       "      toinsert[toinsert.length - 1].firstChild.textContent = output.data[JS_MIME_TYPE];\n",
       "      // store reference to embed id on output_area\n",
       "      output_area._bokeh_element_id = output.metadata[EXEC_MIME_TYPE][\"id\"];\n",
       "    }\n",
       "    if (output.metadata[EXEC_MIME_TYPE][\"server_id\"] !== undefined) {\n",
       "      var bk_div = document.createElement(\"div\");\n",
       "      bk_div.innerHTML = output.data[HTML_MIME_TYPE];\n",
       "      var script_attrs = bk_div.children[0].attributes;\n",
       "      for (var i = 0; i < script_attrs.length; i++) {\n",
       "        toinsert[toinsert.length - 1].firstChild.setAttribute(script_attrs[i].name, script_attrs[i].value);\n",
       "        toinsert[toinsert.length - 1].firstChild.textContent = bk_div.children[0].textContent\n",
       "      }\n",
       "      // store reference to server id on output_area\n",
       "      output_area._bokeh_server_id = output.metadata[EXEC_MIME_TYPE][\"server_id\"];\n",
       "    }\n",
       "  }\n",
       "\n",
       "  function register_renderer(events, OutputArea) {\n",
       "\n",
       "    function append_mime(data, metadata, element) {\n",
       "      // create a DOM node to render to\n",
       "      var toinsert = this.create_output_subarea(\n",
       "        metadata,\n",
       "        CLASS_NAME,\n",
       "        EXEC_MIME_TYPE\n",
       "      );\n",
       "      this.keyboard_manager.register_events(toinsert);\n",
       "      // Render to node\n",
       "      var props = {data: data, metadata: metadata[EXEC_MIME_TYPE]};\n",
       "      render(props, toinsert[toinsert.length - 1]);\n",
       "      element.append(toinsert);\n",
       "      return toinsert\n",
       "    }\n",
       "\n",
       "    /* Handle when an output is cleared or removed */\n",
       "    events.on('clear_output.CodeCell', handleClearOutput);\n",
       "    events.on('delete.Cell', handleClearOutput);\n",
       "\n",
       "    /* Handle when a new output is added */\n",
       "    events.on('output_added.OutputArea', handleAddOutput);\n",
       "\n",
       "    /**\n",
       "     * Register the mime type and append_mime function with output_area\n",
       "     */\n",
       "    OutputArea.prototype.register_mime_type(EXEC_MIME_TYPE, append_mime, {\n",
       "      /* Is output safe? */\n",
       "      safe: true,\n",
       "      /* Index of renderer in `output_area.display_order` */\n",
       "      index: 0\n",
       "    });\n",
       "  }\n",
       "\n",
       "  // register the mime type if in Jupyter Notebook environment and previously unregistered\n",
       "  if (root.Jupyter !== undefined) {\n",
       "    var events = require('base/js/events');\n",
       "    var OutputArea = require('notebook/js/outputarea').OutputArea;\n",
       "\n",
       "    if (OutputArea.prototype.mime_types().indexOf(EXEC_MIME_TYPE) == -1) {\n",
       "      register_renderer(events, OutputArea);\n",
       "    }\n",
       "  }\n",
       "\n",
       "  \n",
       "  if (typeof (root._bokeh_timeout) === \"undefined\" || force === true) {\n",
       "    root._bokeh_timeout = Date.now() + 5000;\n",
       "    root._bokeh_failed_load = false;\n",
       "  }\n",
       "\n",
       "  var NB_LOAD_WARNING = {'data': {'text/html':\n",
       "     \"<div style='background-color: #fdd'>\\n\"+\n",
       "     \"<p>\\n\"+\n",
       "     \"BokehJS does not appear to have successfully loaded. If loading BokehJS from CDN, this \\n\"+\n",
       "     \"may be due to a slow or bad network connection. Possible fixes:\\n\"+\n",
       "     \"</p>\\n\"+\n",
       "     \"<ul>\\n\"+\n",
       "     \"<li>re-rerun `output_notebook()` to attempt to load from CDN again, or</li>\\n\"+\n",
       "     \"<li>use INLINE resources instead, as so:</li>\\n\"+\n",
       "     \"</ul>\\n\"+\n",
       "     \"<code>\\n\"+\n",
       "     \"from bokeh.resources import INLINE\\n\"+\n",
       "     \"output_notebook(resources=INLINE)\\n\"+\n",
       "     \"</code>\\n\"+\n",
       "     \"</div>\"}};\n",
       "\n",
       "  function display_loaded() {\n",
       "    var el = document.getElementById(\"1002\");\n",
       "    if (el != null) {\n",
       "      el.textContent = \"BokehJS is loading...\";\n",
       "    }\n",
       "    if (root.Bokeh !== undefined) {\n",
       "      if (el != null) {\n",
       "        el.textContent = \"BokehJS \" + root.Bokeh.version + \" successfully loaded.\";\n",
       "      }\n",
       "    } else if (Date.now() < root._bokeh_timeout) {\n",
       "      setTimeout(display_loaded, 100)\n",
       "    }\n",
       "  }\n",
       "\n",
       "\n",
       "  function run_callbacks() {\n",
       "    try {\n",
       "      root._bokeh_onload_callbacks.forEach(function(callback) {\n",
       "        if (callback != null)\n",
       "          callback();\n",
       "      });\n",
       "    } finally {\n",
       "      delete root._bokeh_onload_callbacks\n",
       "    }\n",
       "    console.debug(\"Bokeh: all callbacks have finished\");\n",
       "  }\n",
       "\n",
       "  function load_libs(css_urls, js_urls, callback) {\n",
       "    if (css_urls == null) css_urls = [];\n",
       "    if (js_urls == null) js_urls = [];\n",
       "\n",
       "    root._bokeh_onload_callbacks.push(callback);\n",
       "    if (root._bokeh_is_loading > 0) {\n",
       "      console.debug(\"Bokeh: BokehJS is being loaded, scheduling callback at\", now());\n",
       "      return null;\n",
       "    }\n",
       "    if (js_urls == null || js_urls.length === 0) {\n",
       "      run_callbacks();\n",
       "      return null;\n",
       "    }\n",
       "    console.debug(\"Bokeh: BokehJS not loaded, scheduling load and callback at\", now());\n",
       "    root._bokeh_is_loading = css_urls.length + js_urls.length;\n",
       "\n",
       "    function on_load() {\n",
       "      root._bokeh_is_loading--;\n",
       "      if (root._bokeh_is_loading === 0) {\n",
       "        console.debug(\"Bokeh: all BokehJS libraries/stylesheets loaded\");\n",
       "        run_callbacks()\n",
       "      }\n",
       "    }\n",
       "\n",
       "    function on_error(url) {\n",
       "      console.error(\"failed to load \" + url);\n",
       "    }\n",
       "\n",
       "    for (let i = 0; i < css_urls.length; i++) {\n",
       "      const url = css_urls[i];\n",
       "      const element = document.createElement(\"link\");\n",
       "      element.onload = on_load;\n",
       "      element.onerror = on_error.bind(null, url);\n",
       "      element.rel = \"stylesheet\";\n",
       "      element.type = \"text/css\";\n",
       "      element.href = url;\n",
       "      console.debug(\"Bokeh: injecting link tag for BokehJS stylesheet: \", url);\n",
       "      document.body.appendChild(element);\n",
       "    }\n",
       "\n",
       "    const hashes = {\"https://cdn.bokeh.org/bokeh/release/bokeh-2.3.0.min.js\": \"HjagQp6T0/7bxYTAXbLotF1MLAGWmhkY5siA1Gc/pcEgvgRPtMsRn0gQtMwGKiw1\", \"https://cdn.bokeh.org/bokeh/release/bokeh-widgets-2.3.0.min.js\": \"ZEPPTjL+mdyqgIq+/pl9KTwzji8Kow2NnI3zWY8+sFinWP/SYJ80BnfeJsa45iYj\", \"https://cdn.bokeh.org/bokeh/release/bokeh-tables-2.3.0.min.js\": \"exLqv2ACDRIaV7ZK1iL8aGzGYQvKVuT3U2CT7FsQREBxRah6JrkVCoFy0koY1YqV\"};\n",
       "\n",
       "    for (let i = 0; i < js_urls.length; i++) {\n",
       "      const url = js_urls[i];\n",
       "      const element = document.createElement('script');\n",
       "      element.onload = on_load;\n",
       "      element.onerror = on_error.bind(null, url);\n",
       "      element.async = false;\n",
       "      element.src = url;\n",
       "      if (url in hashes) {\n",
       "        element.crossOrigin = \"anonymous\";\n",
       "        element.integrity = \"sha384-\" + hashes[url];\n",
       "      }\n",
       "      console.debug(\"Bokeh: injecting script tag for BokehJS library: \", url);\n",
       "      document.head.appendChild(element);\n",
       "    }\n",
       "  };\n",
       "\n",
       "  function inject_raw_css(css) {\n",
       "    const element = document.createElement(\"style\");\n",
       "    element.appendChild(document.createTextNode(css));\n",
       "    document.body.appendChild(element);\n",
       "  }\n",
       "\n",
       "  \n",
       "  var js_urls = [\"https://cdn.bokeh.org/bokeh/release/bokeh-2.3.0.min.js\", \"https://cdn.bokeh.org/bokeh/release/bokeh-widgets-2.3.0.min.js\", \"https://cdn.bokeh.org/bokeh/release/bokeh-tables-2.3.0.min.js\"];\n",
       "  var css_urls = [];\n",
       "  \n",
       "\n",
       "  var inline_js = [\n",
       "    function(Bokeh) {\n",
       "      Bokeh.set_log_level(\"info\");\n",
       "    },\n",
       "    function(Bokeh) {\n",
       "    \n",
       "    \n",
       "    }\n",
       "  ];\n",
       "\n",
       "  function run_inline_js() {\n",
       "    \n",
       "    if (root.Bokeh !== undefined || force === true) {\n",
       "      \n",
       "    for (var i = 0; i < inline_js.length; i++) {\n",
       "      inline_js[i].call(root, root.Bokeh);\n",
       "    }\n",
       "    if (force === true) {\n",
       "        display_loaded();\n",
       "      }} else if (Date.now() < root._bokeh_timeout) {\n",
       "      setTimeout(run_inline_js, 100);\n",
       "    } else if (!root._bokeh_failed_load) {\n",
       "      console.log(\"Bokeh: BokehJS failed to load within specified timeout.\");\n",
       "      root._bokeh_failed_load = true;\n",
       "    } else if (force !== true) {\n",
       "      var cell = $(document.getElementById(\"1002\")).parents('.cell').data().cell;\n",
       "      cell.output_area.append_execute_result(NB_LOAD_WARNING)\n",
       "    }\n",
       "\n",
       "  }\n",
       "\n",
       "  if (root._bokeh_is_loading === 0) {\n",
       "    console.debug(\"Bokeh: BokehJS loaded, going straight to plotting\");\n",
       "    run_inline_js();\n",
       "  } else {\n",
       "    load_libs(css_urls, js_urls, function() {\n",
       "      console.debug(\"Bokeh: BokehJS plotting callback run at\", now());\n",
       "      run_inline_js();\n",
       "    });\n",
       "  }\n",
       "}(window));"
      ],
      "application/vnd.bokehjs_load.v0+json": "\n(function(root) {\n  function now() {\n    return new Date();\n  }\n\n  var force = true;\n\n  if (typeof root._bokeh_onload_callbacks === \"undefined\" || force === true) {\n    root._bokeh_onload_callbacks = [];\n    root._bokeh_is_loading = undefined;\n  }\n\n  \n\n  \n  if (typeof (root._bokeh_timeout) === \"undefined\" || force === true) {\n    root._bokeh_timeout = Date.now() + 5000;\n    root._bokeh_failed_load = false;\n  }\n\n  var NB_LOAD_WARNING = {'data': {'text/html':\n     \"<div style='background-color: #fdd'>\\n\"+\n     \"<p>\\n\"+\n     \"BokehJS does not appear to have successfully loaded. If loading BokehJS from CDN, this \\n\"+\n     \"may be due to a slow or bad network connection. Possible fixes:\\n\"+\n     \"</p>\\n\"+\n     \"<ul>\\n\"+\n     \"<li>re-rerun `output_notebook()` to attempt to load from CDN again, or</li>\\n\"+\n     \"<li>use INLINE resources instead, as so:</li>\\n\"+\n     \"</ul>\\n\"+\n     \"<code>\\n\"+\n     \"from bokeh.resources import INLINE\\n\"+\n     \"output_notebook(resources=INLINE)\\n\"+\n     \"</code>\\n\"+\n     \"</div>\"}};\n\n  function display_loaded() {\n    var el = document.getElementById(\"1002\");\n    if (el != null) {\n      el.textContent = \"BokehJS is loading...\";\n    }\n    if (root.Bokeh !== undefined) {\n      if (el != null) {\n        el.textContent = \"BokehJS \" + root.Bokeh.version + \" successfully loaded.\";\n      }\n    } else if (Date.now() < root._bokeh_timeout) {\n      setTimeout(display_loaded, 100)\n    }\n  }\n\n\n  function run_callbacks() {\n    try {\n      root._bokeh_onload_callbacks.forEach(function(callback) {\n        if (callback != null)\n          callback();\n      });\n    } finally {\n      delete root._bokeh_onload_callbacks\n    }\n    console.debug(\"Bokeh: all callbacks have finished\");\n  }\n\n  function load_libs(css_urls, js_urls, callback) {\n    if (css_urls == null) css_urls = [];\n    if (js_urls == null) js_urls = [];\n\n    root._bokeh_onload_callbacks.push(callback);\n    if (root._bokeh_is_loading > 0) {\n      console.debug(\"Bokeh: BokehJS is being loaded, scheduling callback at\", now());\n      return null;\n    }\n    if (js_urls == null || js_urls.length === 0) {\n      run_callbacks();\n      return null;\n    }\n    console.debug(\"Bokeh: BokehJS not loaded, scheduling load and callback at\", now());\n    root._bokeh_is_loading = css_urls.length + js_urls.length;\n\n    function on_load() {\n      root._bokeh_is_loading--;\n      if (root._bokeh_is_loading === 0) {\n        console.debug(\"Bokeh: all BokehJS libraries/stylesheets loaded\");\n        run_callbacks()\n      }\n    }\n\n    function on_error(url) {\n      console.error(\"failed to load \" + url);\n    }\n\n    for (let i = 0; i < css_urls.length; i++) {\n      const url = css_urls[i];\n      const element = document.createElement(\"link\");\n      element.onload = on_load;\n      element.onerror = on_error.bind(null, url);\n      element.rel = \"stylesheet\";\n      element.type = \"text/css\";\n      element.href = url;\n      console.debug(\"Bokeh: injecting link tag for BokehJS stylesheet: \", url);\n      document.body.appendChild(element);\n    }\n\n    const hashes = {\"https://cdn.bokeh.org/bokeh/release/bokeh-2.3.0.min.js\": \"HjagQp6T0/7bxYTAXbLotF1MLAGWmhkY5siA1Gc/pcEgvgRPtMsRn0gQtMwGKiw1\", \"https://cdn.bokeh.org/bokeh/release/bokeh-widgets-2.3.0.min.js\": \"ZEPPTjL+mdyqgIq+/pl9KTwzji8Kow2NnI3zWY8+sFinWP/SYJ80BnfeJsa45iYj\", \"https://cdn.bokeh.org/bokeh/release/bokeh-tables-2.3.0.min.js\": \"exLqv2ACDRIaV7ZK1iL8aGzGYQvKVuT3U2CT7FsQREBxRah6JrkVCoFy0koY1YqV\"};\n\n    for (let i = 0; i < js_urls.length; i++) {\n      const url = js_urls[i];\n      const element = document.createElement('script');\n      element.onload = on_load;\n      element.onerror = on_error.bind(null, url);\n      element.async = false;\n      element.src = url;\n      if (url in hashes) {\n        element.crossOrigin = \"anonymous\";\n        element.integrity = \"sha384-\" + hashes[url];\n      }\n      console.debug(\"Bokeh: injecting script tag for BokehJS library: \", url);\n      document.head.appendChild(element);\n    }\n  };\n\n  function inject_raw_css(css) {\n    const element = document.createElement(\"style\");\n    element.appendChild(document.createTextNode(css));\n    document.body.appendChild(element);\n  }\n\n  \n  var js_urls = [\"https://cdn.bokeh.org/bokeh/release/bokeh-2.3.0.min.js\", \"https://cdn.bokeh.org/bokeh/release/bokeh-widgets-2.3.0.min.js\", \"https://cdn.bokeh.org/bokeh/release/bokeh-tables-2.3.0.min.js\"];\n  var css_urls = [];\n  \n\n  var inline_js = [\n    function(Bokeh) {\n      Bokeh.set_log_level(\"info\");\n    },\n    function(Bokeh) {\n    \n    \n    }\n  ];\n\n  function run_inline_js() {\n    \n    if (root.Bokeh !== undefined || force === true) {\n      \n    for (var i = 0; i < inline_js.length; i++) {\n      inline_js[i].call(root, root.Bokeh);\n    }\n    if (force === true) {\n        display_loaded();\n      }} else if (Date.now() < root._bokeh_timeout) {\n      setTimeout(run_inline_js, 100);\n    } else if (!root._bokeh_failed_load) {\n      console.log(\"Bokeh: BokehJS failed to load within specified timeout.\");\n      root._bokeh_failed_load = true;\n    } else if (force !== true) {\n      var cell = $(document.getElementById(\"1002\")).parents('.cell').data().cell;\n      cell.output_area.append_execute_result(NB_LOAD_WARNING)\n    }\n\n  }\n\n  if (root._bokeh_is_loading === 0) {\n    console.debug(\"Bokeh: BokehJS loaded, going straight to plotting\");\n    run_inline_js();\n  } else {\n    load_libs(css_urls, js_urls, function() {\n      console.debug(\"Bokeh: BokehJS plotting callback run at\", now());\n      run_inline_js();\n    });\n  }\n}(window));"
     },
     "metadata": {},
     "output_type": "display_data"
    },
    {
     "data": {
      "text/html": [
       "\n",
       "\n",
       "\n",
       "\n",
       "\n",
       "\n",
       "  <div class=\"bk-root\" id=\"47ab2dce-a3ae-4e1a-a236-88fab294d821\" data-root-id=\"1003\"></div>\n"
      ]
     },
     "metadata": {},
     "output_type": "display_data"
    },
    {
     "data": {
      "application/javascript": [
       "(function(root) {\n",
       "  function embed_document(root) {\n",
       "    \n",
       "  var docs_json = {\"6dfe8be8-aac5-4b1d-a820-fc436e2a225a\":{\"defs\":[{\"extends\":null,\"module\":null,\"name\":\"DataModel\",\"overrides\":[],\"properties\":[]}],\"roots\":{\"references\":[{\"attributes\":{\"below\":[{\"id\":\"1014\"}],\"center\":[{\"id\":\"1016\"},{\"id\":\"1020\"}],\"height\":350,\"left\":[{\"id\":\"1017\"}],\"renderers\":[{\"id\":\"1038\"}],\"title\":{\"id\":\"1004\"},\"toolbar\":{\"id\":\"1028\"},\"x_range\":{\"id\":\"1006\"},\"x_scale\":{\"id\":\"1010\"},\"y_range\":{\"id\":\"1008\"},\"y_scale\":{\"id\":\"1012\"}},\"id\":\"1003\",\"subtype\":\"Figure\",\"type\":\"Plot\"},{\"attributes\":{\"axis\":{\"id\":\"1017\"},\"dimension\":1,\"ticker\":null},\"id\":\"1020\",\"type\":\"Grid\"},{\"attributes\":{},\"id\":\"1022\",\"type\":\"WheelZoomTool\"},{\"attributes\":{\"active_multi\":null,\"tools\":[{\"id\":\"1021\"},{\"id\":\"1022\"},{\"id\":\"1023\"},{\"id\":\"1024\"},{\"id\":\"1025\"},{\"id\":\"1026\"}]},\"id\":\"1028\",\"type\":\"Toolbar\"},{\"attributes\":{},\"id\":\"1044\",\"type\":\"CategoricalTickFormatter\"},{\"attributes\":{\"bottom_units\":\"screen\",\"fill_alpha\":0.5,\"fill_color\":\"lightgrey\",\"left_units\":\"screen\",\"level\":\"overlay\",\"line_alpha\":1.0,\"line_color\":\"black\",\"line_dash\":[4,4],\"line_width\":2,\"right_units\":\"screen\",\"syncable\":false,\"top_units\":\"screen\"},\"id\":\"1027\",\"type\":\"BoxAnnotation\"},{\"attributes\":{\"fill_alpha\":{\"value\":0.1},\"fill_color\":{\"value\":\"#1f77b4\"},\"line_alpha\":{\"value\":0.1},\"line_color\":{\"value\":\"#1f77b4\"},\"top\":{\"field\":\"top\"},\"width\":{\"value\":0.9},\"x\":{\"field\":\"x\"}},\"id\":\"1037\",\"type\":\"VBar\"},{\"attributes\":{\"factors\":[\"0.2\",\"0.68\",\"1.16\",\"1.64\",\"2.12\",\"2.6\",\"3.09\",\"3.57\",\"4.05\",\"4.53\"]},\"id\":\"1006\",\"type\":\"FactorRange\"},{\"attributes\":{\"text\":\"Carat Hist\"},\"id\":\"1004\",\"type\":\"Title\"},{\"attributes\":{},\"id\":\"1021\",\"type\":\"PanTool\"},{\"attributes\":{},\"id\":\"1041\",\"type\":\"BasicTickFormatter\"},{\"attributes\":{\"fill_color\":{\"value\":\"#1f77b4\"},\"line_color\":{\"value\":\"#1f77b4\"},\"top\":{\"field\":\"top\"},\"width\":{\"value\":0.9},\"x\":{\"field\":\"x\"}},\"id\":\"1036\",\"type\":\"VBar\"},{\"attributes\":{\"source\":{\"id\":\"1035\"}},\"id\":\"1039\",\"type\":\"CDSView\"},{\"attributes\":{\"data\":{\"top\":[25155,18626,7129,2349,614,53,6,5,2,1],\"x\":[\"0.2\",\"0.68\",\"1.16\",\"1.64\",\"2.12\",\"2.6\",\"3.09\",\"3.57\",\"4.05\",\"4.53\"]},\"selected\":{\"id\":\"1048\"},\"selection_policy\":{\"id\":\"1047\"}},\"id\":\"1035\",\"type\":\"ColumnDataSource\"},{\"attributes\":{\"overlay\":{\"id\":\"1027\"}},\"id\":\"1023\",\"type\":\"BoxZoomTool\"},{\"attributes\":{},\"id\":\"1024\",\"type\":\"SaveTool\"},{\"attributes\":{},\"id\":\"1042\",\"type\":\"AllLabels\"},{\"attributes\":{},\"id\":\"1008\",\"type\":\"DataRange1d\"},{\"attributes\":{},\"id\":\"1025\",\"type\":\"ResetTool\"},{\"attributes\":{},\"id\":\"1010\",\"type\":\"CategoricalScale\"},{\"attributes\":{\"data_source\":{\"id\":\"1035\"},\"glyph\":{\"id\":\"1036\"},\"hover_glyph\":null,\"muted_glyph\":null,\"nonselection_glyph\":{\"id\":\"1037\"},\"view\":{\"id\":\"1039\"}},\"id\":\"1038\",\"type\":\"GlyphRenderer\"},{\"attributes\":{},\"id\":\"1045\",\"type\":\"AllLabels\"},{\"attributes\":{},\"id\":\"1026\",\"type\":\"HelpTool\"},{\"attributes\":{},\"id\":\"1047\",\"type\":\"UnionRenderers\"},{\"attributes\":{},\"id\":\"1012\",\"type\":\"LinearScale\"},{\"attributes\":{\"formatter\":{\"id\":\"1041\"},\"major_label_policy\":{\"id\":\"1042\"},\"ticker\":{\"id\":\"1018\"}},\"id\":\"1017\",\"type\":\"LinearAxis\"},{\"attributes\":{},\"id\":\"1048\",\"type\":\"Selection\"},{\"attributes\":{\"formatter\":{\"id\":\"1044\"},\"major_label_policy\":{\"id\":\"1045\"},\"ticker\":{\"id\":\"1015\"}},\"id\":\"1014\",\"type\":\"CategoricalAxis\"},{\"attributes\":{},\"id\":\"1018\",\"type\":\"BasicTicker\"},{\"attributes\":{},\"id\":\"1015\",\"type\":\"CategoricalTicker\"},{\"attributes\":{\"axis\":{\"id\":\"1014\"},\"ticker\":null},\"id\":\"1016\",\"type\":\"Grid\"}],\"root_ids\":[\"1003\"]},\"title\":\"Bokeh Application\",\"version\":\"2.3.0\"}};\n",
       "  var render_items = [{\"docid\":\"6dfe8be8-aac5-4b1d-a820-fc436e2a225a\",\"root_ids\":[\"1003\"],\"roots\":{\"1003\":\"47ab2dce-a3ae-4e1a-a236-88fab294d821\"}}];\n",
       "  root.Bokeh.embed.embed_items_notebook(docs_json, render_items);\n",
       "\n",
       "  }\n",
       "  if (root.Bokeh !== undefined) {\n",
       "    embed_document(root);\n",
       "  } else {\n",
       "    var attempts = 0;\n",
       "    var timer = setInterval(function(root) {\n",
       "      if (root.Bokeh !== undefined) {\n",
       "        clearInterval(timer);\n",
       "        embed_document(root);\n",
       "      } else {\n",
       "        attempts++;\n",
       "        if (attempts > 100) {\n",
       "          clearInterval(timer);\n",
       "          console.log(\"Bokeh: ERROR: Unable to run BokehJS code because BokehJS library is missing\");\n",
       "        }\n",
       "      }\n",
       "    }, 10, root)\n",
       "  }\n",
       "})(window);"
      ],
      "application/vnd.bokehjs_exec.v0+json": ""
     },
     "metadata": {
      "application/vnd.bokehjs_exec.v0+json": {
       "id": "1003"
      }
     },
     "output_type": "display_data"
    }
   ],
   "source": [
    "%%local\n",
    "\n",
    "from bokeh.io import show\n",
    "from bokeh.plotting import figure\n",
    "from bokeh.io import output_notebook\n",
    "\n",
    "output_notebook()\n",
    "labels = [str(round(e, 2)) for e in hist_carat['bins']]\n",
    "p = figure(\n",
    " x_range=labels,\n",
    " plot_height=350,\n",
    " title='Carat Hist'\n",
    ")\n",
    "p.vbar(x=labels, top=hist_carat['counts'], width=0.9)\n",
    "show(p)"
   ]
  },
  {
   "cell_type": "markdown",
   "metadata": {},
   "source": [
    "From the output, we can see our histogram of carat values. We also acknowledge that there are outliers that exist, which we will attend to and possibly remove later on when we conduct outlier analysis. "
   ]
  },
  {
   "cell_type": "markdown",
   "metadata": {},
   "source": [
    "### Depth Histogram"
   ]
  },
  {
   "cell_type": "markdown",
   "metadata": {},
   "source": [
    "We run the following code to create our depth histogram's cut-off points. We first select the column we would like to \n",
    "visualize and convert it to an RDD level. We then flat map the column to flatten out all elements. \n",
    "Then we call the histogram method of RDD and provide the number of partitions."
   ]
  },
  {
   "cell_type": "code",
   "execution_count": 12,
   "metadata": {},
   "outputs": [
    {
     "data": {
      "application/vnd.jupyter.widget-view+json": {
       "model_id": "058586bbdea8453cb44c9bb34fa54b2a",
       "version_major": 2,
       "version_minor": 0
      },
      "text/plain": [
       "VBox()"
      ]
     },
     "metadata": {},
     "output_type": "display_data"
    },
    {
     "data": {
      "application/vnd.jupyter.widget-view+json": {
       "model_id": "",
       "version_major": 2,
       "version_minor": 0
      },
      "text/plain": [
       "FloatProgress(value=0.0, bar_style='info', description='Progress:', layout=Layout(height='25px', width='50%'),…"
      ]
     },
     "metadata": {},
     "output_type": "display_data"
    }
   ],
   "source": [
    "#generate bins and count of each bin\n",
    "histogram_depth = (\n",
    "    diamonds_df\n",
    "    .select('depth')\n",
    "    .rdd\n",
    "    .flatMap(lambda record: record)\n",
    "    .histogram(10)\n",
    ")"
   ]
  },
  {
   "cell_type": "markdown",
   "metadata": {},
   "source": [
    "This cell does not generate the histogram. Its purpose is to generate the cut-off points for our histogram."
   ]
  },
  {
   "cell_type": "markdown",
   "metadata": {},
   "source": [
    "We use cell magic to export our converted pandas dataframe to the client. We do this in order to have our bins and frequencies in two separate columns. "
   ]
  },
  {
   "cell_type": "code",
   "execution_count": 13,
   "metadata": {},
   "outputs": [
    {
     "data": {
      "application/vnd.jupyter.widget-view+json": {
       "model_id": "",
       "version_major": 2,
       "version_minor": 0
      },
      "text/plain": [
       "FloatProgress(value=0.0, bar_style='info', description='Progress:', layout=Layout(height='25px', width='50%'),…"
      ]
     },
     "metadata": {},
     "output_type": "display_data"
    },
    {
     "data": {
      "application/vnd.jupyter.widget-view+json": {
       "model_id": "",
       "version_major": 2,
       "version_minor": 0
      },
      "text/plain": [
       "FloatProgress(value=0.0, bar_style='info', description='Progress:', layout=Layout(height='25px', width='50%'),…"
      ]
     },
     "metadata": {},
     "output_type": "display_data"
    }
   ],
   "source": [
    "%%spark -o hist_depth\n",
    "\n",
    "import pandas as pd\n",
    "hist_depth =  spark.createDataFrame(\n",
    "    list(zip(*histogram_depth)), \n",
    "    ['bins', 'counts'])"
   ]
  },
  {
   "cell_type": "markdown",
   "metadata": {},
   "source": [
    "We first tell Jupyter that this is a local cell and to not send it to the cluster. We then set the parameters for our histogram and create it. We set bins as our index and we use counts for our heights. "
   ]
  },
  {
   "cell_type": "code",
   "execution_count": 14,
   "metadata": {},
   "outputs": [
    {
     "data": {
      "text/html": [
       "\n",
       "\n",
       "\n",
       "\n",
       "\n",
       "\n",
       "  <div class=\"bk-root\" id=\"78d34471-483c-4b50-89d5-6fa81d662eaf\" data-root-id=\"1100\"></div>\n"
      ]
     },
     "metadata": {},
     "output_type": "display_data"
    },
    {
     "data": {
      "application/javascript": [
       "(function(root) {\n",
       "  function embed_document(root) {\n",
       "    \n",
       "  var docs_json = {\"0098373a-6912-4331-a392-05c64587bee2\":{\"defs\":[{\"extends\":null,\"module\":null,\"name\":\"DataModel\",\"overrides\":[],\"properties\":[]}],\"roots\":{\"references\":[{\"attributes\":{\"below\":[{\"id\":\"1111\"}],\"center\":[{\"id\":\"1113\"},{\"id\":\"1117\"}],\"height\":350,\"left\":[{\"id\":\"1114\"}],\"renderers\":[{\"id\":\"1135\"}],\"title\":{\"id\":\"1101\"},\"toolbar\":{\"id\":\"1125\"},\"x_range\":{\"id\":\"1103\"},\"x_scale\":{\"id\":\"1107\"},\"y_range\":{\"id\":\"1105\"},\"y_scale\":{\"id\":\"1109\"}},\"id\":\"1100\",\"subtype\":\"Figure\",\"type\":\"Plot\"},{\"attributes\":{},\"id\":\"1148\",\"type\":\"BasicTickFormatter\"},{\"attributes\":{},\"id\":\"1115\",\"type\":\"BasicTicker\"},{\"attributes\":{},\"id\":\"1155\",\"type\":\"Selection\"},{\"attributes\":{\"axis\":{\"id\":\"1114\"},\"dimension\":1,\"ticker\":null},\"id\":\"1117\",\"type\":\"Grid\"},{\"attributes\":{\"data_source\":{\"id\":\"1132\"},\"glyph\":{\"id\":\"1133\"},\"hover_glyph\":null,\"muted_glyph\":null,\"nonselection_glyph\":{\"id\":\"1134\"},\"view\":{\"id\":\"1136\"}},\"id\":\"1135\",\"type\":\"GlyphRenderer\"},{\"attributes\":{\"factors\":[\"43.0\",\"46.6\",\"50.2\",\"53.8\",\"57.4\",\"61.0\",\"64.6\",\"68.2\",\"71.8\",\"75.4\"]},\"id\":\"1103\",\"type\":\"FactorRange\"},{\"attributes\":{},\"id\":\"1154\",\"type\":\"UnionRenderers\"},{\"attributes\":{},\"id\":\"1105\",\"type\":\"DataRange1d\"},{\"attributes\":{\"text\":\"Hist Depth\"},\"id\":\"1101\",\"type\":\"Title\"},{\"attributes\":{},\"id\":\"1151\",\"type\":\"CategoricalTickFormatter\"},{\"attributes\":{\"data\":{\"top\":[3,0,12,304,12041,40468,1027,79,3,3],\"x\":[\"43.0\",\"46.6\",\"50.2\",\"53.8\",\"57.4\",\"61.0\",\"64.6\",\"68.2\",\"71.8\",\"75.4\"]},\"selected\":{\"id\":\"1155\"},\"selection_policy\":{\"id\":\"1154\"}},\"id\":\"1132\",\"type\":\"ColumnDataSource\"},{\"attributes\":{\"fill_alpha\":{\"value\":0.1},\"fill_color\":{\"value\":\"#1f77b4\"},\"line_alpha\":{\"value\":0.1},\"line_color\":{\"value\":\"#1f77b4\"},\"top\":{\"field\":\"top\"},\"width\":{\"value\":0.9},\"x\":{\"field\":\"x\"}},\"id\":\"1134\",\"type\":\"VBar\"},{\"attributes\":{},\"id\":\"1118\",\"type\":\"PanTool\"},{\"attributes\":{},\"id\":\"1119\",\"type\":\"WheelZoomTool\"},{\"attributes\":{},\"id\":\"1152\",\"type\":\"AllLabels\"},{\"attributes\":{\"bottom_units\":\"screen\",\"fill_alpha\":0.5,\"fill_color\":\"lightgrey\",\"left_units\":\"screen\",\"level\":\"overlay\",\"line_alpha\":1.0,\"line_color\":\"black\",\"line_dash\":[4,4],\"line_width\":2,\"right_units\":\"screen\",\"syncable\":false,\"top_units\":\"screen\"},\"id\":\"1124\",\"type\":\"BoxAnnotation\"},{\"attributes\":{\"active_multi\":null,\"tools\":[{\"id\":\"1118\"},{\"id\":\"1119\"},{\"id\":\"1120\"},{\"id\":\"1121\"},{\"id\":\"1122\"},{\"id\":\"1123\"}]},\"id\":\"1125\",\"type\":\"Toolbar\"},{\"attributes\":{\"overlay\":{\"id\":\"1124\"}},\"id\":\"1120\",\"type\":\"BoxZoomTool\"},{\"attributes\":{\"source\":{\"id\":\"1132\"}},\"id\":\"1136\",\"type\":\"CDSView\"},{\"attributes\":{},\"id\":\"1121\",\"type\":\"SaveTool\"},{\"attributes\":{},\"id\":\"1122\",\"type\":\"ResetTool\"},{\"attributes\":{},\"id\":\"1109\",\"type\":\"LinearScale\"},{\"attributes\":{},\"id\":\"1123\",\"type\":\"HelpTool\"},{\"attributes\":{\"formatter\":{\"id\":\"1148\"},\"major_label_policy\":{\"id\":\"1149\"},\"ticker\":{\"id\":\"1115\"}},\"id\":\"1114\",\"type\":\"LinearAxis\"},{\"attributes\":{\"fill_color\":{\"value\":\"#1f77b4\"},\"line_color\":{\"value\":\"#1f77b4\"},\"top\":{\"field\":\"top\"},\"width\":{\"value\":0.9},\"x\":{\"field\":\"x\"}},\"id\":\"1133\",\"type\":\"VBar\"},{\"attributes\":{\"formatter\":{\"id\":\"1151\"},\"major_label_policy\":{\"id\":\"1152\"},\"ticker\":{\"id\":\"1112\"}},\"id\":\"1111\",\"type\":\"CategoricalAxis\"},{\"attributes\":{},\"id\":\"1149\",\"type\":\"AllLabels\"},{\"attributes\":{},\"id\":\"1112\",\"type\":\"CategoricalTicker\"},{\"attributes\":{},\"id\":\"1107\",\"type\":\"CategoricalScale\"},{\"attributes\":{\"axis\":{\"id\":\"1111\"},\"ticker\":null},\"id\":\"1113\",\"type\":\"Grid\"}],\"root_ids\":[\"1100\"]},\"title\":\"Bokeh Application\",\"version\":\"2.3.0\"}};\n",
       "  var render_items = [{\"docid\":\"0098373a-6912-4331-a392-05c64587bee2\",\"root_ids\":[\"1100\"],\"roots\":{\"1100\":\"78d34471-483c-4b50-89d5-6fa81d662eaf\"}}];\n",
       "  root.Bokeh.embed.embed_items_notebook(docs_json, render_items);\n",
       "\n",
       "  }\n",
       "  if (root.Bokeh !== undefined) {\n",
       "    embed_document(root);\n",
       "  } else {\n",
       "    var attempts = 0;\n",
       "    var timer = setInterval(function(root) {\n",
       "      if (root.Bokeh !== undefined) {\n",
       "        clearInterval(timer);\n",
       "        embed_document(root);\n",
       "      } else {\n",
       "        attempts++;\n",
       "        if (attempts > 100) {\n",
       "          clearInterval(timer);\n",
       "          console.log(\"Bokeh: ERROR: Unable to run BokehJS code because BokehJS library is missing\");\n",
       "        }\n",
       "      }\n",
       "    }, 10, root)\n",
       "  }\n",
       "})(window);"
      ],
      "application/vnd.bokehjs_exec.v0+json": ""
     },
     "metadata": {
      "application/vnd.bokehjs_exec.v0+json": {
       "id": "1100"
      }
     },
     "output_type": "display_data"
    }
   ],
   "source": [
    "%%local\n",
    "\n",
    "labels = [str(round(e, 2)) for e in hist_depth['bins']]\n",
    "p = figure(\n",
    " x_range=labels,\n",
    " plot_height=350,\n",
    " title='Hist Depth'\n",
    ")\n",
    "p.vbar(x=labels, top=hist_depth['counts'], width=0.9)\n",
    "show(p)"
   ]
  },
  {
   "cell_type": "markdown",
   "metadata": {},
   "source": [
    "From the output, we can see our histogram of depth values. We also acknowledge that there are outliers that exist, which we will attend to and possibly remove later on when we conduct outlier analysis. "
   ]
  },
  {
   "cell_type": "markdown",
   "metadata": {},
   "source": [
    "### Table Histogram"
   ]
  },
  {
   "cell_type": "markdown",
   "metadata": {},
   "source": [
    "We run the following code to create our table histogram's cut-off points. We first select the column we would like to \n",
    "visualize and convert it to an RDD level. We then flat map the column to flatten out all elements. \n",
    "Then we call the histogram method of RDD and provide the number of partitions."
   ]
  },
  {
   "cell_type": "code",
   "execution_count": 15,
   "metadata": {},
   "outputs": [
    {
     "data": {
      "application/vnd.jupyter.widget-view+json": {
       "model_id": "7cfb8f4275ef47df8f733bf3ff32a424",
       "version_major": 2,
       "version_minor": 0
      },
      "text/plain": [
       "VBox()"
      ]
     },
     "metadata": {},
     "output_type": "display_data"
    },
    {
     "data": {
      "application/vnd.jupyter.widget-view+json": {
       "model_id": "",
       "version_major": 2,
       "version_minor": 0
      },
      "text/plain": [
       "FloatProgress(value=0.0, bar_style='info', description='Progress:', layout=Layout(height='25px', width='50%'),…"
      ]
     },
     "metadata": {},
     "output_type": "display_data"
    }
   ],
   "source": [
    "#generate bins and count of each bin\n",
    "histogram_table = (\n",
    "    diamonds_df\n",
    "    .select('table')\n",
    "    .rdd\n",
    "    .flatMap(lambda record: record)\n",
    "    .histogram(10)\n",
    ")"
   ]
  },
  {
   "cell_type": "markdown",
   "metadata": {},
   "source": [
    "This cell does not generate the histogram. Its purpose is to generate the cut-off points for our histogram."
   ]
  },
  {
   "cell_type": "markdown",
   "metadata": {},
   "source": [
    "We use cell magic to export our converted pandas dataframe to the client. We do this in order to have our bins and frequencies in two separate columns. "
   ]
  },
  {
   "cell_type": "code",
   "execution_count": 16,
   "metadata": {},
   "outputs": [
    {
     "data": {
      "application/vnd.jupyter.widget-view+json": {
       "model_id": "",
       "version_major": 2,
       "version_minor": 0
      },
      "text/plain": [
       "FloatProgress(value=0.0, bar_style='info', description='Progress:', layout=Layout(height='25px', width='50%'),…"
      ]
     },
     "metadata": {},
     "output_type": "display_data"
    },
    {
     "data": {
      "application/vnd.jupyter.widget-view+json": {
       "model_id": "",
       "version_major": 2,
       "version_minor": 0
      },
      "text/plain": [
       "FloatProgress(value=0.0, bar_style='info', description='Progress:', layout=Layout(height='25px', width='50%'),…"
      ]
     },
     "metadata": {},
     "output_type": "display_data"
    }
   ],
   "source": [
    "%%spark -o hist_table\n",
    "\n",
    "import pandas as pd\n",
    "hist_table =  spark.createDataFrame(\n",
    "    list(zip(*histogram_table)), \n",
    "    ['bins', 'counts'])"
   ]
  },
  {
   "cell_type": "markdown",
   "metadata": {},
   "source": [
    "We first tell Jupyter that this is a local cell and to not send it to the cluster. We then set the parameters for our histogram and create it. We set bins as our index and we use counts for our heights. "
   ]
  },
  {
   "cell_type": "code",
   "execution_count": 17,
   "metadata": {},
   "outputs": [
    {
     "data": {
      "text/html": [
       "\n",
       "\n",
       "\n",
       "\n",
       "\n",
       "\n",
       "  <div class=\"bk-root\" id=\"ac17d92d-ba6d-460f-a09f-5f03dc67f63d\" data-root-id=\"1207\"></div>\n"
      ]
     },
     "metadata": {},
     "output_type": "display_data"
    },
    {
     "data": {
      "application/javascript": [
       "(function(root) {\n",
       "  function embed_document(root) {\n",
       "    \n",
       "  var docs_json = {\"cfbb5776-8ec6-4ab8-be89-91c701c38dbd\":{\"defs\":[{\"extends\":null,\"module\":null,\"name\":\"DataModel\",\"overrides\":[],\"properties\":[]}],\"roots\":{\"references\":[{\"attributes\":{\"below\":[{\"id\":\"1218\"}],\"center\":[{\"id\":\"1220\"},{\"id\":\"1224\"}],\"height\":350,\"left\":[{\"id\":\"1221\"}],\"renderers\":[{\"id\":\"1242\"}],\"title\":{\"id\":\"1208\"},\"toolbar\":{\"id\":\"1232\"},\"x_range\":{\"id\":\"1210\"},\"x_scale\":{\"id\":\"1214\"},\"y_range\":{\"id\":\"1212\"},\"y_scale\":{\"id\":\"1216\"}},\"id\":\"1207\",\"subtype\":\"Figure\",\"type\":\"Plot\"},{\"attributes\":{},\"id\":\"1225\",\"type\":\"PanTool\"},{\"attributes\":{\"bottom_units\":\"screen\",\"fill_alpha\":0.5,\"fill_color\":\"lightgrey\",\"left_units\":\"screen\",\"level\":\"overlay\",\"line_alpha\":1.0,\"line_color\":\"black\",\"line_dash\":[4,4],\"line_width\":2,\"right_units\":\"screen\",\"syncable\":false,\"top_units\":\"screen\"},\"id\":\"1231\",\"type\":\"BoxAnnotation\"},{\"attributes\":{},\"id\":\"1212\",\"type\":\"DataRange1d\"},{\"attributes\":{},\"id\":\"1226\",\"type\":\"WheelZoomTool\"},{\"attributes\":{},\"id\":\"1272\",\"type\":\"Selection\"},{\"attributes\":{},\"id\":\"1265\",\"type\":\"BasicTickFormatter\"},{\"attributes\":{\"overlay\":{\"id\":\"1231\"}},\"id\":\"1227\",\"type\":\"BoxZoomTool\"},{\"attributes\":{},\"id\":\"1214\",\"type\":\"CategoricalScale\"},{\"attributes\":{},\"id\":\"1228\",\"type\":\"SaveTool\"},{\"attributes\":{},\"id\":\"1219\",\"type\":\"CategoricalTicker\"},{\"attributes\":{},\"id\":\"1229\",\"type\":\"ResetTool\"},{\"attributes\":{},\"id\":\"1216\",\"type\":\"LinearScale\"},{\"attributes\":{\"fill_alpha\":{\"value\":0.1},\"fill_color\":{\"value\":\"#1f77b4\"},\"line_alpha\":{\"value\":0.1},\"line_color\":{\"value\":\"#1f77b4\"},\"top\":{\"field\":\"top\"},\"width\":{\"value\":0.9},\"x\":{\"field\":\"x\"}},\"id\":\"1241\",\"type\":\"VBar\"},{\"attributes\":{},\"id\":\"1268\",\"type\":\"CategoricalTickFormatter\"},{\"attributes\":{},\"id\":\"1230\",\"type\":\"HelpTool\"},{\"attributes\":{\"fill_color\":{\"value\":\"#1f77b4\"},\"line_color\":{\"value\":\"#1f77b4\"},\"top\":{\"field\":\"top\"},\"width\":{\"value\":0.9},\"x\":{\"field\":\"x\"}},\"id\":\"1240\",\"type\":\"VBar\"},{\"attributes\":{\"axis\":{\"id\":\"1218\"},\"ticker\":null},\"id\":\"1220\",\"type\":\"Grid\"},{\"attributes\":{\"data\":{\"top\":[2,669,37542,15138,563,23,2,0,0,1],\"x\":[\"43.0\",\"48.2\",\"53.4\",\"58.6\",\"63.8\",\"69.0\",\"74.2\",\"79.4\",\"84.6\",\"89.8\"]},\"selected\":{\"id\":\"1272\"},\"selection_policy\":{\"id\":\"1271\"}},\"id\":\"1239\",\"type\":\"ColumnDataSource\"},{\"attributes\":{},\"id\":\"1222\",\"type\":\"BasicTicker\"},{\"attributes\":{\"axis\":{\"id\":\"1221\"},\"dimension\":1,\"ticker\":null},\"id\":\"1224\",\"type\":\"Grid\"},{\"attributes\":{\"formatter\":{\"id\":\"1265\"},\"major_label_policy\":{\"id\":\"1266\"},\"ticker\":{\"id\":\"1222\"}},\"id\":\"1221\",\"type\":\"LinearAxis\"},{\"attributes\":{},\"id\":\"1271\",\"type\":\"UnionRenderers\"},{\"attributes\":{\"source\":{\"id\":\"1239\"}},\"id\":\"1243\",\"type\":\"CDSView\"},{\"attributes\":{\"factors\":[\"43.0\",\"48.2\",\"53.4\",\"58.6\",\"63.8\",\"69.0\",\"74.2\",\"79.4\",\"84.6\",\"89.8\"]},\"id\":\"1210\",\"type\":\"FactorRange\"},{\"attributes\":{},\"id\":\"1266\",\"type\":\"AllLabels\"},{\"attributes\":{\"data_source\":{\"id\":\"1239\"},\"glyph\":{\"id\":\"1240\"},\"hover_glyph\":null,\"muted_glyph\":null,\"nonselection_glyph\":{\"id\":\"1241\"},\"view\":{\"id\":\"1243\"}},\"id\":\"1242\",\"type\":\"GlyphRenderer\"},{\"attributes\":{\"text\":\"Hist Table\"},\"id\":\"1208\",\"type\":\"Title\"},{\"attributes\":{\"active_multi\":null,\"tools\":[{\"id\":\"1225\"},{\"id\":\"1226\"},{\"id\":\"1227\"},{\"id\":\"1228\"},{\"id\":\"1229\"},{\"id\":\"1230\"}]},\"id\":\"1232\",\"type\":\"Toolbar\"},{\"attributes\":{\"formatter\":{\"id\":\"1268\"},\"major_label_policy\":{\"id\":\"1269\"},\"ticker\":{\"id\":\"1219\"}},\"id\":\"1218\",\"type\":\"CategoricalAxis\"},{\"attributes\":{},\"id\":\"1269\",\"type\":\"AllLabels\"}],\"root_ids\":[\"1207\"]},\"title\":\"Bokeh Application\",\"version\":\"2.3.0\"}};\n",
       "  var render_items = [{\"docid\":\"cfbb5776-8ec6-4ab8-be89-91c701c38dbd\",\"root_ids\":[\"1207\"],\"roots\":{\"1207\":\"ac17d92d-ba6d-460f-a09f-5f03dc67f63d\"}}];\n",
       "  root.Bokeh.embed.embed_items_notebook(docs_json, render_items);\n",
       "\n",
       "  }\n",
       "  if (root.Bokeh !== undefined) {\n",
       "    embed_document(root);\n",
       "  } else {\n",
       "    var attempts = 0;\n",
       "    var timer = setInterval(function(root) {\n",
       "      if (root.Bokeh !== undefined) {\n",
       "        clearInterval(timer);\n",
       "        embed_document(root);\n",
       "      } else {\n",
       "        attempts++;\n",
       "        if (attempts > 100) {\n",
       "          clearInterval(timer);\n",
       "          console.log(\"Bokeh: ERROR: Unable to run BokehJS code because BokehJS library is missing\");\n",
       "        }\n",
       "      }\n",
       "    }, 10, root)\n",
       "  }\n",
       "})(window);"
      ],
      "application/vnd.bokehjs_exec.v0+json": ""
     },
     "metadata": {
      "application/vnd.bokehjs_exec.v0+json": {
       "id": "1207"
      }
     },
     "output_type": "display_data"
    }
   ],
   "source": [
    "%%local\n",
    "\n",
    "labels = [str(round(e, 2)) for e in hist_table['bins']]\n",
    "p = figure(\n",
    " x_range=labels,\n",
    " plot_height=350,\n",
    " title='Hist Table'\n",
    ")\n",
    "p.vbar(x=labels, top=hist_table['counts'], width=0.9)\n",
    "show(p)"
   ]
  },
  {
   "cell_type": "markdown",
   "metadata": {},
   "source": [
    "From the output, we can see our histogram of table values. We also acknowledge that there are outliers that exist, which we will attend to and possibly remove later on when we conduct outlier analysis. "
   ]
  },
  {
   "cell_type": "markdown",
   "metadata": {},
   "source": [
    "### Price Histogram"
   ]
  },
  {
   "cell_type": "markdown",
   "metadata": {},
   "source": [
    "We run the following code to create our price histogram's cut-off points. We first select the column we would like to \n",
    "visualize and convert it to an RDD level. We then flat map the column to flatten out all elements. \n",
    "Then we call the histogram method of RDD and provide the number of partitions."
   ]
  },
  {
   "cell_type": "code",
   "execution_count": 18,
   "metadata": {},
   "outputs": [
    {
     "data": {
      "application/vnd.jupyter.widget-view+json": {
       "model_id": "bdf581d09704494a84b203d1543c97eb",
       "version_major": 2,
       "version_minor": 0
      },
      "text/plain": [
       "VBox()"
      ]
     },
     "metadata": {},
     "output_type": "display_data"
    },
    {
     "data": {
      "application/vnd.jupyter.widget-view+json": {
       "model_id": "",
       "version_major": 2,
       "version_minor": 0
      },
      "text/plain": [
       "FloatProgress(value=0.0, bar_style='info', description='Progress:', layout=Layout(height='25px', width='50%'),…"
      ]
     },
     "metadata": {},
     "output_type": "display_data"
    }
   ],
   "source": [
    "#generate bins and count of each bin\n",
    "histogram_price = (\n",
    "    diamonds_df\n",
    "    .select('price')\n",
    "    .rdd\n",
    "    .flatMap(lambda record: record)\n",
    "    .histogram(10)\n",
    ")"
   ]
  },
  {
   "cell_type": "markdown",
   "metadata": {},
   "source": [
    "This cell does not generate the histogram. Its purpose is to generate the cut-off points for our histogram."
   ]
  },
  {
   "cell_type": "markdown",
   "metadata": {},
   "source": [
    "We use cell magic to export our converted pandas dataframe to the client. We do this in order to have our bins and frequencies in two separate columns. "
   ]
  },
  {
   "cell_type": "code",
   "execution_count": 19,
   "metadata": {},
   "outputs": [
    {
     "data": {
      "application/vnd.jupyter.widget-view+json": {
       "model_id": "",
       "version_major": 2,
       "version_minor": 0
      },
      "text/plain": [
       "FloatProgress(value=0.0, bar_style='info', description='Progress:', layout=Layout(height='25px', width='50%'),…"
      ]
     },
     "metadata": {},
     "output_type": "display_data"
    },
    {
     "data": {
      "application/vnd.jupyter.widget-view+json": {
       "model_id": "",
       "version_major": 2,
       "version_minor": 0
      },
      "text/plain": [
       "FloatProgress(value=0.0, bar_style='info', description='Progress:', layout=Layout(height='25px', width='50%'),…"
      ]
     },
     "metadata": {},
     "output_type": "display_data"
    }
   ],
   "source": [
    "%%spark -o hist_price\n",
    "\n",
    "import pandas as pd\n",
    "hist_price =  spark.createDataFrame(\n",
    "    list(zip(*histogram_price)), \n",
    "    ['bins', 'counts'])"
   ]
  },
  {
   "cell_type": "markdown",
   "metadata": {},
   "source": [
    "We first tell Jupyter that this is a local cell and to not send it to the cluster. We then set the parameters for our histogram and create it. We set bins as our index and we use counts for our heights. "
   ]
  },
  {
   "cell_type": "code",
   "execution_count": 20,
   "metadata": {},
   "outputs": [
    {
     "data": {
      "text/html": [
       "\n",
       "\n",
       "\n",
       "\n",
       "\n",
       "\n",
       "  <div class=\"bk-root\" id=\"d892badd-3eb6-4a4f-90f8-102fcda7b39d\" data-root-id=\"1324\"></div>\n"
      ]
     },
     "metadata": {},
     "output_type": "display_data"
    },
    {
     "data": {
      "application/javascript": [
       "(function(root) {\n",
       "  function embed_document(root) {\n",
       "    \n",
       "  var docs_json = {\"6f297694-9399-494b-a1b6-cb0b08b3747c\":{\"defs\":[{\"extends\":null,\"module\":null,\"name\":\"DataModel\",\"overrides\":[],\"properties\":[]}],\"roots\":{\"references\":[{\"attributes\":{\"below\":[{\"id\":\"1335\"}],\"center\":[{\"id\":\"1337\"},{\"id\":\"1341\"}],\"height\":350,\"left\":[{\"id\":\"1338\"}],\"renderers\":[{\"id\":\"1359\"}],\"title\":{\"id\":\"1325\"},\"toolbar\":{\"id\":\"1349\"},\"x_range\":{\"id\":\"1327\"},\"x_scale\":{\"id\":\"1331\"},\"y_range\":{\"id\":\"1329\"},\"y_scale\":{\"id\":\"1333\"}},\"id\":\"1324\",\"subtype\":\"Figure\",\"type\":\"Plot\"},{\"attributes\":{},\"id\":\"1333\",\"type\":\"LinearScale\"},{\"attributes\":{\"formatter\":{\"id\":\"1395\"},\"major_label_policy\":{\"id\":\"1396\"},\"ticker\":{\"id\":\"1336\"}},\"id\":\"1335\",\"type\":\"CategoricalAxis\"},{\"attributes\":{},\"id\":\"1339\",\"type\":\"BasicTicker\"},{\"attributes\":{},\"id\":\"1336\",\"type\":\"CategoricalTicker\"},{\"attributes\":{\"axis\":{\"id\":\"1335\"},\"ticker\":null},\"id\":\"1337\",\"type\":\"Grid\"},{\"attributes\":{\"source\":{\"id\":\"1356\"}},\"id\":\"1360\",\"type\":\"CDSView\"},{\"attributes\":{\"fill_color\":{\"value\":\"#1f77b4\"},\"line_color\":{\"value\":\"#1f77b4\"},\"top\":{\"field\":\"top\"},\"width\":{\"value\":0.9},\"x\":{\"field\":\"x\"}},\"id\":\"1357\",\"type\":\"VBar\"},{\"attributes\":{\"axis\":{\"id\":\"1338\"},\"dimension\":1,\"ticker\":null},\"id\":\"1341\",\"type\":\"Grid\"},{\"attributes\":{\"formatter\":{\"id\":\"1392\"},\"major_label_policy\":{\"id\":\"1393\"},\"ticker\":{\"id\":\"1339\"}},\"id\":\"1338\",\"type\":\"LinearAxis\"},{\"attributes\":{},\"id\":\"1392\",\"type\":\"BasicTickFormatter\"},{\"attributes\":{},\"id\":\"1399\",\"type\":\"Selection\"},{\"attributes\":{},\"id\":\"1393\",\"type\":\"AllLabels\"},{\"attributes\":{},\"id\":\"1398\",\"type\":\"UnionRenderers\"},{\"attributes\":{},\"id\":\"1395\",\"type\":\"CategoricalTickFormatter\"},{\"attributes\":{\"bottom_units\":\"screen\",\"fill_alpha\":0.5,\"fill_color\":\"lightgrey\",\"left_units\":\"screen\",\"level\":\"overlay\",\"line_alpha\":1.0,\"line_color\":\"black\",\"line_dash\":[4,4],\"line_width\":2,\"right_units\":\"screen\",\"syncable\":false,\"top_units\":\"screen\"},\"id\":\"1348\",\"type\":\"BoxAnnotation\"},{\"attributes\":{},\"id\":\"1396\",\"type\":\"AllLabels\"},{\"attributes\":{\"fill_alpha\":{\"value\":0.1},\"fill_color\":{\"value\":\"#1f77b4\"},\"line_alpha\":{\"value\":0.1},\"line_color\":{\"value\":\"#1f77b4\"},\"top\":{\"field\":\"top\"},\"width\":{\"value\":0.9},\"x\":{\"field\":\"x\"}},\"id\":\"1358\",\"type\":\"VBar\"},{\"attributes\":{\"active_multi\":null,\"tools\":[{\"id\":\"1342\"},{\"id\":\"1343\"},{\"id\":\"1344\"},{\"id\":\"1345\"},{\"id\":\"1346\"},{\"id\":\"1347\"}]},\"id\":\"1349\",\"type\":\"Toolbar\"},{\"attributes\":{},\"id\":\"1342\",\"type\":\"PanTool\"},{\"attributes\":{\"text\":\"Hist Price\"},\"id\":\"1325\",\"type\":\"Title\"},{\"attributes\":{},\"id\":\"1329\",\"type\":\"DataRange1d\"},{\"attributes\":{},\"id\":\"1343\",\"type\":\"WheelZoomTool\"},{\"attributes\":{\"factors\":[\"326.0\",\"2175.7\",\"4025.4\",\"5875.1\",\"7724.8\",\"9574.5\",\"11424.2\",\"13273.9\",\"15123.6\",\"16973.3\"]},\"id\":\"1327\",\"type\":\"FactorRange\"},{\"attributes\":{\"data\":{\"top\":[25335,9328,7393,3878,2364,1745,1306,1002,863,726],\"x\":[\"326.0\",\"2175.7\",\"4025.4\",\"5875.1\",\"7724.8\",\"9574.5\",\"11424.2\",\"13273.9\",\"15123.6\",\"16973.3\"]},\"selected\":{\"id\":\"1399\"},\"selection_policy\":{\"id\":\"1398\"}},\"id\":\"1356\",\"type\":\"ColumnDataSource\"},{\"attributes\":{\"overlay\":{\"id\":\"1348\"}},\"id\":\"1344\",\"type\":\"BoxZoomTool\"},{\"attributes\":{},\"id\":\"1345\",\"type\":\"SaveTool\"},{\"attributes\":{},\"id\":\"1331\",\"type\":\"CategoricalScale\"},{\"attributes\":{},\"id\":\"1346\",\"type\":\"ResetTool\"},{\"attributes\":{\"data_source\":{\"id\":\"1356\"},\"glyph\":{\"id\":\"1357\"},\"hover_glyph\":null,\"muted_glyph\":null,\"nonselection_glyph\":{\"id\":\"1358\"},\"view\":{\"id\":\"1360\"}},\"id\":\"1359\",\"type\":\"GlyphRenderer\"},{\"attributes\":{},\"id\":\"1347\",\"type\":\"HelpTool\"}],\"root_ids\":[\"1324\"]},\"title\":\"Bokeh Application\",\"version\":\"2.3.0\"}};\n",
       "  var render_items = [{\"docid\":\"6f297694-9399-494b-a1b6-cb0b08b3747c\",\"root_ids\":[\"1324\"],\"roots\":{\"1324\":\"d892badd-3eb6-4a4f-90f8-102fcda7b39d\"}}];\n",
       "  root.Bokeh.embed.embed_items_notebook(docs_json, render_items);\n",
       "\n",
       "  }\n",
       "  if (root.Bokeh !== undefined) {\n",
       "    embed_document(root);\n",
       "  } else {\n",
       "    var attempts = 0;\n",
       "    var timer = setInterval(function(root) {\n",
       "      if (root.Bokeh !== undefined) {\n",
       "        clearInterval(timer);\n",
       "        embed_document(root);\n",
       "      } else {\n",
       "        attempts++;\n",
       "        if (attempts > 100) {\n",
       "          clearInterval(timer);\n",
       "          console.log(\"Bokeh: ERROR: Unable to run BokehJS code because BokehJS library is missing\");\n",
       "        }\n",
       "      }\n",
       "    }, 10, root)\n",
       "  }\n",
       "})(window);"
      ],
      "application/vnd.bokehjs_exec.v0+json": ""
     },
     "metadata": {
      "application/vnd.bokehjs_exec.v0+json": {
       "id": "1324"
      }
     },
     "output_type": "display_data"
    }
   ],
   "source": [
    "%%local\n",
    "\n",
    "labels = [str(round(e, 2)) for e in hist_price['bins']]\n",
    "p = figure(\n",
    " x_range=labels,\n",
    " plot_height=350,\n",
    " title='Hist Price'\n",
    ")\n",
    "p.vbar(x=labels, top=hist_price['counts'], width=0.9)\n",
    "show(p)"
   ]
  },
  {
   "cell_type": "markdown",
   "metadata": {},
   "source": [
    "From the output, we can see our histogram of price values. We also acknowledge that there are outliers that exist, which we will attend to and possibly remove later on when we conduct outlier analysis. "
   ]
  },
  {
   "cell_type": "markdown",
   "metadata": {},
   "source": [
    "### X Histogram"
   ]
  },
  {
   "cell_type": "markdown",
   "metadata": {},
   "source": [
    "We run the following code to create our X histogram's cut-off points. We first select the column we would like to \n",
    "visualize and convert it to an RDD level. We then flat map the column to flatten out all elements. \n",
    "Then we call the histogram method of RDD and provide the number of partitions."
   ]
  },
  {
   "cell_type": "code",
   "execution_count": 21,
   "metadata": {},
   "outputs": [
    {
     "data": {
      "application/vnd.jupyter.widget-view+json": {
       "model_id": "87544c36b8704653bfefa0a9939bb27b",
       "version_major": 2,
       "version_minor": 0
      },
      "text/plain": [
       "VBox()"
      ]
     },
     "metadata": {},
     "output_type": "display_data"
    },
    {
     "data": {
      "application/vnd.jupyter.widget-view+json": {
       "model_id": "",
       "version_major": 2,
       "version_minor": 0
      },
      "text/plain": [
       "FloatProgress(value=0.0, bar_style='info', description='Progress:', layout=Layout(height='25px', width='50%'),…"
      ]
     },
     "metadata": {},
     "output_type": "display_data"
    }
   ],
   "source": [
    "#generate bins and count of each bin\n",
    "histogram_x = (\n",
    "    diamonds_df\n",
    "    .select('x')\n",
    "    .rdd\n",
    "    .flatMap(lambda record: record)\n",
    "    .histogram(5)\n",
    ")"
   ]
  },
  {
   "cell_type": "markdown",
   "metadata": {},
   "source": [
    "This cell does not generate the histogram. Its purpose is to generate the cut-off points for our histogram."
   ]
  },
  {
   "cell_type": "markdown",
   "metadata": {},
   "source": [
    "We use cell magic to export our converted pandas dataframe to the client. We do this in order to have our bins and frequencies in two separate columns. "
   ]
  },
  {
   "cell_type": "code",
   "execution_count": 22,
   "metadata": {},
   "outputs": [
    {
     "data": {
      "application/vnd.jupyter.widget-view+json": {
       "model_id": "",
       "version_major": 2,
       "version_minor": 0
      },
      "text/plain": [
       "FloatProgress(value=0.0, bar_style='info', description='Progress:', layout=Layout(height='25px', width='50%'),…"
      ]
     },
     "metadata": {},
     "output_type": "display_data"
    },
    {
     "data": {
      "application/vnd.jupyter.widget-view+json": {
       "model_id": "",
       "version_major": 2,
       "version_minor": 0
      },
      "text/plain": [
       "FloatProgress(value=0.0, bar_style='info', description='Progress:', layout=Layout(height='25px', width='50%'),…"
      ]
     },
     "metadata": {},
     "output_type": "display_data"
    }
   ],
   "source": [
    "%%spark -o hist_x\n",
    "\n",
    "import pandas as pd\n",
    "hist_x =  spark.createDataFrame(\n",
    "    list(zip(*histogram_x)), \n",
    "    ['bins', 'counts'])"
   ]
  },
  {
   "cell_type": "markdown",
   "metadata": {},
   "source": [
    "We first tell Jupyter that this is a local cell and to not send it to the cluster. We then set the parameters for our histogram and create it. We set bins as our index and we use counts for our heights. "
   ]
  },
  {
   "cell_type": "code",
   "execution_count": 23,
   "metadata": {},
   "outputs": [
    {
     "data": {
      "text/html": [
       "\n",
       "\n",
       "\n",
       "\n",
       "\n",
       "\n",
       "  <div class=\"bk-root\" id=\"30572b60-d88e-45cb-92c2-e448552a4125\" data-root-id=\"1451\"></div>\n"
      ]
     },
     "metadata": {},
     "output_type": "display_data"
    },
    {
     "data": {
      "application/javascript": [
       "(function(root) {\n",
       "  function embed_document(root) {\n",
       "    \n",
       "  var docs_json = {\"aa3d823b-3748-4629-ae23-e9211df00b2c\":{\"defs\":[{\"extends\":null,\"module\":null,\"name\":\"DataModel\",\"overrides\":[],\"properties\":[]}],\"roots\":{\"references\":[{\"attributes\":{\"below\":[{\"id\":\"1462\"}],\"center\":[{\"id\":\"1464\"},{\"id\":\"1468\"}],\"height\":350,\"left\":[{\"id\":\"1465\"}],\"renderers\":[{\"id\":\"1486\"}],\"title\":{\"id\":\"1452\"},\"toolbar\":{\"id\":\"1476\"},\"x_range\":{\"id\":\"1454\"},\"x_scale\":{\"id\":\"1458\"},\"y_range\":{\"id\":\"1456\"},\"y_scale\":{\"id\":\"1460\"}},\"id\":\"1451\",\"subtype\":\"Figure\",\"type\":\"Plot\"},{\"attributes\":{\"data\":{\"top\":[8,2934,35335,15465,198],\"x\":[\"0.0\",\"2.15\",\"4.3\",\"6.44\",\"8.59\"]},\"selected\":{\"id\":\"1536\"},\"selection_policy\":{\"id\":\"1535\"}},\"id\":\"1483\",\"type\":\"ColumnDataSource\"},{\"attributes\":{},\"id\":\"1470\",\"type\":\"WheelZoomTool\"},{\"attributes\":{\"bottom_units\":\"screen\",\"fill_alpha\":0.5,\"fill_color\":\"lightgrey\",\"left_units\":\"screen\",\"level\":\"overlay\",\"line_alpha\":1.0,\"line_color\":\"black\",\"line_dash\":[4,4],\"line_width\":2,\"right_units\":\"screen\",\"syncable\":false,\"top_units\":\"screen\"},\"id\":\"1475\",\"type\":\"BoxAnnotation\"},{\"attributes\":{},\"id\":\"1466\",\"type\":\"BasicTicker\"},{\"attributes\":{},\"id\":\"1458\",\"type\":\"CategoricalScale\"},{\"attributes\":{},\"id\":\"1532\",\"type\":\"CategoricalTickFormatter\"},{\"attributes\":{\"active_multi\":null,\"tools\":[{\"id\":\"1469\"},{\"id\":\"1470\"},{\"id\":\"1471\"},{\"id\":\"1472\"},{\"id\":\"1473\"},{\"id\":\"1474\"}]},\"id\":\"1476\",\"type\":\"Toolbar\"},{\"attributes\":{},\"id\":\"1529\",\"type\":\"BasicTickFormatter\"},{\"attributes\":{\"fill_alpha\":{\"value\":0.1},\"fill_color\":{\"value\":\"#1f77b4\"},\"line_alpha\":{\"value\":0.1},\"line_color\":{\"value\":\"#1f77b4\"},\"top\":{\"field\":\"top\"},\"width\":{\"value\":0.9},\"x\":{\"field\":\"x\"}},\"id\":\"1485\",\"type\":\"VBar\"},{\"attributes\":{\"fill_color\":{\"value\":\"#1f77b4\"},\"line_color\":{\"value\":\"#1f77b4\"},\"top\":{\"field\":\"top\"},\"width\":{\"value\":0.9},\"x\":{\"field\":\"x\"}},\"id\":\"1484\",\"type\":\"VBar\"},{\"attributes\":{},\"id\":\"1463\",\"type\":\"CategoricalTicker\"},{\"attributes\":{\"formatter\":{\"id\":\"1529\"},\"major_label_policy\":{\"id\":\"1530\"},\"ticker\":{\"id\":\"1466\"}},\"id\":\"1465\",\"type\":\"LinearAxis\"},{\"attributes\":{},\"id\":\"1533\",\"type\":\"AllLabels\"},{\"attributes\":{},\"id\":\"1474\",\"type\":\"HelpTool\"},{\"attributes\":{\"factors\":[\"0.0\",\"2.15\",\"4.3\",\"6.44\",\"8.59\"]},\"id\":\"1454\",\"type\":\"FactorRange\"},{\"attributes\":{\"axis\":{\"id\":\"1462\"},\"ticker\":null},\"id\":\"1464\",\"type\":\"Grid\"},{\"attributes\":{},\"id\":\"1535\",\"type\":\"UnionRenderers\"},{\"attributes\":{},\"id\":\"1460\",\"type\":\"LinearScale\"},{\"attributes\":{},\"id\":\"1469\",\"type\":\"PanTool\"},{\"attributes\":{},\"id\":\"1472\",\"type\":\"SaveTool\"},{\"attributes\":{},\"id\":\"1536\",\"type\":\"Selection\"},{\"attributes\":{},\"id\":\"1456\",\"type\":\"DataRange1d\"},{\"attributes\":{},\"id\":\"1473\",\"type\":\"ResetTool\"},{\"attributes\":{\"formatter\":{\"id\":\"1532\"},\"major_label_policy\":{\"id\":\"1533\"},\"ticker\":{\"id\":\"1463\"}},\"id\":\"1462\",\"type\":\"CategoricalAxis\"},{\"attributes\":{},\"id\":\"1530\",\"type\":\"AllLabels\"},{\"attributes\":{\"axis\":{\"id\":\"1465\"},\"dimension\":1,\"ticker\":null},\"id\":\"1468\",\"type\":\"Grid\"},{\"attributes\":{\"data_source\":{\"id\":\"1483\"},\"glyph\":{\"id\":\"1484\"},\"hover_glyph\":null,\"muted_glyph\":null,\"nonselection_glyph\":{\"id\":\"1485\"},\"view\":{\"id\":\"1487\"}},\"id\":\"1486\",\"type\":\"GlyphRenderer\"},{\"attributes\":{\"source\":{\"id\":\"1483\"}},\"id\":\"1487\",\"type\":\"CDSView\"},{\"attributes\":{\"text\":\"Hist X\"},\"id\":\"1452\",\"type\":\"Title\"},{\"attributes\":{\"overlay\":{\"id\":\"1475\"}},\"id\":\"1471\",\"type\":\"BoxZoomTool\"}],\"root_ids\":[\"1451\"]},\"title\":\"Bokeh Application\",\"version\":\"2.3.0\"}};\n",
       "  var render_items = [{\"docid\":\"aa3d823b-3748-4629-ae23-e9211df00b2c\",\"root_ids\":[\"1451\"],\"roots\":{\"1451\":\"30572b60-d88e-45cb-92c2-e448552a4125\"}}];\n",
       "  root.Bokeh.embed.embed_items_notebook(docs_json, render_items);\n",
       "\n",
       "  }\n",
       "  if (root.Bokeh !== undefined) {\n",
       "    embed_document(root);\n",
       "  } else {\n",
       "    var attempts = 0;\n",
       "    var timer = setInterval(function(root) {\n",
       "      if (root.Bokeh !== undefined) {\n",
       "        clearInterval(timer);\n",
       "        embed_document(root);\n",
       "      } else {\n",
       "        attempts++;\n",
       "        if (attempts > 100) {\n",
       "          clearInterval(timer);\n",
       "          console.log(\"Bokeh: ERROR: Unable to run BokehJS code because BokehJS library is missing\");\n",
       "        }\n",
       "      }\n",
       "    }, 10, root)\n",
       "  }\n",
       "})(window);"
      ],
      "application/vnd.bokehjs_exec.v0+json": ""
     },
     "metadata": {
      "application/vnd.bokehjs_exec.v0+json": {
       "id": "1451"
      }
     },
     "output_type": "display_data"
    }
   ],
   "source": [
    "%%local\n",
    "\n",
    "labels = [str(round(e, 2)) for e in hist_x['bins']]\n",
    "p = figure(\n",
    " x_range=labels,\n",
    " plot_height=350,\n",
    " title='Hist X'\n",
    ")\n",
    "p.vbar(x=labels, top=hist_x['counts'], width=0.9)\n",
    "show(p)"
   ]
  },
  {
   "cell_type": "markdown",
   "metadata": {},
   "source": [
    "From the output, we can see our histogram of X values. We also acknowledge that there are outliers that exist, which we will attend to and possibly remove later on when we conduct outlier analysis. "
   ]
  },
  {
   "cell_type": "markdown",
   "metadata": {},
   "source": [
    "### Y Histogram"
   ]
  },
  {
   "cell_type": "markdown",
   "metadata": {},
   "source": [
    "We run the following code to create our Y histogram's cut-off points. We first select the column we would like to \n",
    "visualize and convert it to an RDD level. We then flat map the column to flatten out all elements. \n",
    "Then we call the histogram method of RDD and provide the number of partitions."
   ]
  },
  {
   "cell_type": "code",
   "execution_count": 24,
   "metadata": {},
   "outputs": [
    {
     "data": {
      "application/vnd.jupyter.widget-view+json": {
       "model_id": "a24e6d731d43492b888f55882a924db1",
       "version_major": 2,
       "version_minor": 0
      },
      "text/plain": [
       "VBox()"
      ]
     },
     "metadata": {},
     "output_type": "display_data"
    },
    {
     "data": {
      "application/vnd.jupyter.widget-view+json": {
       "model_id": "",
       "version_major": 2,
       "version_minor": 0
      },
      "text/plain": [
       "FloatProgress(value=0.0, bar_style='info', description='Progress:', layout=Layout(height='25px', width='50%'),…"
      ]
     },
     "metadata": {},
     "output_type": "display_data"
    }
   ],
   "source": [
    "#generate bins and count of each bin\n",
    "histogram_y = (\n",
    "    diamonds_df\n",
    "    .select('y')\n",
    "    .rdd\n",
    "    .flatMap(lambda record: record)\n",
    "    .histogram(5)\n",
    ")"
   ]
  },
  {
   "cell_type": "markdown",
   "metadata": {},
   "source": [
    "This cell does not generate the histogram. Its purpose is to generate the cut-off points for our histogram."
   ]
  },
  {
   "cell_type": "markdown",
   "metadata": {},
   "source": [
    "We use cell magic to export our converted pandas dataframe to the client. We do this in order to have our bins and frequencies in two separate columns. "
   ]
  },
  {
   "cell_type": "code",
   "execution_count": 25,
   "metadata": {},
   "outputs": [
    {
     "data": {
      "application/vnd.jupyter.widget-view+json": {
       "model_id": "",
       "version_major": 2,
       "version_minor": 0
      },
      "text/plain": [
       "FloatProgress(value=0.0, bar_style='info', description='Progress:', layout=Layout(height='25px', width='50%'),…"
      ]
     },
     "metadata": {},
     "output_type": "display_data"
    },
    {
     "data": {
      "application/vnd.jupyter.widget-view+json": {
       "model_id": "",
       "version_major": 2,
       "version_minor": 0
      },
      "text/plain": [
       "FloatProgress(value=0.0, bar_style='info', description='Progress:', layout=Layout(height='25px', width='50%'),…"
      ]
     },
     "metadata": {},
     "output_type": "display_data"
    }
   ],
   "source": [
    "%%spark -o hist_y\n",
    "\n",
    "import pandas as pd\n",
    "hist_y =  spark.createDataFrame(\n",
    "    list(zip(*histogram_y)), \n",
    "    ['bins', 'counts'])"
   ]
  },
  {
   "cell_type": "markdown",
   "metadata": {},
   "source": [
    "We first tell Jupyter that this is a local cell and to not send it to the cluster. We then set the parameters for our histogram and create it. We set bins as our index and we use counts for our heights. "
   ]
  },
  {
   "cell_type": "code",
   "execution_count": 26,
   "metadata": {},
   "outputs": [
    {
     "data": {
      "text/html": [
       "\n",
       "\n",
       "\n",
       "\n",
       "\n",
       "\n",
       "  <div class=\"bk-root\" id=\"693ae19d-f315-4ca4-a085-94621e1880d3\" data-root-id=\"1588\"></div>\n"
      ]
     },
     "metadata": {},
     "output_type": "display_data"
    },
    {
     "data": {
      "application/javascript": [
       "(function(root) {\n",
       "  function embed_document(root) {\n",
       "    \n",
       "  var docs_json = {\"f389b6ae-44f0-4357-8415-8b20eab386c2\":{\"defs\":[{\"extends\":null,\"module\":null,\"name\":\"DataModel\",\"overrides\":[],\"properties\":[]}],\"roots\":{\"references\":[{\"attributes\":{\"below\":[{\"id\":\"1599\"}],\"center\":[{\"id\":\"1601\"},{\"id\":\"1605\"}],\"height\":350,\"left\":[{\"id\":\"1602\"}],\"renderers\":[{\"id\":\"1623\"}],\"title\":{\"id\":\"1589\"},\"toolbar\":{\"id\":\"1613\"},\"x_range\":{\"id\":\"1591\"},\"x_scale\":{\"id\":\"1595\"},\"y_range\":{\"id\":\"1593\"},\"y_scale\":{\"id\":\"1597\"}},\"id\":\"1588\",\"subtype\":\"Figure\",\"type\":\"Plot\"},{\"attributes\":{},\"id\":\"1603\",\"type\":\"BasicTicker\"},{\"attributes\":{},\"id\":\"1606\",\"type\":\"PanTool\"},{\"attributes\":{},\"id\":\"1682\",\"type\":\"UnionRenderers\"},{\"attributes\":{\"bottom_units\":\"screen\",\"fill_alpha\":0.5,\"fill_color\":\"lightgrey\",\"left_units\":\"screen\",\"level\":\"overlay\",\"line_alpha\":1.0,\"line_color\":\"black\",\"line_dash\":[4,4],\"line_width\":2,\"right_units\":\"screen\",\"syncable\":false,\"top_units\":\"screen\"},\"id\":\"1612\",\"type\":\"BoxAnnotation\"},{\"attributes\":{},\"id\":\"1609\",\"type\":\"SaveTool\"},{\"attributes\":{},\"id\":\"1679\",\"type\":\"CategoricalTickFormatter\"},{\"attributes\":{\"axis\":{\"id\":\"1599\"},\"ticker\":null},\"id\":\"1601\",\"type\":\"Grid\"},{\"attributes\":{\"formatter\":{\"id\":\"1679\"},\"major_label_policy\":{\"id\":\"1680\"},\"ticker\":{\"id\":\"1600\"}},\"id\":\"1599\",\"type\":\"CategoricalAxis\"},{\"attributes\":{},\"id\":\"1680\",\"type\":\"AllLabels\"},{\"attributes\":{\"axis\":{\"id\":\"1602\"},\"dimension\":1,\"ticker\":null},\"id\":\"1605\",\"type\":\"Grid\"},{\"attributes\":{\"source\":{\"id\":\"1620\"}},\"id\":\"1624\",\"type\":\"CDSView\"},{\"attributes\":{},\"id\":\"1607\",\"type\":\"WheelZoomTool\"},{\"attributes\":{\"text\":\"Hist Y\"},\"id\":\"1589\",\"type\":\"Title\"},{\"attributes\":{},\"id\":\"1600\",\"type\":\"CategoricalTicker\"},{\"attributes\":{},\"id\":\"1610\",\"type\":\"ResetTool\"},{\"attributes\":{},\"id\":\"1597\",\"type\":\"LinearScale\"},{\"attributes\":{\"active_multi\":null,\"tools\":[{\"id\":\"1606\"},{\"id\":\"1607\"},{\"id\":\"1608\"},{\"id\":\"1609\"},{\"id\":\"1610\"},{\"id\":\"1611\"}]},\"id\":\"1613\",\"type\":\"Toolbar\"},{\"attributes\":{},\"id\":\"1676\",\"type\":\"BasicTickFormatter\"},{\"attributes\":{},\"id\":\"1611\",\"type\":\"HelpTool\"},{\"attributes\":{\"fill_alpha\":{\"value\":0.1},\"fill_color\":{\"value\":\"#1f77b4\"},\"line_alpha\":{\"value\":0.1},\"line_color\":{\"value\":\"#1f77b4\"},\"top\":{\"field\":\"top\"},\"width\":{\"value\":0.9},\"x\":{\"field\":\"x\"}},\"id\":\"1622\",\"type\":\"VBar\"},{\"attributes\":{\"factors\":[\"0.0\",\"11.78\",\"23.56\",\"35.34\",\"47.12\"]},\"id\":\"1591\",\"type\":\"FactorRange\"},{\"attributes\":{\"overlay\":{\"id\":\"1612\"}},\"id\":\"1608\",\"type\":\"BoxZoomTool\"},{\"attributes\":{},\"id\":\"1593\",\"type\":\"DataRange1d\"},{\"attributes\":{},\"id\":\"1595\",\"type\":\"CategoricalScale\"},{\"attributes\":{\"data_source\":{\"id\":\"1620\"},\"glyph\":{\"id\":\"1621\"},\"hover_glyph\":null,\"muted_glyph\":null,\"nonselection_glyph\":{\"id\":\"1622\"},\"view\":{\"id\":\"1624\"}},\"id\":\"1623\",\"type\":\"GlyphRenderer\"},{\"attributes\":{},\"id\":\"1683\",\"type\":\"Selection\"},{\"attributes\":{\"fill_color\":{\"value\":\"#1f77b4\"},\"line_color\":{\"value\":\"#1f77b4\"},\"top\":{\"field\":\"top\"},\"width\":{\"value\":0.9},\"x\":{\"field\":\"x\"}},\"id\":\"1621\",\"type\":\"VBar\"},{\"attributes\":{\"data\":{\"top\":[53938,0,1,0,1],\"x\":[\"0.0\",\"11.78\",\"23.56\",\"35.34\",\"47.12\"]},\"selected\":{\"id\":\"1683\"},\"selection_policy\":{\"id\":\"1682\"}},\"id\":\"1620\",\"type\":\"ColumnDataSource\"},{\"attributes\":{},\"id\":\"1677\",\"type\":\"AllLabels\"},{\"attributes\":{\"formatter\":{\"id\":\"1676\"},\"major_label_policy\":{\"id\":\"1677\"},\"ticker\":{\"id\":\"1603\"}},\"id\":\"1602\",\"type\":\"LinearAxis\"}],\"root_ids\":[\"1588\"]},\"title\":\"Bokeh Application\",\"version\":\"2.3.0\"}};\n",
       "  var render_items = [{\"docid\":\"f389b6ae-44f0-4357-8415-8b20eab386c2\",\"root_ids\":[\"1588\"],\"roots\":{\"1588\":\"693ae19d-f315-4ca4-a085-94621e1880d3\"}}];\n",
       "  root.Bokeh.embed.embed_items_notebook(docs_json, render_items);\n",
       "\n",
       "  }\n",
       "  if (root.Bokeh !== undefined) {\n",
       "    embed_document(root);\n",
       "  } else {\n",
       "    var attempts = 0;\n",
       "    var timer = setInterval(function(root) {\n",
       "      if (root.Bokeh !== undefined) {\n",
       "        clearInterval(timer);\n",
       "        embed_document(root);\n",
       "      } else {\n",
       "        attempts++;\n",
       "        if (attempts > 100) {\n",
       "          clearInterval(timer);\n",
       "          console.log(\"Bokeh: ERROR: Unable to run BokehJS code because BokehJS library is missing\");\n",
       "        }\n",
       "      }\n",
       "    }, 10, root)\n",
       "  }\n",
       "})(window);"
      ],
      "application/vnd.bokehjs_exec.v0+json": ""
     },
     "metadata": {
      "application/vnd.bokehjs_exec.v0+json": {
       "id": "1588"
      }
     },
     "output_type": "display_data"
    }
   ],
   "source": [
    "%%local\n",
    "\n",
    "labels = [str(round(e, 2)) for e in hist_y['bins']]\n",
    "p = figure(\n",
    " x_range=labels,\n",
    " plot_height=350,\n",
    " title='Hist Y'\n",
    ")\n",
    "p.vbar(x=labels, top=hist_y['counts'], width=0.9)\n",
    "show(p)"
   ]
  },
  {
   "cell_type": "markdown",
   "metadata": {},
   "source": [
    "From the output, we can see our histogram of Y values. We also acknowledge that there are outliers that exist, which we will attend to and possibly remove later on when we conduct outlier analysis. "
   ]
  },
  {
   "cell_type": "markdown",
   "metadata": {},
   "source": [
    "### Z Histogram"
   ]
  },
  {
   "cell_type": "markdown",
   "metadata": {},
   "source": [
    "We run the following code to create our Z histogram's cut-off points. We first select the column we would like to \n",
    "visualize and convert it to an RDD level. We then flat map the column to flatten out all elements. \n",
    "Then we call the histogram method of RDD and provide the number of partitions."
   ]
  },
  {
   "cell_type": "code",
   "execution_count": null,
   "metadata": {},
   "outputs": [
    {
     "data": {
      "application/vnd.jupyter.widget-view+json": {
       "model_id": "ecb9b35bb1a44863b1ce8750adf27246",
       "version_major": 2,
       "version_minor": 0
      },
      "text/plain": [
       "VBox()"
      ]
     },
     "metadata": {},
     "output_type": "display_data"
    },
    {
     "data": {
      "application/vnd.jupyter.widget-view+json": {
       "model_id": "cb40a41487434373992f1e6d4f6aea3d",
       "version_major": 2,
       "version_minor": 0
      },
      "text/plain": [
       "FloatProgress(value=0.0, bar_style='info', description='Progress:', layout=Layout(height='25px', width='50%'),…"
      ]
     },
     "metadata": {},
     "output_type": "display_data"
    }
   ],
   "source": [
    "#generate bins and count of each bin\n",
    "histogram_z = (\n",
    "    diamonds_df\n",
    "    .select('z')\n",
    "    .rdd\n",
    "    .flatMap(lambda record: record)\n",
    "    .histogram(5)\n",
    ")"
   ]
  },
  {
   "cell_type": "markdown",
   "metadata": {},
   "source": [
    "This cell does not generate the histogram. Its purpose is to generate the cut-off points for our histogram."
   ]
  },
  {
   "cell_type": "markdown",
   "metadata": {},
   "source": [
    "We use cell magic to export our converted pandas dataframe to the client. We do this in order to have our bins and frequencies in two separate columns. "
   ]
  },
  {
   "cell_type": "code",
   "execution_count": null,
   "metadata": {},
   "outputs": [],
   "source": [
    "%%spark -o hist_z\n",
    "\n",
    "import pandas as pd\n",
    "hist_z =  spark.createDataFrame(\n",
    "    list(zip(*histogram_z)), \n",
    "    ['bins', 'counts'])"
   ]
  },
  {
   "cell_type": "markdown",
   "metadata": {},
   "source": [
    "We first tell Jupyter that this is a local cell and to not send it to the cluster. We then set the parameters for our histogram and create it. We set bins as our index and we use counts for our heights. "
   ]
  },
  {
   "cell_type": "code",
   "execution_count": null,
   "metadata": {
    "scrolled": true
   },
   "outputs": [],
   "source": [
    "%%local\n",
    "\n",
    "labels = [str(round(e, 2)) for e in hist_z['bins']]\n",
    "p = figure(\n",
    " x_range=labels,\n",
    " plot_height=350,\n",
    " title='Hist Z'\n",
    ")\n",
    "p.vbar(x=labels, top=hist_z['counts'], width=0.9)\n",
    "show(p)"
   ]
  },
  {
   "cell_type": "markdown",
   "metadata": {},
   "source": [
    "From the output, we can see our histogram of Z values. We also acknowledge that there are outliers that exist, which we will attend to and possibly remove later on when we conduct outlier analysis. "
   ]
  },
  {
   "cell_type": "markdown",
   "metadata": {},
   "source": [
    "### Cut Bar Graph"
   ]
  },
  {
   "cell_type": "markdown",
   "metadata": {},
   "source": [
    "Using Spark cell magic, we send the dataframe to the client. We then group column \"cut\" by its count in each type of cut and sort by descending order. "
   ]
  },
  {
   "cell_type": "code",
   "execution_count": null,
   "metadata": {},
   "outputs": [],
   "source": [
    "%%spark -o df_cut \n",
    "df_cut = diamonds_df.groupby(\"cut\").count().sort(col(\"count\").desc())"
   ]
  },
  {
   "cell_type": "code",
   "execution_count": null,
   "metadata": {},
   "outputs": [
    {
     "data": {
      "application/vnd.jupyter.widget-view+json": {
       "model_id": "f7e3817edf1c4c48889da3cce20fc59e",
       "version_major": 2,
       "version_minor": 0
      },
      "text/plain": [
       "VBox()"
      ]
     },
     "metadata": {},
     "output_type": "display_data"
    },
    {
     "data": {
      "application/vnd.jupyter.widget-view+json": {
       "model_id": "",
       "version_major": 2,
       "version_minor": 0
      },
      "text/plain": [
       "FloatProgress(value=0.0, bar_style='info', description='Progress:', layout=Layout(height='25px', width='50%'),…"
      ]
     },
     "metadata": {},
     "output_type": "display_data"
    },
    {
     "name": "stdout",
     "output_type": "stream",
     "text": [
      "+---------+-----+\n",
      "|      cut|count|\n",
      "+---------+-----+\n",
      "|    Ideal|21551|\n",
      "|  Premium|13791|\n",
      "|Very Good|12082|\n",
      "|     Good| 4906|\n",
      "|     Fair| 1610|\n",
      "+---------+-----+"
     ]
    }
   ],
   "source": [
    "df_cut"
   ]
  },
  {
   "cell_type": "markdown",
   "metadata": {},
   "source": [
    "From the output, we can see our dataframe of count per type of cut in descending order."
   ]
  },
  {
   "cell_type": "markdown",
   "metadata": {},
   "source": [
    "First, we make our plot output appear and be stored within the notebook. We then import matplotlib to create our bar chart."
   ]
  },
  {
   "cell_type": "code",
   "execution_count": null,
   "metadata": {},
   "outputs": [
    {
     "data": {
      "application/vnd.jupyter.widget-view+json": {
       "model_id": "10d7dc491b2b430abf0a116783958aac",
       "version_major": 2,
       "version_minor": 0
      },
      "text/plain": [
       "VBox(children=(HBox(children=(HTML(value='Type:'), Button(description='Table', layout=Layout(width='70px'), st…"
      ]
     },
     "metadata": {},
     "output_type": "display_data"
    },
    {
     "data": {
      "application/vnd.jupyter.widget-view+json": {
       "model_id": "2dca6684bda54d089a0b90bc0a48b892",
       "version_major": 2,
       "version_minor": 0
      },
      "text/plain": [
       "Output()"
      ]
     },
     "metadata": {},
     "output_type": "display_data"
    }
   ],
   "source": [
    "%matplotlib inline\n",
    "import matplotlib\n",
    "import matplotlib.pyplot as plt\n",
    "df_cut"
   ]
  },
  {
   "cell_type": "markdown",
   "metadata": {},
   "source": [
    "From the output we can see our bar chart of cut."
   ]
  },
  {
   "cell_type": "markdown",
   "metadata": {},
   "source": [
    "### Color Bar Chart"
   ]
  },
  {
   "cell_type": "markdown",
   "metadata": {},
   "source": [
    "Using Spark cell magic, we send the dataframe to the client. We then group column \"color\" by its count in each type of color and sort by descending order. "
   ]
  },
  {
   "cell_type": "code",
   "execution_count": null,
   "metadata": {},
   "outputs": [
    {
     "data": {
      "application/vnd.jupyter.widget-view+json": {
       "model_id": "",
       "version_major": 2,
       "version_minor": 0
      },
      "text/plain": [
       "FloatProgress(value=0.0, bar_style='info', description='Progress:', layout=Layout(height='25px', width='50%'),…"
      ]
     },
     "metadata": {},
     "output_type": "display_data"
    },
    {
     "data": {
      "application/vnd.jupyter.widget-view+json": {
       "model_id": "",
       "version_major": 2,
       "version_minor": 0
      },
      "text/plain": [
       "FloatProgress(value=0.0, bar_style='info', description='Progress:', layout=Layout(height='25px', width='50%'),…"
      ]
     },
     "metadata": {},
     "output_type": "display_data"
    }
   ],
   "source": [
    "%%spark -o df_color \n",
    "df_color = diamonds_df.groupby(\"color\").count().sort(col(\"count\").desc())"
   ]
  },
  {
   "cell_type": "markdown",
   "metadata": {},
   "source": [
    "First, we make our plot output appear and be stored within the notebook. We then import matplotlib to create our bar chart."
   ]
  },
  {
   "cell_type": "code",
   "execution_count": null,
   "metadata": {},
   "outputs": [
    {
     "data": {
      "application/vnd.jupyter.widget-view+json": {
       "model_id": "87ba70b8117d4fb89228de4e5f6912b6",
       "version_major": 2,
       "version_minor": 0
      },
      "text/plain": [
       "VBox(children=(HBox(children=(HTML(value='Type:'), Button(description='Table', layout=Layout(width='70px'), st…"
      ]
     },
     "metadata": {},
     "output_type": "display_data"
    },
    {
     "data": {
      "application/vnd.jupyter.widget-view+json": {
       "model_id": "4ec3bf603f25450e814d27f36f088cec",
       "version_major": 2,
       "version_minor": 0
      },
      "text/plain": [
       "Output()"
      ]
     },
     "metadata": {},
     "output_type": "display_data"
    }
   ],
   "source": [
    "%matplotlib inline\n",
    "import matplotlib\n",
    "import matplotlib.pyplot as plt\n",
    "df_color"
   ]
  },
  {
   "cell_type": "markdown",
   "metadata": {},
   "source": [
    "From the output we can see our bar chart of color."
   ]
  },
  {
   "cell_type": "markdown",
   "metadata": {},
   "source": [
    "### Clarity Bar Chart"
   ]
  },
  {
   "cell_type": "markdown",
   "metadata": {},
   "source": [
    "Using Spark cell magic, we send the dataframe to the client. We then group column \"clarity\" by its count in each type of clarity and sort by descending order. "
   ]
  },
  {
   "cell_type": "code",
   "execution_count": null,
   "metadata": {},
   "outputs": [
    {
     "data": {
      "application/vnd.jupyter.widget-view+json": {
       "model_id": "",
       "version_major": 2,
       "version_minor": 0
      },
      "text/plain": [
       "FloatProgress(value=0.0, bar_style='info', description='Progress:', layout=Layout(height='25px', width='50%'),…"
      ]
     },
     "metadata": {},
     "output_type": "display_data"
    },
    {
     "data": {
      "application/vnd.jupyter.widget-view+json": {
       "model_id": "",
       "version_major": 2,
       "version_minor": 0
      },
      "text/plain": [
       "FloatProgress(value=0.0, bar_style='info', description='Progress:', layout=Layout(height='25px', width='50%'),…"
      ]
     },
     "metadata": {},
     "output_type": "display_data"
    }
   ],
   "source": [
    "%%spark -o df_clarity \n",
    "df_clarity = diamonds_df.groupby(\"clarity\").count().sort(col(\"count\").desc())"
   ]
  },
  {
   "cell_type": "markdown",
   "metadata": {},
   "source": [
    "First, we make our plot output appear and be stored within the notebook. We then import matplotlib to create our bar chart."
   ]
  },
  {
   "cell_type": "code",
   "execution_count": null,
   "metadata": {},
   "outputs": [
    {
     "data": {
      "application/vnd.jupyter.widget-view+json": {
       "model_id": "7b444241707146eeb94e952066825879",
       "version_major": 2,
       "version_minor": 0
      },
      "text/plain": [
       "VBox(children=(HBox(children=(HTML(value='Type:'), Button(description='Table', layout=Layout(width='70px'), st…"
      ]
     },
     "metadata": {},
     "output_type": "display_data"
    },
    {
     "data": {
      "application/vnd.jupyter.widget-view+json": {
       "model_id": "a8e6cff622fa40708a64760989ab7ee0",
       "version_major": 2,
       "version_minor": 0
      },
      "text/plain": [
       "Output()"
      ]
     },
     "metadata": {},
     "output_type": "display_data"
    }
   ],
   "source": [
    "%matplotlib inline\n",
    "import matplotlib\n",
    "import matplotlib.pyplot as plt\n",
    "df_clarity"
   ]
  },
  {
   "cell_type": "markdown",
   "metadata": {},
   "source": [
    "From the output we can see our bar chart of clarity."
   ]
  },
  {
   "cell_type": "markdown",
   "metadata": {},
   "source": [
    "### Scatterplot #1"
   ]
  },
  {
   "cell_type": "markdown",
   "metadata": {},
   "source": [
    "We export this dataframe to the client that contains columns \"carat\" and \"price\" using Spark magic. The Spark magic will not export the entire dataframe because it may be too large. By default, it will take a sample of 2,500 records."
   ]
  },
  {
   "cell_type": "code",
   "execution_count": null,
   "metadata": {},
   "outputs": [
    {
     "data": {
      "application/vnd.jupyter.widget-view+json": {
       "model_id": "",
       "version_major": 2,
       "version_minor": 0
      },
      "text/plain": [
       "FloatProgress(value=0.0, bar_style='info', description='Progress:', layout=Layout(height='25px', width='50%'),…"
      ]
     },
     "metadata": {},
     "output_type": "display_data"
    },
    {
     "data": {
      "application/vnd.jupyter.widget-view+json": {
       "model_id": "",
       "version_major": 2,
       "version_minor": 0
      },
      "text/plain": [
       "FloatProgress(value=0.0, bar_style='info', description='Progress:', layout=Layout(height='25px', width='50%'),…"
      ]
     },
     "metadata": {},
     "output_type": "display_data"
    }
   ],
   "source": [
    "%%spark -o scatter\n",
    "\n",
    "scatter = (\n",
    "    diamonds_df\n",
    "    .select('carat', 'price')\n",
    ")"
   ]
  },
  {
   "cell_type": "markdown",
   "metadata": {},
   "source": [
    "Run locally, we receive a pandas dataframe by the same name of \"scatter\"."
   ]
  },
  {
   "cell_type": "markdown",
   "metadata": {},
   "source": [
    "First, we make our plot output appear and be stored within the notebook. We then import matplotlib to create our bar chart. Next, we provide the variables we want to be scattered, provide labels, and location of the legend."
   ]
  },
  {
   "cell_type": "code",
   "execution_count": null,
   "metadata": {},
   "outputs": [
    {
     "data": {
      "image/png": "[encoded data removed]",
      "text/plain": [
       "<Figure size 432x288 with 1 Axes>"
      ]
     },
     "metadata": {
      "needs_background": "light"
     },
     "output_type": "display_data"
    }
   ],
   "source": [
    "%matplotlib inline\n",
    "import matplotlib.pyplot as plt\n",
    "\n",
    "plt.scatter( list(scatter['carat'])\n",
    "         , list(scatter['price']), \n",
    "            label=\"Relationship between price and carat\")\n",
    "plt.xlabel(\"carat\")\n",
    "plt.ylabel(\"price\")\n",
    "plt.legend(loc='upper left')\n",
    "plt.show()"
   ]
  },
  {
   "cell_type": "markdown",
   "metadata": {},
   "source": [
    "From the output we can see our scatter plot of the relationship between price and carat. As carat increases, price remains relatively the same."
   ]
  },
  {
   "cell_type": "markdown",
   "metadata": {},
   "source": [
    "### Scatterplot #2"
   ]
  },
  {
   "cell_type": "markdown",
   "metadata": {},
   "source": [
    "We export this dataframe to the client that contains columns \"price\" and \"depth\" using Spark magic. The Spark magic will not export the entire dataframe because it may be too large. By default, it will take a sample of 2,500 records."
   ]
  },
  {
   "cell_type": "code",
   "execution_count": null,
   "metadata": {},
   "outputs": [
    {
     "data": {
      "application/vnd.jupyter.widget-view+json": {
       "model_id": "",
       "version_major": 2,
       "version_minor": 0
      },
      "text/plain": [
       "FloatProgress(value=0.0, bar_style='info', description='Progress:', layout=Layout(height='25px', width='50%'),…"
      ]
     },
     "metadata": {},
     "output_type": "display_data"
    },
    {
     "data": {
      "application/vnd.jupyter.widget-view+json": {
       "model_id": "",
       "version_major": 2,
       "version_minor": 0
      },
      "text/plain": [
       "FloatProgress(value=0.0, bar_style='info', description='Progress:', layout=Layout(height='25px', width='50%'),…"
      ]
     },
     "metadata": {},
     "output_type": "display_data"
    }
   ],
   "source": [
    "%%spark -o scatter\n",
    "#spark magic moves dataframe to local\n",
    "#By default it gets a sample of 2500 but you can change it\n",
    "scatter = (\n",
    "    diamonds_df\n",
    "    .select('price', 'depth')\n",
    ")"
   ]
  },
  {
   "cell_type": "markdown",
   "metadata": {},
   "source": [
    "Run locally, we receive a pandas dataframe by the same name of \"scatter\"."
   ]
  },
  {
   "cell_type": "markdown",
   "metadata": {},
   "source": [
    "First, we make our plot output appear and be stored within the notebook. We then import matplotlib to create our bar chart. Next, we provide the variables we want to be scattered, provide labels, and location of the legend."
   ]
  },
  {
   "cell_type": "code",
   "execution_count": null,
   "metadata": {},
   "outputs": [
    {
     "data": {
      "image/png": "[encoded data removed]",
      "text/plain": [
       "<Figure size 432x288 with 1 Axes>"
      ]
     },
     "metadata": {
      "needs_background": "light"
     },
     "output_type": "display_data"
    }
   ],
   "source": [
    "%matplotlib inline\n",
    "import matplotlib.pyplot as plt\n",
    "\n",
    "plt.scatter( list(scatter['price'])\n",
    "         , list(scatter['depth']), \n",
    "            label=\"Relationship between price and depth\")\n",
    "plt.xlabel(\"price\")\n",
    "plt.ylabel(\"depth\")\n",
    "plt.legend(loc='upper left')\n",
    "plt.show()"
   ]
  },
  {
   "cell_type": "markdown",
   "metadata": {},
   "source": [
    "From the output we can see our scatter plot of the relationship between price and depth. As depth increases, price remains relatively the same."
   ]
  },
  {
   "cell_type": "markdown",
   "metadata": {},
   "source": [
    "### Scatterplot #3"
   ]
  },
  {
   "cell_type": "markdown",
   "metadata": {},
   "source": [
    "We export this dataframe to the client that contains columns \"table\" and \"depth\" using Spark magic. The Spark magic will not export the entire dataframe because it may be too large. By default, it will take a sample of 2,500 records."
   ]
  },
  {
   "cell_type": "code",
   "execution_count": null,
   "metadata": {},
   "outputs": [
    {
     "data": {
      "application/vnd.jupyter.widget-view+json": {
       "model_id": "",
       "version_major": 2,
       "version_minor": 0
      },
      "text/plain": [
       "FloatProgress(value=0.0, bar_style='info', description='Progress:', layout=Layout(height='25px', width='50%'),…"
      ]
     },
     "metadata": {},
     "output_type": "display_data"
    },
    {
     "data": {
      "application/vnd.jupyter.widget-view+json": {
       "model_id": "",
       "version_major": 2,
       "version_minor": 0
      },
      "text/plain": [
       "FloatProgress(value=0.0, bar_style='info', description='Progress:', layout=Layout(height='25px', width='50%'),…"
      ]
     },
     "metadata": {},
     "output_type": "display_data"
    }
   ],
   "source": [
    "%%spark -o scatter\n",
    "#spark magic moves dataframe to local\n",
    "#By default it gets a sample of 2500 but you can change it\n",
    "scatter = (\n",
    "    diamonds_df\n",
    "    .select('table', 'depth')\n",
    ")"
   ]
  },
  {
   "cell_type": "markdown",
   "metadata": {},
   "source": [
    "Run locally, we receive a pandas dataframe by the same name of \"scatter\"."
   ]
  },
  {
   "cell_type": "markdown",
   "metadata": {},
   "source": [
    "First, we make our plot output appear and be stored within the notebook. We then import matplotlib to create our bar chart. Next, we provide the variables we want to be scattered, provide labels, and location of the legend."
   ]
  },
  {
   "cell_type": "code",
   "execution_count": null,
   "metadata": {},
   "outputs": [
    {
     "data": {
      "image/png": "[encoded data removed]",
      "text/plain": [
       "<Figure size 432x288 with 1 Axes>"
      ]
     },
     "metadata": {
      "needs_background": "light"
     },
     "output_type": "display_data"
    }
   ],
   "source": [
    "%matplotlib inline\n",
    "import matplotlib.pyplot as plt\n",
    "\n",
    "plt.scatter( list(scatter['table'])\n",
    "         , list(scatter['depth']), \n",
    "            label=\"Relationship between table and depth\")\n",
    "plt.xlabel(\"table\")\n",
    "plt.ylabel(\"depth\")\n",
    "plt.legend(loc='upper left')\n",
    "plt.show()"
   ]
  },
  {
   "cell_type": "markdown",
   "metadata": {},
   "source": [
    "From the output we can see our scatter plot of the relationship between table and depth. As table increases, depth appears to slightly decrease."
   ]
  },
  {
   "cell_type": "markdown",
   "metadata": {},
   "source": [
    "## Outlier Analysis"
   ]
  },
  {
   "cell_type": "markdown",
   "metadata": {},
   "source": [
    "### Carat Column"
   ]
  },
  {
   "cell_type": "markdown",
   "metadata": {},
   "source": [
    "We begin cleansing our data by removing outliers. We do this by observing the visualization we made via the carat histogram. We see that there are outliers that are greater than the value 2.6. We want to filter on our dataframe to values less than 2.6, where most of our data is found for this column. "
   ]
  },
  {
   "cell_type": "code",
   "execution_count": null,
   "metadata": {},
   "outputs": [
    {
     "data": {
      "application/vnd.jupyter.widget-view+json": {
       "model_id": "2c334de6936e48239ef5ab19dc2c3766",
       "version_major": 2,
       "version_minor": 0
      },
      "text/plain": [
       "VBox()"
      ]
     },
     "metadata": {},
     "output_type": "display_data"
    },
    {
     "data": {
      "application/vnd.jupyter.widget-view+json": {
       "model_id": "",
       "version_major": 2,
       "version_minor": 0
      },
      "text/plain": [
       "FloatProgress(value=0.0, bar_style='info', description='Progress:', layout=Layout(height='25px', width='50%'),…"
      ]
     },
     "metadata": {},
     "output_type": "display_data"
    }
   ],
   "source": [
    "diamonds_df = (\n",
    "    diamonds_df\n",
    "    .filter(diamonds_df.carat < 2.6)\n",
    ")"
   ]
  },
  {
   "cell_type": "markdown",
   "metadata": {},
   "source": [
    "By reassigning this filtered dataframe to our diamonds_df, this new dataframe will represent the filter we had previously specified. "
   ]
  },
  {
   "cell_type": "markdown",
   "metadata": {},
   "source": [
    "### Depth Column "
   ]
  },
  {
   "cell_type": "markdown",
   "metadata": {},
   "source": [
    "We begin cleansing our data by removing outliers. We do this by observing the visualization we made via the depth histogram. We see that there are outliers that are less than the value 50.2. We want to filter on our dataframe to values greater than 50.2, where most of our data is found for this column. "
   ]
  },
  {
   "cell_type": "code",
   "execution_count": null,
   "metadata": {},
   "outputs": [
    {
     "data": {
      "application/vnd.jupyter.widget-view+json": {
       "model_id": "751a63e06d9f494e99c16d1b1e2769fb",
       "version_major": 2,
       "version_minor": 0
      },
      "text/plain": [
       "VBox()"
      ]
     },
     "metadata": {},
     "output_type": "display_data"
    },
    {
     "data": {
      "application/vnd.jupyter.widget-view+json": {
       "model_id": "",
       "version_major": 2,
       "version_minor": 0
      },
      "text/plain": [
       "FloatProgress(value=0.0, bar_style='info', description='Progress:', layout=Layout(height='25px', width='50%'),…"
      ]
     },
     "metadata": {},
     "output_type": "display_data"
    }
   ],
   "source": [
    "diamonds_df = (\n",
    "    diamonds_df\n",
    "    .filter(diamonds_df.depth > 50.2)\n",
    ")"
   ]
  },
  {
   "cell_type": "markdown",
   "metadata": {},
   "source": [
    "By reassigning this filtered dataframe to our diamonds_df, this new dataframe will represent the filter we had previously specified. "
   ]
  },
  {
   "cell_type": "markdown",
   "metadata": {},
   "source": [
    "We begin cleansing our data by removing outliers. We do this by observing the visualization we made via the depth histogram. We see that there are outliers that are greater than the value 71.8. We want to filter on our dataframe to values less than 71.8, where most of our data is found for this column. "
   ]
  },
  {
   "cell_type": "code",
   "execution_count": null,
   "metadata": {},
   "outputs": [
    {
     "data": {
      "application/vnd.jupyter.widget-view+json": {
       "model_id": "dfe7a1eaaba949df8eb766e18c0114ae",
       "version_major": 2,
       "version_minor": 0
      },
      "text/plain": [
       "VBox()"
      ]
     },
     "metadata": {},
     "output_type": "display_data"
    },
    {
     "data": {
      "application/vnd.jupyter.widget-view+json": {
       "model_id": "",
       "version_major": 2,
       "version_minor": 0
      },
      "text/plain": [
       "FloatProgress(value=0.0, bar_style='info', description='Progress:', layout=Layout(height='25px', width='50%'),…"
      ]
     },
     "metadata": {},
     "output_type": "display_data"
    }
   ],
   "source": [
    "diamonds_df = (\n",
    "    diamonds_df\n",
    "    .filter(diamonds_df.depth < 71.8)\n",
    ")"
   ]
  },
  {
   "cell_type": "markdown",
   "metadata": {},
   "source": [
    "By reassigning this filtered dataframe to our diamonds_df, this new dataframe will represent the filter we had previously specified. "
   ]
  },
  {
   "cell_type": "markdown",
   "metadata": {},
   "source": [
    "### Table Column"
   ]
  },
  {
   "cell_type": "markdown",
   "metadata": {},
   "source": [
    "We begin cleansing our data by removing outliers. We do this by observing the visualization we made via the table histogram. We see that there are outliers that are less than the value 49. We want to filter on our dataframe to values greater than 49, where most of our data is found for this column. "
   ]
  },
  {
   "cell_type": "code",
   "execution_count": null,
   "metadata": {},
   "outputs": [
    {
     "data": {
      "application/vnd.jupyter.widget-view+json": {
       "model_id": "23950f542d4d4990938891c532f4e5ed",
       "version_major": 2,
       "version_minor": 0
      },
      "text/plain": [
       "VBox()"
      ]
     },
     "metadata": {},
     "output_type": "display_data"
    },
    {
     "data": {
      "application/vnd.jupyter.widget-view+json": {
       "model_id": "",
       "version_major": 2,
       "version_minor": 0
      },
      "text/plain": [
       "FloatProgress(value=0.0, bar_style='info', description='Progress:', layout=Layout(height='25px', width='50%'),…"
      ]
     },
     "metadata": {},
     "output_type": "display_data"
    }
   ],
   "source": [
    "diamonds_df = (\n",
    "    diamonds_df\n",
    "    .filter(diamonds_df.table > 49)\n",
    ")"
   ]
  },
  {
   "cell_type": "markdown",
   "metadata": {},
   "source": [
    "By reassigning this filtered dataframe to our diamonds_df, this new dataframe will represent the filter we had previously specified. "
   ]
  },
  {
   "cell_type": "markdown",
   "metadata": {},
   "source": [
    "We begin cleansing our data by removing outliers. We do this by observing the visualization we made via the table histogram. We see that there are outliers that are greater than the value 70. We want to filter on our dataframe to values less than 70, where most of our data is found for this column. "
   ]
  },
  {
   "cell_type": "code",
   "execution_count": null,
   "metadata": {},
   "outputs": [
    {
     "data": {
      "application/vnd.jupyter.widget-view+json": {
       "model_id": "9a2050268a5f423998854ffdc791e36f",
       "version_major": 2,
       "version_minor": 0
      },
      "text/plain": [
       "VBox()"
      ]
     },
     "metadata": {},
     "output_type": "display_data"
    },
    {
     "data": {
      "application/vnd.jupyter.widget-view+json": {
       "model_id": "",
       "version_major": 2,
       "version_minor": 0
      },
      "text/plain": [
       "FloatProgress(value=0.0, bar_style='info', description='Progress:', layout=Layout(height='25px', width='50%'),…"
      ]
     },
     "metadata": {},
     "output_type": "display_data"
    }
   ],
   "source": [
    "diamonds_df = (\n",
    "    diamonds_df\n",
    "    .filter(diamonds_df.table < 70)\n",
    ")"
   ]
  },
  {
   "cell_type": "markdown",
   "metadata": {},
   "source": [
    "By reassigning this filtered dataframe to our diamonds_df, this new dataframe will represent the filter we had previously specified. "
   ]
  },
  {
   "cell_type": "markdown",
   "metadata": {},
   "source": [
    "### Z Column"
   ]
  },
  {
   "cell_type": "markdown",
   "metadata": {},
   "source": [
    "We begin cleansing our data by removing outliers. We do this by observing the visualization we made via the z histogram. We see that there are outliers that are less than or equal to the value 0. We want to filter on our dataframe to values greater than 0, where most of our data is found for this column. "
   ]
  },
  {
   "cell_type": "code",
   "execution_count": null,
   "metadata": {},
   "outputs": [
    {
     "data": {
      "application/vnd.jupyter.widget-view+json": {
       "model_id": "52199313b05949c2be8b3295e7eac350",
       "version_major": 2,
       "version_minor": 0
      },
      "text/plain": [
       "VBox()"
      ]
     },
     "metadata": {},
     "output_type": "display_data"
    },
    {
     "data": {
      "application/vnd.jupyter.widget-view+json": {
       "model_id": "",
       "version_major": 2,
       "version_minor": 0
      },
      "text/plain": [
       "FloatProgress(value=0.0, bar_style='info', description='Progress:', layout=Layout(height='25px', width='50%'),…"
      ]
     },
     "metadata": {},
     "output_type": "display_data"
    }
   ],
   "source": [
    "diamonds_df = (\n",
    "    diamonds_df\n",
    "    .filter(diamonds_df.z > 0)\n",
    ")"
   ]
  },
  {
   "cell_type": "markdown",
   "metadata": {},
   "source": [
    "By reassigning this filtered dataframe to our diamonds_df, this new dataframe will represent the filter we had previously specified. "
   ]
  },
  {
   "cell_type": "markdown",
   "metadata": {},
   "source": [
    "We begin cleansing our data by removing outliers. We do this by observing the visualization we made via the z histogram. We see that there are outliers that are greater than the value 6.36. We want to filter on our dataframe to values less than 6.36, where most of our data is found for this column. "
   ]
  },
  {
   "cell_type": "code",
   "execution_count": null,
   "metadata": {},
   "outputs": [
    {
     "data": {
      "application/vnd.jupyter.widget-view+json": {
       "model_id": "a8249e84019f4cc7933d1afd7ea9855a",
       "version_major": 2,
       "version_minor": 0
      },
      "text/plain": [
       "VBox()"
      ]
     },
     "metadata": {},
     "output_type": "display_data"
    },
    {
     "data": {
      "application/vnd.jupyter.widget-view+json": {
       "model_id": "",
       "version_major": 2,
       "version_minor": 0
      },
      "text/plain": [
       "FloatProgress(value=0.0, bar_style='info', description='Progress:', layout=Layout(height='25px', width='50%'),…"
      ]
     },
     "metadata": {},
     "output_type": "display_data"
    }
   ],
   "source": [
    "diamonds_df = (\n",
    "    diamonds_df\n",
    "    .filter(diamonds_df.z < 6.36)\n",
    ")"
   ]
  },
  {
   "cell_type": "markdown",
   "metadata": {},
   "source": [
    "By reassigning this filtered dataframe to our diamonds_df, this new dataframe will represent the filter we had previously specified. "
   ]
  },
  {
   "cell_type": "markdown",
   "metadata": {},
   "source": [
    "### Y Column"
   ]
  },
  {
   "cell_type": "markdown",
   "metadata": {},
   "source": [
    "We begin cleansing our data by removing outliers. We do this by observing the visualization we made via the y histogram. We see that there are outliers that are less than or equal to the value 0. We want to filter on our dataframe to values greater than 0, where most of our data is found for this column. "
   ]
  },
  {
   "cell_type": "code",
   "execution_count": null,
   "metadata": {},
   "outputs": [
    {
     "data": {
      "application/vnd.jupyter.widget-view+json": {
       "model_id": "efefa8c843454099b29370c73f232eea",
       "version_major": 2,
       "version_minor": 0
      },
      "text/plain": [
       "VBox()"
      ]
     },
     "metadata": {},
     "output_type": "display_data"
    },
    {
     "data": {
      "application/vnd.jupyter.widget-view+json": {
       "model_id": "",
       "version_major": 2,
       "version_minor": 0
      },
      "text/plain": [
       "FloatProgress(value=0.0, bar_style='info', description='Progress:', layout=Layout(height='25px', width='50%'),…"
      ]
     },
     "metadata": {},
     "output_type": "display_data"
    }
   ],
   "source": [
    "diamonds_df = (\n",
    "    diamonds_df\n",
    "    .filter(diamonds_df.y > 0)\n",
    ")"
   ]
  },
  {
   "cell_type": "markdown",
   "metadata": {},
   "source": [
    "By reassigning this filtered dataframe to our diamonds_df, this new dataframe will represent the filter we had previously specified. "
   ]
  },
  {
   "cell_type": "markdown",
   "metadata": {},
   "source": [
    "We begin cleansing our data by removing outliers. We do this by observing the visualization we made via the y histogram. We see that there are outliers that are greater than the value 10. We want to filter on our dataframe to values less than 10, where most of our data is found for this column. "
   ]
  },
  {
   "cell_type": "code",
   "execution_count": null,
   "metadata": {},
   "outputs": [
    {
     "data": {
      "application/vnd.jupyter.widget-view+json": {
       "model_id": "b25db1594b38476183db7dcdc57eae8e",
       "version_major": 2,
       "version_minor": 0
      },
      "text/plain": [
       "VBox()"
      ]
     },
     "metadata": {},
     "output_type": "display_data"
    },
    {
     "data": {
      "application/vnd.jupyter.widget-view+json": {
       "model_id": "",
       "version_major": 2,
       "version_minor": 0
      },
      "text/plain": [
       "FloatProgress(value=0.0, bar_style='info', description='Progress:', layout=Layout(height='25px', width='50%'),…"
      ]
     },
     "metadata": {},
     "output_type": "display_data"
    }
   ],
   "source": [
    "diamonds_df = (\n",
    "    diamonds_df\n",
    "    .filter(diamonds_df.y < 10)\n",
    ")"
   ]
  },
  {
   "cell_type": "markdown",
   "metadata": {},
   "source": [
    "By reassigning this filtered dataframe to our diamonds_df, this new dataframe will represent the filter we had previously specified. "
   ]
  },
  {
   "cell_type": "markdown",
   "metadata": {},
   "source": [
    "### X Column"
   ]
  },
  {
   "cell_type": "markdown",
   "metadata": {},
   "source": [
    "We begin cleansing our data by removing outliers. We do this by observing the visualization we made via the x histogram. We see that there are outliers that are less than or equal to the value 0. We want to filter on our dataframe to values greater than 0, where most of our data is found for this column. "
   ]
  },
  {
   "cell_type": "code",
   "execution_count": null,
   "metadata": {},
   "outputs": [
    {
     "data": {
      "application/vnd.jupyter.widget-view+json": {
       "model_id": "493bc9d54e17412abeb2784f7946f11f",
       "version_major": 2,
       "version_minor": 0
      },
      "text/plain": [
       "VBox()"
      ]
     },
     "metadata": {},
     "output_type": "display_data"
    },
    {
     "data": {
      "application/vnd.jupyter.widget-view+json": {
       "model_id": "",
       "version_major": 2,
       "version_minor": 0
      },
      "text/plain": [
       "FloatProgress(value=0.0, bar_style='info', description='Progress:', layout=Layout(height='25px', width='50%'),…"
      ]
     },
     "metadata": {},
     "output_type": "display_data"
    }
   ],
   "source": [
    "diamonds_df = (\n",
    "    diamonds_df\n",
    "    .filter(diamonds_df.x > 0)\n",
    ")"
   ]
  },
  {
   "cell_type": "markdown",
   "metadata": {},
   "source": [
    "By reassigning this filtered dataframe to our diamonds_df, this new dataframe will represent the filter we had previously specified. "
   ]
  },
  {
   "cell_type": "markdown",
   "metadata": {},
   "source": [
    "We begin cleansing our data by removing outliers. We do this by observing the visualization we made via the x histogram. We see that there are outliers that are greater than the value 8.5. We want to filter on our dataframe to values less than 8.5, where most of our data is found for this column. "
   ]
  },
  {
   "cell_type": "code",
   "execution_count": null,
   "metadata": {},
   "outputs": [
    {
     "data": {
      "application/vnd.jupyter.widget-view+json": {
       "model_id": "c9b85a0bc5ab452c9028e3befc070e96",
       "version_major": 2,
       "version_minor": 0
      },
      "text/plain": [
       "VBox()"
      ]
     },
     "metadata": {},
     "output_type": "display_data"
    },
    {
     "data": {
      "application/vnd.jupyter.widget-view+json": {
       "model_id": "",
       "version_major": 2,
       "version_minor": 0
      },
      "text/plain": [
       "FloatProgress(value=0.0, bar_style='info', description='Progress:', layout=Layout(height='25px', width='50%'),…"
      ]
     },
     "metadata": {},
     "output_type": "display_data"
    }
   ],
   "source": [
    "diamonds_df = (\n",
    "    diamonds_df\n",
    "    .filter(diamonds_df.x < 8.5)\n",
    ")"
   ]
  },
  {
   "cell_type": "markdown",
   "metadata": {},
   "source": [
    "By reassigning this filtered dataframe to our diamonds_df, this new dataframe will represent the filter we had previously specified. "
   ]
  },
  {
   "cell_type": "markdown",
   "metadata": {},
   "source": [
    "After finalizing outlier analysis, we want to see that only 3% of our data has been removed. We take the count of our data to see how much data remains. "
   ]
  },
  {
   "cell_type": "code",
   "execution_count": null,
   "metadata": {},
   "outputs": [
    {
     "data": {
      "application/vnd.jupyter.widget-view+json": {
       "model_id": "769450c21e9a40a7bd1b5249f04670fb",
       "version_major": 2,
       "version_minor": 0
      },
      "text/plain": [
       "VBox()"
      ]
     },
     "metadata": {},
     "output_type": "display_data"
    },
    {
     "data": {
      "application/vnd.jupyter.widget-view+json": {
       "model_id": "",
       "version_major": 2,
       "version_minor": 0
      },
      "text/plain": [
       "FloatProgress(value=0.0, bar_style='info', description='Progress:', layout=Layout(height='25px', width='50%'),…"
      ]
     },
     "metadata": {},
     "output_type": "display_data"
    },
    {
     "name": "stdout",
     "output_type": "stream",
     "text": [
      "53602"
     ]
    }
   ],
   "source": [
    "diamonds_df.count()"
   ]
  },
  {
   "cell_type": "markdown",
   "metadata": {},
   "source": [
    "We see that we have correctly done outlier removal as we see that (53602/53940) 99% of our data still remains. "
   ]
  },
  {
   "cell_type": "markdown",
   "metadata": {},
   "source": [
    "## Descriptive Statistics"
   ]
  },
  {
   "cell_type": "markdown",
   "metadata": {},
   "source": [
    "We run the following code to illustrate descriptive statistics of our dataset's numeric features after removing outliers from our numeric features. This descriptive stats on cleaner data should provide much clearer insights about our numeric data, enabling us to identify areas of action."
   ]
  },
  {
   "cell_type": "code",
   "execution_count": null,
   "metadata": {},
   "outputs": [
    {
     "data": {
      "application/vnd.jupyter.widget-view+json": {
       "model_id": "a4d7ac55f392423d82d53f5b70b5bf67",
       "version_major": 2,
       "version_minor": 0
      },
      "text/plain": [
       "VBox()"
      ]
     },
     "metadata": {},
     "output_type": "display_data"
    },
    {
     "data": {
      "application/vnd.jupyter.widget-view+json": {
       "model_id": "",
       "version_major": 2,
       "version_minor": 0
      },
      "text/plain": [
       "FloatProgress(value=0.0, bar_style='info', description='Progress:', layout=Layout(height='25px', width='50%'),…"
      ]
     },
     "metadata": {},
     "output_type": "display_data"
    },
    {
     "name": "stdout",
     "output_type": "stream",
     "text": [
      "-RECORD 0----------------------\n",
      " summary | count               \n",
      " carat   | 53602               \n",
      " depth   | 53602               \n",
      " table   | 53602               \n",
      " price   | 53602               \n",
      " x       | 53602               \n",
      " y       | 53602               \n",
      " z       | 53602               \n",
      "-RECORD 1----------------------\n",
      " summary | mean                \n",
      " carat   | 0.788308645199771   \n",
      " depth   | 61.751108167604926  \n",
      " table   | 57.44791798813481   \n",
      " price   | 3870.1357412036864  \n",
      " x       | 5.715253908436141   \n",
      " y       | 5.717419126151925   \n",
      " z       | 3.5294959143317146  \n",
      "-RECORD 2----------------------\n",
      " summary | stddev              \n",
      " carat   | 0.45663821744238736 \n",
      " depth   | 1.4103371707317103  \n",
      " table   | 2.2100870692758483  \n",
      " price   | 3903.857262573186   \n",
      " x       | 1.0998942760156962  \n",
      " y       | 1.0924032627090225  \n",
      " z       | 0.6800423730484303  \n",
      "-RECORD 3----------------------\n",
      " summary | min                 \n",
      " carat   | 0.2                 \n",
      " depth   | 50.8                \n",
      " table   | 50.0                \n",
      " price   | 326                 \n",
      " x       | 3.73                \n",
      " y       | 3.68                \n",
      " z       | 1.07                \n",
      "-RECORD 4----------------------\n",
      " summary | max                 \n",
      " carat   | 2.52                \n",
      " depth   | 71.6                \n",
      " table   | 69.0                \n",
      " price   | 18818               \n",
      " x       | 8.49                \n",
      " y       | 8.56                \n",
      " z       | 6.16"
     ]
    }
   ],
   "source": [
    "features = ['carat', 'depth', 'table', 'price', 'x', 'y', 'z']\n",
    "descriptive_stats = diamonds_df.describe(features)\n",
    "descriptive_stats.show(truncate=False, vertical=True)"
   ]
  },
  {
   "cell_type": "markdown",
   "metadata": {},
   "source": [
    "From running descriptive statistics, we can see the count, mean, standard deviation, min, and max values of each of our variables. This allows us to summarize our dataset and have a better understanding of our data. We notice that the min and max for our x, y and x features don't have zeros as this makes better sense of our diamonds dimensions."
   ]
  },
  {
   "cell_type": "markdown",
   "metadata": {},
   "source": [
    "## Carat Histogram"
   ]
  },
  {
   "cell_type": "markdown",
   "metadata": {},
   "source": [
    "We run the following code to create our carat histogram's cut-off points. We first select the column we would like to visualize and convert it to an RDD level. We then flat map the column to flatten out all elements. Then we call the histogram method of RDD and provide the number of partitions."
   ]
  },
  {
   "cell_type": "code",
   "execution_count": null,
   "metadata": {},
   "outputs": [
    {
     "data": {
      "application/vnd.jupyter.widget-view+json": {
       "model_id": "54e122049c6642a3bb829746379a0c22",
       "version_major": 2,
       "version_minor": 0
      },
      "text/plain": [
       "VBox()"
      ]
     },
     "metadata": {},
     "output_type": "display_data"
    },
    {
     "data": {
      "application/vnd.jupyter.widget-view+json": {
       "model_id": "",
       "version_major": 2,
       "version_minor": 0
      },
      "text/plain": [
       "FloatProgress(value=0.0, bar_style='info', description='Progress:', layout=Layout(height='25px', width='50%'),…"
      ]
     },
     "metadata": {},
     "output_type": "display_data"
    }
   ],
   "source": [
    "#generate bins and count of each bin\n",
    "histogram_carat = (\n",
    "    diamonds_df\n",
    "    .select('carat')\n",
    "    .rdd\n",
    "    .flatMap(lambda record: record)\n",
    "    .histogram(10)\n",
    ")"
   ]
  },
  {
   "cell_type": "markdown",
   "metadata": {},
   "source": [
    "This cell does not generate the histogram. Its purpose is to generate the cut-off points for our histogram.\n"
   ]
  },
  {
   "cell_type": "markdown",
   "metadata": {},
   "source": [
    "We use cell magic to export our converted pandas dataframe to the client. We do this in order to have our bins and frequencies in two separate columns. \n"
   ]
  },
  {
   "cell_type": "code",
   "execution_count": null,
   "metadata": {},
   "outputs": [
    {
     "data": {
      "application/vnd.jupyter.widget-view+json": {
       "model_id": "",
       "version_major": 2,
       "version_minor": 0
      },
      "text/plain": [
       "FloatProgress(value=0.0, bar_style='info', description='Progress:', layout=Layout(height='25px', width='50%'),…"
      ]
     },
     "metadata": {},
     "output_type": "display_data"
    },
    {
     "data": {
      "application/vnd.jupyter.widget-view+json": {
       "model_id": "",
       "version_major": 2,
       "version_minor": 0
      },
      "text/plain": [
       "FloatProgress(value=0.0, bar_style='info', description='Progress:', layout=Layout(height='25px', width='50%'),…"
      ]
     },
     "metadata": {},
     "output_type": "display_data"
    }
   ],
   "source": [
    "%%spark -o hist_carat\n",
    "\n",
    "import pandas as pd\n",
    "hist_carat =  spark.createDataFrame(\n",
    "    list(zip(*histogram_carat)), \n",
    "    ['bins', 'counts'])"
   ]
  },
  {
   "cell_type": "markdown",
   "metadata": {},
   "source": [
    "We first tell Jupyter that this is a local cell and to not send it to the cluster. We then import libraries from bokeh. We then set the parameters for our histogram and create it. We set bins as our index and we use counts for our heights. \n"
   ]
  },
  {
   "cell_type": "code",
   "execution_count": null,
   "metadata": {},
   "outputs": [
    {
     "data": {
      "text/html": [
       "\n",
       "    <div class=\"bk-root\">\n",
       "        <a href=\"https://bokeh.org\" target=\"_blank\" class=\"bk-logo bk-logo-small bk-logo-notebook\"></a>\n",
       "        <span id=\"1892\">Loading BokehJS ...</span>\n",
       "    </div>"
      ]
     },
     "metadata": {},
     "output_type": "display_data"
    },
    {
     "data": {
      "application/javascript": [
       "\n",
       "(function(root) {\n",
       "  function now() {\n",
       "    return new Date();\n",
       "  }\n",
       "\n",
       "  var force = true;\n",
       "\n",
       "  if (typeof root._bokeh_onload_callbacks === \"undefined\" || force === true) {\n",
       "    root._bokeh_onload_callbacks = [];\n",
       "    root._bokeh_is_loading = undefined;\n",
       "  }\n",
       "\n",
       "  var JS_MIME_TYPE = 'application/javascript';\n",
       "  var HTML_MIME_TYPE = 'text/html';\n",
       "  var EXEC_MIME_TYPE = 'application/vnd.bokehjs_exec.v0+json';\n",
       "  var CLASS_NAME = 'output_bokeh rendered_html';\n",
       "\n",
       "  /**\n",
       "   * Render data to the DOM node\n",
       "   */\n",
       "  function render(props, node) {\n",
       "    var script = document.createElement(\"script\");\n",
       "    node.appendChild(script);\n",
       "  }\n",
       "\n",
       "  /**\n",
       "   * Handle when an output is cleared or removed\n",
       "   */\n",
       "  function handleClearOutput(event, handle) {\n",
       "    var cell = handle.cell;\n",
       "\n",
       "    var id = cell.output_area._bokeh_element_id;\n",
       "    var server_id = cell.output_area._bokeh_server_id;\n",
       "    // Clean up Bokeh references\n",
       "    if (id != null && id in Bokeh.index) {\n",
       "      Bokeh.index[id].model.document.clear();\n",
       "      delete Bokeh.index[id];\n",
       "    }\n",
       "\n",
       "    if (server_id !== undefined) {\n",
       "      // Clean up Bokeh references\n",
       "      var cmd = \"from bokeh.io.state import curstate; print(curstate().uuid_to_server['\" + server_id + \"'].get_sessions()[0].document.roots[0]._id)\";\n",
       "      cell.notebook.kernel.execute(cmd, {\n",
       "        iopub: {\n",
       "          output: function(msg) {\n",
       "            var id = msg.content.text.trim();\n",
       "            if (id in Bokeh.index) {\n",
       "              Bokeh.index[id].model.document.clear();\n",
       "              delete Bokeh.index[id];\n",
       "            }\n",
       "          }\n",
       "        }\n",
       "      });\n",
       "      // Destroy server and session\n",
       "      var cmd = \"import bokeh.io.notebook as ion; ion.destroy_server('\" + server_id + \"')\";\n",
       "      cell.notebook.kernel.execute(cmd);\n",
       "    }\n",
       "  }\n",
       "\n",
       "  /**\n",
       "   * Handle when a new output is added\n",
       "   */\n",
       "  function handleAddOutput(event, handle) {\n",
       "    var output_area = handle.output_area;\n",
       "    var output = handle.output;\n",
       "\n",
       "    // limit handleAddOutput to display_data with EXEC_MIME_TYPE content only\n",
       "    if ((output.output_type != \"display_data\") || (!Object.prototype.hasOwnProperty.call(output.data, EXEC_MIME_TYPE))) {\n",
       "      return\n",
       "    }\n",
       "\n",
       "    var toinsert = output_area.element.find(\".\" + CLASS_NAME.split(' ')[0]);\n",
       "\n",
       "    if (output.metadata[EXEC_MIME_TYPE][\"id\"] !== undefined) {\n",
       "      toinsert[toinsert.length - 1].firstChild.textContent = output.data[JS_MIME_TYPE];\n",
       "      // store reference to embed id on output_area\n",
       "      output_area._bokeh_element_id = output.metadata[EXEC_MIME_TYPE][\"id\"];\n",
       "    }\n",
       "    if (output.metadata[EXEC_MIME_TYPE][\"server_id\"] !== undefined) {\n",
       "      var bk_div = document.createElement(\"div\");\n",
       "      bk_div.innerHTML = output.data[HTML_MIME_TYPE];\n",
       "      var script_attrs = bk_div.children[0].attributes;\n",
       "      for (var i = 0; i < script_attrs.length; i++) {\n",
       "        toinsert[toinsert.length - 1].firstChild.setAttribute(script_attrs[i].name, script_attrs[i].value);\n",
       "        toinsert[toinsert.length - 1].firstChild.textContent = bk_div.children[0].textContent\n",
       "      }\n",
       "      // store reference to server id on output_area\n",
       "      output_area._bokeh_server_id = output.metadata[EXEC_MIME_TYPE][\"server_id\"];\n",
       "    }\n",
       "  }\n",
       "\n",
       "  function register_renderer(events, OutputArea) {\n",
       "\n",
       "    function append_mime(data, metadata, element) {\n",
       "      // create a DOM node to render to\n",
       "      var toinsert = this.create_output_subarea(\n",
       "        metadata,\n",
       "        CLASS_NAME,\n",
       "        EXEC_MIME_TYPE\n",
       "      );\n",
       "      this.keyboard_manager.register_events(toinsert);\n",
       "      // Render to node\n",
       "      var props = {data: data, metadata: metadata[EXEC_MIME_TYPE]};\n",
       "      render(props, toinsert[toinsert.length - 1]);\n",
       "      element.append(toinsert);\n",
       "      return toinsert\n",
       "    }\n",
       "\n",
       "    /* Handle when an output is cleared or removed */\n",
       "    events.on('clear_output.CodeCell', handleClearOutput);\n",
       "    events.on('delete.Cell', handleClearOutput);\n",
       "\n",
       "    /* Handle when a new output is added */\n",
       "    events.on('output_added.OutputArea', handleAddOutput);\n",
       "\n",
       "    /**\n",
       "     * Register the mime type and append_mime function with output_area\n",
       "     */\n",
       "    OutputArea.prototype.register_mime_type(EXEC_MIME_TYPE, append_mime, {\n",
       "      /* Is output safe? */\n",
       "      safe: true,\n",
       "      /* Index of renderer in `output_area.display_order` */\n",
       "      index: 0\n",
       "    });\n",
       "  }\n",
       "\n",
       "  // register the mime type if in Jupyter Notebook environment and previously unregistered\n",
       "  if (root.Jupyter !== undefined) {\n",
       "    var events = require('base/js/events');\n",
       "    var OutputArea = require('notebook/js/outputarea').OutputArea;\n",
       "\n",
       "    if (OutputArea.prototype.mime_types().indexOf(EXEC_MIME_TYPE) == -1) {\n",
       "      register_renderer(events, OutputArea);\n",
       "    }\n",
       "  }\n",
       "\n",
       "  \n",
       "  if (typeof (root._bokeh_timeout) === \"undefined\" || force === true) {\n",
       "    root._bokeh_timeout = Date.now() + 5000;\n",
       "    root._bokeh_failed_load = false;\n",
       "  }\n",
       "\n",
       "  var NB_LOAD_WARNING = {'data': {'text/html':\n",
       "     \"<div style='background-color: #fdd'>\\n\"+\n",
       "     \"<p>\\n\"+\n",
       "     \"BokehJS does not appear to have successfully loaded. If loading BokehJS from CDN, this \\n\"+\n",
       "     \"may be due to a slow or bad network connection. Possible fixes:\\n\"+\n",
       "     \"</p>\\n\"+\n",
       "     \"<ul>\\n\"+\n",
       "     \"<li>re-rerun `output_notebook()` to attempt to load from CDN again, or</li>\\n\"+\n",
       "     \"<li>use INLINE resources instead, as so:</li>\\n\"+\n",
       "     \"</ul>\\n\"+\n",
       "     \"<code>\\n\"+\n",
       "     \"from bokeh.resources import INLINE\\n\"+\n",
       "     \"output_notebook(resources=INLINE)\\n\"+\n",
       "     \"</code>\\n\"+\n",
       "     \"</div>\"}};\n",
       "\n",
       "  function display_loaded() {\n",
       "    var el = document.getElementById(\"1892\");\n",
       "    if (el != null) {\n",
       "      el.textContent = \"BokehJS is loading...\";\n",
       "    }\n",
       "    if (root.Bokeh !== undefined) {\n",
       "      if (el != null) {\n",
       "        el.textContent = \"BokehJS \" + root.Bokeh.version + \" successfully loaded.\";\n",
       "      }\n",
       "    } else if (Date.now() < root._bokeh_timeout) {\n",
       "      setTimeout(display_loaded, 100)\n",
       "    }\n",
       "  }\n",
       "\n",
       "\n",
       "  function run_callbacks() {\n",
       "    try {\n",
       "      root._bokeh_onload_callbacks.forEach(function(callback) {\n",
       "        if (callback != null)\n",
       "          callback();\n",
       "      });\n",
       "    } finally {\n",
       "      delete root._bokeh_onload_callbacks\n",
       "    }\n",
       "    console.debug(\"Bokeh: all callbacks have finished\");\n",
       "  }\n",
       "\n",
       "  function load_libs(css_urls, js_urls, callback) {\n",
       "    if (css_urls == null) css_urls = [];\n",
       "    if (js_urls == null) js_urls = [];\n",
       "\n",
       "    root._bokeh_onload_callbacks.push(callback);\n",
       "    if (root._bokeh_is_loading > 0) {\n",
       "      console.debug(\"Bokeh: BokehJS is being loaded, scheduling callback at\", now());\n",
       "      return null;\n",
       "    }\n",
       "    if (js_urls == null || js_urls.length === 0) {\n",
       "      run_callbacks();\n",
       "      return null;\n",
       "    }\n",
       "    console.debug(\"Bokeh: BokehJS not loaded, scheduling load and callback at\", now());\n",
       "    root._bokeh_is_loading = css_urls.length + js_urls.length;\n",
       "\n",
       "    function on_load() {\n",
       "      root._bokeh_is_loading--;\n",
       "      if (root._bokeh_is_loading === 0) {\n",
       "        console.debug(\"Bokeh: all BokehJS libraries/stylesheets loaded\");\n",
       "        run_callbacks()\n",
       "      }\n",
       "    }\n",
       "\n",
       "    function on_error(url) {\n",
       "      console.error(\"failed to load \" + url);\n",
       "    }\n",
       "\n",
       "    for (let i = 0; i < css_urls.length; i++) {\n",
       "      const url = css_urls[i];\n",
       "      const element = document.createElement(\"link\");\n",
       "      element.onload = on_load;\n",
       "      element.onerror = on_error.bind(null, url);\n",
       "      element.rel = \"stylesheet\";\n",
       "      element.type = \"text/css\";\n",
       "      element.href = url;\n",
       "      console.debug(\"Bokeh: injecting link tag for BokehJS stylesheet: \", url);\n",
       "      document.body.appendChild(element);\n",
       "    }\n",
       "\n",
       "    const hashes = {\"https://cdn.bokeh.org/bokeh/release/bokeh-2.3.0.min.js\": \"HjagQp6T0/7bxYTAXbLotF1MLAGWmhkY5siA1Gc/pcEgvgRPtMsRn0gQtMwGKiw1\", \"https://cdn.bokeh.org/bokeh/release/bokeh-widgets-2.3.0.min.js\": \"ZEPPTjL+mdyqgIq+/pl9KTwzji8Kow2NnI3zWY8+sFinWP/SYJ80BnfeJsa45iYj\", \"https://cdn.bokeh.org/bokeh/release/bokeh-tables-2.3.0.min.js\": \"exLqv2ACDRIaV7ZK1iL8aGzGYQvKVuT3U2CT7FsQREBxRah6JrkVCoFy0koY1YqV\"};\n",
       "\n",
       "    for (let i = 0; i < js_urls.length; i++) {\n",
       "      const url = js_urls[i];\n",
       "      const element = document.createElement('script');\n",
       "      element.onload = on_load;\n",
       "      element.onerror = on_error.bind(null, url);\n",
       "      element.async = false;\n",
       "      element.src = url;\n",
       "      if (url in hashes) {\n",
       "        element.crossOrigin = \"anonymous\";\n",
       "        element.integrity = \"sha384-\" + hashes[url];\n",
       "      }\n",
       "      console.debug(\"Bokeh: injecting script tag for BokehJS library: \", url);\n",
       "      document.head.appendChild(element);\n",
       "    }\n",
       "  };\n",
       "\n",
       "  function inject_raw_css(css) {\n",
       "    const element = document.createElement(\"style\");\n",
       "    element.appendChild(document.createTextNode(css));\n",
       "    document.body.appendChild(element);\n",
       "  }\n",
       "\n",
       "  \n",
       "  var js_urls = [\"https://cdn.bokeh.org/bokeh/release/bokeh-2.3.0.min.js\", \"https://cdn.bokeh.org/bokeh/release/bokeh-widgets-2.3.0.min.js\", \"https://cdn.bokeh.org/bokeh/release/bokeh-tables-2.3.0.min.js\"];\n",
       "  var css_urls = [];\n",
       "  \n",
       "\n",
       "  var inline_js = [\n",
       "    function(Bokeh) {\n",
       "      Bokeh.set_log_level(\"info\");\n",
       "    },\n",
       "    function(Bokeh) {\n",
       "    \n",
       "    \n",
       "    }\n",
       "  ];\n",
       "\n",
       "  function run_inline_js() {\n",
       "    \n",
       "    if (root.Bokeh !== undefined || force === true) {\n",
       "      \n",
       "    for (var i = 0; i < inline_js.length; i++) {\n",
       "      inline_js[i].call(root, root.Bokeh);\n",
       "    }\n",
       "    if (force === true) {\n",
       "        display_loaded();\n",
       "      }} else if (Date.now() < root._bokeh_timeout) {\n",
       "      setTimeout(run_inline_js, 100);\n",
       "    } else if (!root._bokeh_failed_load) {\n",
       "      console.log(\"Bokeh: BokehJS failed to load within specified timeout.\");\n",
       "      root._bokeh_failed_load = true;\n",
       "    } else if (force !== true) {\n",
       "      var cell = $(document.getElementById(\"1892\")).parents('.cell').data().cell;\n",
       "      cell.output_area.append_execute_result(NB_LOAD_WARNING)\n",
       "    }\n",
       "\n",
       "  }\n",
       "\n",
       "  if (root._bokeh_is_loading === 0) {\n",
       "    console.debug(\"Bokeh: BokehJS loaded, going straight to plotting\");\n",
       "    run_inline_js();\n",
       "  } else {\n",
       "    load_libs(css_urls, js_urls, function() {\n",
       "      console.debug(\"Bokeh: BokehJS plotting callback run at\", now());\n",
       "      run_inline_js();\n",
       "    });\n",
       "  }\n",
       "}(window));"
      ],
      "application/vnd.bokehjs_load.v0+json": "\n(function(root) {\n  function now() {\n    return new Date();\n  }\n\n  var force = true;\n\n  if (typeof root._bokeh_onload_callbacks === \"undefined\" || force === true) {\n    root._bokeh_onload_callbacks = [];\n    root._bokeh_is_loading = undefined;\n  }\n\n  \n\n  \n  if (typeof (root._bokeh_timeout) === \"undefined\" || force === true) {\n    root._bokeh_timeout = Date.now() + 5000;\n    root._bokeh_failed_load = false;\n  }\n\n  var NB_LOAD_WARNING = {'data': {'text/html':\n     \"<div style='background-color: #fdd'>\\n\"+\n     \"<p>\\n\"+\n     \"BokehJS does not appear to have successfully loaded. If loading BokehJS from CDN, this \\n\"+\n     \"may be due to a slow or bad network connection. Possible fixes:\\n\"+\n     \"</p>\\n\"+\n     \"<ul>\\n\"+\n     \"<li>re-rerun `output_notebook()` to attempt to load from CDN again, or</li>\\n\"+\n     \"<li>use INLINE resources instead, as so:</li>\\n\"+\n     \"</ul>\\n\"+\n     \"<code>\\n\"+\n     \"from bokeh.resources import INLINE\\n\"+\n     \"output_notebook(resources=INLINE)\\n\"+\n     \"</code>\\n\"+\n     \"</div>\"}};\n\n  function display_loaded() {\n    var el = document.getElementById(\"1892\");\n    if (el != null) {\n      el.textContent = \"BokehJS is loading...\";\n    }\n    if (root.Bokeh !== undefined) {\n      if (el != null) {\n        el.textContent = \"BokehJS \" + root.Bokeh.version + \" successfully loaded.\";\n      }\n    } else if (Date.now() < root._bokeh_timeout) {\n      setTimeout(display_loaded, 100)\n    }\n  }\n\n\n  function run_callbacks() {\n    try {\n      root._bokeh_onload_callbacks.forEach(function(callback) {\n        if (callback != null)\n          callback();\n      });\n    } finally {\n      delete root._bokeh_onload_callbacks\n    }\n    console.debug(\"Bokeh: all callbacks have finished\");\n  }\n\n  function load_libs(css_urls, js_urls, callback) {\n    if (css_urls == null) css_urls = [];\n    if (js_urls == null) js_urls = [];\n\n    root._bokeh_onload_callbacks.push(callback);\n    if (root._bokeh_is_loading > 0) {\n      console.debug(\"Bokeh: BokehJS is being loaded, scheduling callback at\", now());\n      return null;\n    }\n    if (js_urls == null || js_urls.length === 0) {\n      run_callbacks();\n      return null;\n    }\n    console.debug(\"Bokeh: BokehJS not loaded, scheduling load and callback at\", now());\n    root._bokeh_is_loading = css_urls.length + js_urls.length;\n\n    function on_load() {\n      root._bokeh_is_loading--;\n      if (root._bokeh_is_loading === 0) {\n        console.debug(\"Bokeh: all BokehJS libraries/stylesheets loaded\");\n        run_callbacks()\n      }\n    }\n\n    function on_error(url) {\n      console.error(\"failed to load \" + url);\n    }\n\n    for (let i = 0; i < css_urls.length; i++) {\n      const url = css_urls[i];\n      const element = document.createElement(\"link\");\n      element.onload = on_load;\n      element.onerror = on_error.bind(null, url);\n      element.rel = \"stylesheet\";\n      element.type = \"text/css\";\n      element.href = url;\n      console.debug(\"Bokeh: injecting link tag for BokehJS stylesheet: \", url);\n      document.body.appendChild(element);\n    }\n\n    const hashes = {\"https://cdn.bokeh.org/bokeh/release/bokeh-2.3.0.min.js\": \"HjagQp6T0/7bxYTAXbLotF1MLAGWmhkY5siA1Gc/pcEgvgRPtMsRn0gQtMwGKiw1\", \"https://cdn.bokeh.org/bokeh/release/bokeh-widgets-2.3.0.min.js\": \"ZEPPTjL+mdyqgIq+/pl9KTwzji8Kow2NnI3zWY8+sFinWP/SYJ80BnfeJsa45iYj\", \"https://cdn.bokeh.org/bokeh/release/bokeh-tables-2.3.0.min.js\": \"exLqv2ACDRIaV7ZK1iL8aGzGYQvKVuT3U2CT7FsQREBxRah6JrkVCoFy0koY1YqV\"};\n\n    for (let i = 0; i < js_urls.length; i++) {\n      const url = js_urls[i];\n      const element = document.createElement('script');\n      element.onload = on_load;\n      element.onerror = on_error.bind(null, url);\n      element.async = false;\n      element.src = url;\n      if (url in hashes) {\n        element.crossOrigin = \"anonymous\";\n        element.integrity = \"sha384-\" + hashes[url];\n      }\n      console.debug(\"Bokeh: injecting script tag for BokehJS library: \", url);\n      document.head.appendChild(element);\n    }\n  };\n\n  function inject_raw_css(css) {\n    const element = document.createElement(\"style\");\n    element.appendChild(document.createTextNode(css));\n    document.body.appendChild(element);\n  }\n\n  \n  var js_urls = [\"https://cdn.bokeh.org/bokeh/release/bokeh-2.3.0.min.js\", \"https://cdn.bokeh.org/bokeh/release/bokeh-widgets-2.3.0.min.js\", \"https://cdn.bokeh.org/bokeh/release/bokeh-tables-2.3.0.min.js\"];\n  var css_urls = [];\n  \n\n  var inline_js = [\n    function(Bokeh) {\n      Bokeh.set_log_level(\"info\");\n    },\n    function(Bokeh) {\n    \n    \n    }\n  ];\n\n  function run_inline_js() {\n    \n    if (root.Bokeh !== undefined || force === true) {\n      \n    for (var i = 0; i < inline_js.length; i++) {\n      inline_js[i].call(root, root.Bokeh);\n    }\n    if (force === true) {\n        display_loaded();\n      }} else if (Date.now() < root._bokeh_timeout) {\n      setTimeout(run_inline_js, 100);\n    } else if (!root._bokeh_failed_load) {\n      console.log(\"Bokeh: BokehJS failed to load within specified timeout.\");\n      root._bokeh_failed_load = true;\n    } else if (force !== true) {\n      var cell = $(document.getElementById(\"1892\")).parents('.cell').data().cell;\n      cell.output_area.append_execute_result(NB_LOAD_WARNING)\n    }\n\n  }\n\n  if (root._bokeh_is_loading === 0) {\n    console.debug(\"Bokeh: BokehJS loaded, going straight to plotting\");\n    run_inline_js();\n  } else {\n    load_libs(css_urls, js_urls, function() {\n      console.debug(\"Bokeh: BokehJS plotting callback run at\", now());\n      run_inline_js();\n    });\n  }\n}(window));"
     },
     "metadata": {},
     "output_type": "display_data"
    },
    {
     "data": {
      "text/html": [
       "\n",
       "\n",
       "\n",
       "\n",
       "\n",
       "\n",
       "  <div class=\"bk-root\" id=\"d1e90b0d-b80c-492e-9ae6-886cff56cb9f\" data-root-id=\"1893\"></div>\n"
      ]
     },
     "metadata": {},
     "output_type": "display_data"
    },
    {
     "data": {
      "application/javascript": [
       "(function(root) {\n",
       "  function embed_document(root) {\n",
       "    \n",
       "  var docs_json = {\"d4abb9e3-9d48-4d2f-a9ff-e57ce0b4f998\":{\"defs\":[{\"extends\":null,\"module\":null,\"name\":\"DataModel\",\"overrides\":[],\"properties\":[]}],\"roots\":{\"references\":[{\"attributes\":{\"below\":[{\"id\":\"1904\"}],\"center\":[{\"id\":\"1906\"},{\"id\":\"1910\"}],\"height\":350,\"left\":[{\"id\":\"1907\"}],\"renderers\":[{\"id\":\"1928\"}],\"title\":{\"id\":\"1894\"},\"toolbar\":{\"id\":\"1918\"},\"x_range\":{\"id\":\"1896\"},\"x_scale\":{\"id\":\"1900\"},\"y_range\":{\"id\":\"1898\"},\"y_scale\":{\"id\":\"1902\"}},\"id\":\"1893\",\"subtype\":\"Figure\",\"type\":\"Plot\"},{\"attributes\":{\"axis\":{\"id\":\"1904\"},\"ticker\":null},\"id\":\"1906\",\"type\":\"Grid\"},{\"attributes\":{},\"id\":\"2002\",\"type\":\"AllLabels\"},{\"attributes\":{},\"id\":\"1914\",\"type\":\"SaveTool\"},{\"attributes\":{\"formatter\":{\"id\":\"2001\"},\"major_label_policy\":{\"id\":\"2002\"},\"ticker\":{\"id\":\"1908\"}},\"id\":\"1907\",\"type\":\"LinearAxis\"},{\"attributes\":{},\"id\":\"2007\",\"type\":\"UnionRenderers\"},{\"attributes\":{\"fill_color\":{\"value\":\"#1f77b4\"},\"line_color\":{\"value\":\"#1f77b4\"},\"top\":{\"field\":\"top\"},\"width\":{\"value\":0.9},\"x\":{\"field\":\"x\"}},\"id\":\"1926\",\"type\":\"VBar\"},{\"attributes\":{},\"id\":\"1908\",\"type\":\"BasicTicker\"},{\"attributes\":{\"source\":{\"id\":\"1925\"}},\"id\":\"1929\",\"type\":\"CDSView\"},{\"attributes\":{},\"id\":\"1915\",\"type\":\"ResetTool\"},{\"attributes\":{},\"id\":\"1905\",\"type\":\"CategoricalTicker\"},{\"attributes\":{},\"id\":\"1898\",\"type\":\"DataRange1d\"},{\"attributes\":{\"overlay\":{\"id\":\"1917\"}},\"id\":\"1913\",\"type\":\"BoxZoomTool\"},{\"attributes\":{},\"id\":\"1916\",\"type\":\"HelpTool\"},{\"attributes\":{\"data_source\":{\"id\":\"1925\"},\"glyph\":{\"id\":\"1926\"},\"hover_glyph\":null,\"muted_glyph\":null,\"nonselection_glyph\":{\"id\":\"1927\"},\"view\":{\"id\":\"1929\"}},\"id\":\"1928\",\"type\":\"GlyphRenderer\"},{\"attributes\":{},\"id\":\"2005\",\"type\":\"AllLabels\"},{\"attributes\":{\"axis\":{\"id\":\"1907\"},\"dimension\":1,\"ticker\":null},\"id\":\"1910\",\"type\":\"Grid\"},{\"attributes\":{\"active_multi\":null,\"tools\":[{\"id\":\"1911\"},{\"id\":\"1912\"},{\"id\":\"1913\"},{\"id\":\"1914\"},{\"id\":\"1915\"},{\"id\":\"1916\"}]},\"id\":\"1918\",\"type\":\"Toolbar\"},{\"attributes\":{\"fill_alpha\":{\"value\":0.1},\"fill_color\":{\"value\":\"#1f77b4\"},\"line_alpha\":{\"value\":0.1},\"line_color\":{\"value\":\"#1f77b4\"},\"top\":{\"field\":\"top\"},\"width\":{\"value\":0.9},\"x\":{\"field\":\"x\"}},\"id\":\"1927\",\"type\":\"VBar\"},{\"attributes\":{},\"id\":\"2001\",\"type\":\"BasicTickFormatter\"},{\"attributes\":{},\"id\":\"1900\",\"type\":\"CategoricalScale\"},{\"attributes\":{},\"id\":\"1902\",\"type\":\"LinearScale\"},{\"attributes\":{},\"id\":\"1912\",\"type\":\"WheelZoomTool\"},{\"attributes\":{\"bottom_units\":\"screen\",\"fill_alpha\":0.5,\"fill_color\":\"lightgrey\",\"left_units\":\"screen\",\"level\":\"overlay\",\"line_alpha\":1.0,\"line_color\":\"black\",\"line_dash\":[4,4],\"line_width\":2,\"right_units\":\"screen\",\"syncable\":false,\"top_units\":\"screen\"},\"id\":\"1917\",\"type\":\"BoxAnnotation\"},{\"attributes\":{\"text\":\"Carat Hist\"},\"id\":\"1894\",\"type\":\"Title\"},{\"attributes\":{},\"id\":\"2008\",\"type\":\"Selection\"},{\"attributes\":{\"formatter\":{\"id\":\"2004\"},\"major_label_policy\":{\"id\":\"2005\"},\"ticker\":{\"id\":\"1905\"}},\"id\":\"1904\",\"type\":\"CategoricalAxis\"},{\"attributes\":{\"data\":{\"top\":[16965,8110,7021,10873,4313,3271,1091,1250,643,65],\"x\":[\"0.2\",\"0.43\",\"0.66\",\"0.9\",\"1.13\",\"1.36\",\"1.59\",\"1.82\",\"2.06\",\"2.29\"]},\"selected\":{\"id\":\"2008\"},\"selection_policy\":{\"id\":\"2007\"}},\"id\":\"1925\",\"type\":\"ColumnDataSource\"},{\"attributes\":{},\"id\":\"1911\",\"type\":\"PanTool\"},{\"attributes\":{\"factors\":[\"0.2\",\"0.43\",\"0.66\",\"0.9\",\"1.13\",\"1.36\",\"1.59\",\"1.82\",\"2.06\",\"2.29\"]},\"id\":\"1896\",\"type\":\"FactorRange\"},{\"attributes\":{},\"id\":\"2004\",\"type\":\"CategoricalTickFormatter\"}],\"root_ids\":[\"1893\"]},\"title\":\"Bokeh Application\",\"version\":\"2.3.0\"}};\n",
       "  var render_items = [{\"docid\":\"d4abb9e3-9d48-4d2f-a9ff-e57ce0b4f998\",\"root_ids\":[\"1893\"],\"roots\":{\"1893\":\"d1e90b0d-b80c-492e-9ae6-886cff56cb9f\"}}];\n",
       "  root.Bokeh.embed.embed_items_notebook(docs_json, render_items);\n",
       "\n",
       "  }\n",
       "  if (root.Bokeh !== undefined) {\n",
       "    embed_document(root);\n",
       "  } else {\n",
       "    var attempts = 0;\n",
       "    var timer = setInterval(function(root) {\n",
       "      if (root.Bokeh !== undefined) {\n",
       "        clearInterval(timer);\n",
       "        embed_document(root);\n",
       "      } else {\n",
       "        attempts++;\n",
       "        if (attempts > 100) {\n",
       "          clearInterval(timer);\n",
       "          console.log(\"Bokeh: ERROR: Unable to run BokehJS code because BokehJS library is missing\");\n",
       "        }\n",
       "      }\n",
       "    }, 10, root)\n",
       "  }\n",
       "})(window);"
      ],
      "application/vnd.bokehjs_exec.v0+json": ""
     },
     "metadata": {
      "application/vnd.bokehjs_exec.v0+json": {
       "id": "1893"
      }
     },
     "output_type": "display_data"
    }
   ],
   "source": [
    "%%local\n",
    "\n",
    "output_notebook()\n",
    "labels = [str(round(e, 2)) for e in hist_carat['bins']]\n",
    "p = figure(\n",
    " x_range=labels,\n",
    " plot_height=350,\n",
    " title='Carat Hist'\n",
    ")\n",
    "p.vbar(x=labels, top=hist_carat['counts'], width=0.9)\n",
    "show(p)"
   ]
  },
  {
   "cell_type": "markdown",
   "metadata": {},
   "source": [
    "From the output, we can see our histogram of carat values. We see the distribution of our data does not have any outliers."
   ]
  },
  {
   "cell_type": "markdown",
   "metadata": {},
   "source": [
    "## Depth Histogram"
   ]
  },
  {
   "cell_type": "markdown",
   "metadata": {},
   "source": [
    "We run the following code to create our depth histogram's cut-off points. We first select the column we would like to visualize and convert it to an RDD level. We then flat map the column to flatten out all elements. Then we call the histogram method of RDD and provide the number of partitions."
   ]
  },
  {
   "cell_type": "code",
   "execution_count": null,
   "metadata": {},
   "outputs": [
    {
     "data": {
      "application/vnd.jupyter.widget-view+json": {
       "model_id": "bcde0d39d4e74d6a804d142907897c03",
       "version_major": 2,
       "version_minor": 0
      },
      "text/plain": [
       "VBox()"
      ]
     },
     "metadata": {},
     "output_type": "display_data"
    },
    {
     "data": {
      "application/vnd.jupyter.widget-view+json": {
       "model_id": "",
       "version_major": 2,
       "version_minor": 0
      },
      "text/plain": [
       "FloatProgress(value=0.0, bar_style='info', description='Progress:', layout=Layout(height='25px', width='50%'),…"
      ]
     },
     "metadata": {},
     "output_type": "display_data"
    }
   ],
   "source": [
    "#generate bins and count of each bin\n",
    "histogram_depth = (\n",
    "    diamonds_df\n",
    "    .select('depth')\n",
    "    .rdd\n",
    "    .flatMap(lambda record: record)\n",
    "    .histogram(10)\n",
    ")"
   ]
  },
  {
   "cell_type": "markdown",
   "metadata": {},
   "source": [
    "This cell does not generate the histogram. Its purpose is to generate the cut-off points for our histogram."
   ]
  },
  {
   "cell_type": "markdown",
   "metadata": {},
   "source": [
    "We use cell magic to export our converted pandas dataframe to the client. We do this in order to have our bins and frequencies in two separate columns. \n"
   ]
  },
  {
   "cell_type": "code",
   "execution_count": null,
   "metadata": {},
   "outputs": [
    {
     "data": {
      "application/vnd.jupyter.widget-view+json": {
       "model_id": "",
       "version_major": 2,
       "version_minor": 0
      },
      "text/plain": [
       "FloatProgress(value=0.0, bar_style='info', description='Progress:', layout=Layout(height='25px', width='50%'),…"
      ]
     },
     "metadata": {},
     "output_type": "display_data"
    },
    {
     "data": {
      "application/vnd.jupyter.widget-view+json": {
       "model_id": "",
       "version_major": 2,
       "version_minor": 0
      },
      "text/plain": [
       "FloatProgress(value=0.0, bar_style='info', description='Progress:', layout=Layout(height='25px', width='50%'),…"
      ]
     },
     "metadata": {},
     "output_type": "display_data"
    }
   ],
   "source": [
    "%%spark -o hist_depth\n",
    "\n",
    "import pandas as pd\n",
    "hist_depth =  spark.createDataFrame(\n",
    "    list(zip(*histogram_depth)), \n",
    "    ['bins', 'counts'])"
   ]
  },
  {
   "cell_type": "markdown",
   "metadata": {},
   "source": [
    "We first tell Jupyter that this is a local cell and to not send it to the cluster. We then import libraries from bokeh. We then set the parameters for our histogram and create it. We set bins as our index and we use counts for our heights. "
   ]
  },
  {
   "cell_type": "code",
   "execution_count": null,
   "metadata": {},
   "outputs": [
    {
     "data": {
      "text/html": [
       "\n",
       "\n",
       "\n",
       "\n",
       "\n",
       "\n",
       "  <div class=\"bk-root\" id=\"e8ff398a-e57c-4c55-b172-61ed25cabcf7\" data-root-id=\"2060\"></div>\n"
      ]
     },
     "metadata": {},
     "output_type": "display_data"
    },
    {
     "data": {
      "application/javascript": [
       "(function(root) {\n",
       "  function embed_document(root) {\n",
       "    \n",
       "  var docs_json = {\"4e5e13d5-5ca0-4274-a6b0-690329a3edda\":{\"defs\":[{\"extends\":null,\"module\":null,\"name\":\"DataModel\",\"overrides\":[],\"properties\":[]}],\"roots\":{\"references\":[{\"attributes\":{\"below\":[{\"id\":\"2071\"}],\"center\":[{\"id\":\"2073\"},{\"id\":\"2077\"}],\"height\":350,\"left\":[{\"id\":\"2074\"}],\"renderers\":[{\"id\":\"2095\"}],\"title\":{\"id\":\"2061\"},\"toolbar\":{\"id\":\"2085\"},\"x_range\":{\"id\":\"2063\"},\"x_scale\":{\"id\":\"2067\"},\"y_range\":{\"id\":\"2065\"},\"y_scale\":{\"id\":\"2069\"}},\"id\":\"2060\",\"subtype\":\"Figure\",\"type\":\"Plot\"},{\"attributes\":{},\"id\":\"2075\",\"type\":\"BasicTicker\"},{\"attributes\":{\"data\":{\"top\":[4,14,176,2055,12432,33393,4888,517,96,27],\"x\":[\"50.8\",\"52.88\",\"54.96\",\"57.04\",\"59.12\",\"61.2\",\"63.28\",\"65.36\",\"67.44\",\"69.52\"]},\"selected\":{\"id\":\"2185\"},\"selection_policy\":{\"id\":\"2184\"}},\"id\":\"2092\",\"type\":\"ColumnDataSource\"},{\"attributes\":{},\"id\":\"2179\",\"type\":\"AllLabels\"},{\"attributes\":{},\"id\":\"2065\",\"type\":\"DataRange1d\"},{\"attributes\":{},\"id\":\"2078\",\"type\":\"PanTool\"},{\"attributes\":{},\"id\":\"2185\",\"type\":\"Selection\"},{\"attributes\":{\"fill_alpha\":{\"value\":0.1},\"fill_color\":{\"value\":\"#1f77b4\"},\"line_alpha\":{\"value\":0.1},\"line_color\":{\"value\":\"#1f77b4\"},\"top\":{\"field\":\"top\"},\"width\":{\"value\":0.9},\"x\":{\"field\":\"x\"}},\"id\":\"2094\",\"type\":\"VBar\"},{\"attributes\":{},\"id\":\"2067\",\"type\":\"CategoricalScale\"},{\"attributes\":{\"axis\":{\"id\":\"2071\"},\"ticker\":null},\"id\":\"2073\",\"type\":\"Grid\"},{\"attributes\":{},\"id\":\"2082\",\"type\":\"ResetTool\"},{\"attributes\":{},\"id\":\"2184\",\"type\":\"UnionRenderers\"},{\"attributes\":{\"formatter\":{\"id\":\"2181\"},\"major_label_policy\":{\"id\":\"2182\"},\"ticker\":{\"id\":\"2072\"}},\"id\":\"2071\",\"type\":\"CategoricalAxis\"},{\"attributes\":{},\"id\":\"2178\",\"type\":\"BasicTickFormatter\"},{\"attributes\":{},\"id\":\"2072\",\"type\":\"CategoricalTicker\"},{\"attributes\":{},\"id\":\"2081\",\"type\":\"SaveTool\"},{\"attributes\":{\"bottom_units\":\"screen\",\"fill_alpha\":0.5,\"fill_color\":\"lightgrey\",\"left_units\":\"screen\",\"level\":\"overlay\",\"line_alpha\":1.0,\"line_color\":\"black\",\"line_dash\":[4,4],\"line_width\":2,\"right_units\":\"screen\",\"syncable\":false,\"top_units\":\"screen\"},\"id\":\"2084\",\"type\":\"BoxAnnotation\"},{\"attributes\":{},\"id\":\"2083\",\"type\":\"HelpTool\"},{\"attributes\":{\"data_source\":{\"id\":\"2092\"},\"glyph\":{\"id\":\"2093\"},\"hover_glyph\":null,\"muted_glyph\":null,\"nonselection_glyph\":{\"id\":\"2094\"},\"view\":{\"id\":\"2096\"}},\"id\":\"2095\",\"type\":\"GlyphRenderer\"},{\"attributes\":{\"overlay\":{\"id\":\"2084\"}},\"id\":\"2080\",\"type\":\"BoxZoomTool\"},{\"attributes\":{\"factors\":[\"50.8\",\"52.88\",\"54.96\",\"57.04\",\"59.12\",\"61.2\",\"63.28\",\"65.36\",\"67.44\",\"69.52\"]},\"id\":\"2063\",\"type\":\"FactorRange\"},{\"attributes\":{\"formatter\":{\"id\":\"2178\"},\"major_label_policy\":{\"id\":\"2179\"},\"ticker\":{\"id\":\"2075\"}},\"id\":\"2074\",\"type\":\"LinearAxis\"},{\"attributes\":{},\"id\":\"2069\",\"type\":\"LinearScale\"},{\"attributes\":{\"active_multi\":null,\"tools\":[{\"id\":\"2078\"},{\"id\":\"2079\"},{\"id\":\"2080\"},{\"id\":\"2081\"},{\"id\":\"2082\"},{\"id\":\"2083\"}]},\"id\":\"2085\",\"type\":\"Toolbar\"},{\"attributes\":{},\"id\":\"2182\",\"type\":\"AllLabels\"},{\"attributes\":{\"text\":\"Hist Depth\"},\"id\":\"2061\",\"type\":\"Title\"},{\"attributes\":{\"source\":{\"id\":\"2092\"}},\"id\":\"2096\",\"type\":\"CDSView\"},{\"attributes\":{\"axis\":{\"id\":\"2074\"},\"dimension\":1,\"ticker\":null},\"id\":\"2077\",\"type\":\"Grid\"},{\"attributes\":{},\"id\":\"2079\",\"type\":\"WheelZoomTool\"},{\"attributes\":{\"fill_color\":{\"value\":\"#1f77b4\"},\"line_color\":{\"value\":\"#1f77b4\"},\"top\":{\"field\":\"top\"},\"width\":{\"value\":0.9},\"x\":{\"field\":\"x\"}},\"id\":\"2093\",\"type\":\"VBar\"},{\"attributes\":{},\"id\":\"2181\",\"type\":\"CategoricalTickFormatter\"}],\"root_ids\":[\"2060\"]},\"title\":\"Bokeh Application\",\"version\":\"2.3.0\"}};\n",
       "  var render_items = [{\"docid\":\"4e5e13d5-5ca0-4274-a6b0-690329a3edda\",\"root_ids\":[\"2060\"],\"roots\":{\"2060\":\"e8ff398a-e57c-4c55-b172-61ed25cabcf7\"}}];\n",
       "  root.Bokeh.embed.embed_items_notebook(docs_json, render_items);\n",
       "\n",
       "  }\n",
       "  if (root.Bokeh !== undefined) {\n",
       "    embed_document(root);\n",
       "  } else {\n",
       "    var attempts = 0;\n",
       "    var timer = setInterval(function(root) {\n",
       "      if (root.Bokeh !== undefined) {\n",
       "        clearInterval(timer);\n",
       "        embed_document(root);\n",
       "      } else {\n",
       "        attempts++;\n",
       "        if (attempts > 100) {\n",
       "          clearInterval(timer);\n",
       "          console.log(\"Bokeh: ERROR: Unable to run BokehJS code because BokehJS library is missing\");\n",
       "        }\n",
       "      }\n",
       "    }, 10, root)\n",
       "  }\n",
       "})(window);"
      ],
      "application/vnd.bokehjs_exec.v0+json": ""
     },
     "metadata": {
      "application/vnd.bokehjs_exec.v0+json": {
       "id": "2060"
      }
     },
     "output_type": "display_data"
    }
   ],
   "source": [
    "%%local\n",
    "\n",
    "labels = [str(round(e, 2)) for e in hist_depth['bins']]\n",
    "p = figure(\n",
    " x_range=labels,\n",
    " plot_height=350,\n",
    " title='Hist Depth'\n",
    ")\n",
    "p.vbar(x=labels, top=hist_depth['counts'], width=0.9)\n",
    "show(p)"
   ]
  },
  {
   "cell_type": "markdown",
   "metadata": {},
   "source": [
    "From the output, we can see our histogram of depth values. We see the distribution of our data does not have any outliers despite the low value of counts for the rest of the data in this column."
   ]
  },
  {
   "cell_type": "markdown",
   "metadata": {},
   "source": [
    "## Table Histogram"
   ]
  },
  {
   "cell_type": "markdown",
   "metadata": {},
   "source": [
    "We run the following code to create our table histogram's cut-off points. We first select the column we would like to visualize and convert it to an RDD level. We then flat map the column to flatten out all elements. Then we call the histogram method of RDD and provide the number of partitions."
   ]
  },
  {
   "cell_type": "code",
   "execution_count": null,
   "metadata": {},
   "outputs": [
    {
     "data": {
      "application/vnd.jupyter.widget-view+json": {
       "model_id": "74714c5a451c48319ab9037611d25e10",
       "version_major": 2,
       "version_minor": 0
      },
      "text/plain": [
       "VBox()"
      ]
     },
     "metadata": {},
     "output_type": "display_data"
    },
    {
     "data": {
      "application/vnd.jupyter.widget-view+json": {
       "model_id": "",
       "version_major": 2,
       "version_minor": 0
      },
      "text/plain": [
       "FloatProgress(value=0.0, bar_style='info', description='Progress:', layout=Layout(height='25px', width='50%'),…"
      ]
     },
     "metadata": {},
     "output_type": "display_data"
    }
   ],
   "source": [
    "#generate bins and count of each bin\n",
    "histogram_table = (\n",
    "    diamonds_df\n",
    "    .select('table')\n",
    "    .rdd\n",
    "    .flatMap(lambda record: record)\n",
    "    .histogram(10)\n",
    ")"
   ]
  },
  {
   "cell_type": "markdown",
   "metadata": {},
   "source": [
    "This cell does not generate the histogram. Its purpose is to generate the cut-off points for our histogram.\n"
   ]
  },
  {
   "cell_type": "markdown",
   "metadata": {},
   "source": [
    "We use cell magic to export our converted pandas dataframe to the client. We do this in order to have our bins and frequencies in two separate columns. \n"
   ]
  },
  {
   "cell_type": "code",
   "execution_count": null,
   "metadata": {},
   "outputs": [
    {
     "data": {
      "application/vnd.jupyter.widget-view+json": {
       "model_id": "",
       "version_major": 2,
       "version_minor": 0
      },
      "text/plain": [
       "FloatProgress(value=0.0, bar_style='info', description='Progress:', layout=Layout(height='25px', width='50%'),…"
      ]
     },
     "metadata": {},
     "output_type": "display_data"
    },
    {
     "data": {
      "application/vnd.jupyter.widget-view+json": {
       "model_id": "",
       "version_major": 2,
       "version_minor": 0
      },
      "text/plain": [
       "FloatProgress(value=0.0, bar_style='info', description='Progress:', layout=Layout(height='25px', width='50%'),…"
      ]
     },
     "metadata": {},
     "output_type": "display_data"
    }
   ],
   "source": [
    "%%spark -o hist_table\n",
    "\n",
    "import pandas as pd\n",
    "hist_table =  spark.createDataFrame(\n",
    "    list(zip(*histogram_table)), \n",
    "    ['bins', 'counts'])"
   ]
  },
  {
   "cell_type": "markdown",
   "metadata": {},
   "source": [
    "We first tell Jupyter that this is a local cell and to not send it to the cluster. We then import libraries from bokeh. We then set the parameters for our histogram and create it. We set bins as our index and we use counts for our heights. \n"
   ]
  },
  {
   "cell_type": "code",
   "execution_count": null,
   "metadata": {},
   "outputs": [
    {
     "data": {
      "text/html": [
       "\n",
       "\n",
       "\n",
       "\n",
       "\n",
       "\n",
       "  <div class=\"bk-root\" id=\"922371eb-1b05-43fd-9368-d4aac15b6620\" data-root-id=\"2237\"></div>\n"
      ]
     },
     "metadata": {},
     "output_type": "display_data"
    },
    {
     "data": {
      "application/javascript": [
       "(function(root) {\n",
       "  function embed_document(root) {\n",
       "    \n",
       "  var docs_json = {\"78a06114-47f3-4fdc-af3c-419f2f0f61a8\":{\"defs\":[{\"extends\":null,\"module\":null,\"name\":\"DataModel\",\"overrides\":[],\"properties\":[]}],\"roots\":{\"references\":[{\"attributes\":{\"below\":[{\"id\":\"2248\"}],\"center\":[{\"id\":\"2250\"},{\"id\":\"2254\"}],\"height\":350,\"left\":[{\"id\":\"2251\"}],\"renderers\":[{\"id\":\"2272\"}],\"title\":{\"id\":\"2238\"},\"toolbar\":{\"id\":\"2262\"},\"x_range\":{\"id\":\"2240\"},\"x_scale\":{\"id\":\"2244\"},\"y_range\":{\"id\":\"2242\"},\"y_scale\":{\"id\":\"2246\"}},\"id\":\"2237\",\"subtype\":\"Figure\",\"type\":\"Plot\"},{\"attributes\":{\"text\":\"Hist Table\"},\"id\":\"2238\",\"type\":\"Title\"},{\"attributes\":{},\"id\":\"2369\",\"type\":\"AllLabels\"},{\"attributes\":{\"bottom_units\":\"screen\",\"fill_alpha\":0.5,\"fill_color\":\"lightgrey\",\"left_units\":\"screen\",\"level\":\"overlay\",\"line_alpha\":1.0,\"line_color\":\"black\",\"line_dash\":[4,4],\"line_width\":2,\"right_units\":\"screen\",\"syncable\":false,\"top_units\":\"screen\"},\"id\":\"2261\",\"type\":\"BoxAnnotation\"},{\"attributes\":{},\"id\":\"2255\",\"type\":\"PanTool\"},{\"attributes\":{\"overlay\":{\"id\":\"2261\"}},\"id\":\"2257\",\"type\":\"BoxZoomTool\"},{\"attributes\":{},\"id\":\"2372\",\"type\":\"Selection\"},{\"attributes\":{\"axis\":{\"id\":\"2251\"},\"dimension\":1,\"ticker\":null},\"id\":\"2254\",\"type\":\"Grid\"},{\"attributes\":{},\"id\":\"2366\",\"type\":\"AllLabels\"},{\"attributes\":{},\"id\":\"2260\",\"type\":\"HelpTool\"},{\"attributes\":{},\"id\":\"2371\",\"type\":\"UnionRenderers\"},{\"attributes\":{},\"id\":\"2246\",\"type\":\"LinearScale\"},{\"attributes\":{\"source\":{\"id\":\"2269\"}},\"id\":\"2273\",\"type\":\"CDSView\"},{\"attributes\":{},\"id\":\"2244\",\"type\":\"CategoricalScale\"},{\"attributes\":{},\"id\":\"2258\",\"type\":\"SaveTool\"},{\"attributes\":{},\"id\":\"2259\",\"type\":\"ResetTool\"},{\"attributes\":{\"formatter\":{\"id\":\"2365\"},\"major_label_policy\":{\"id\":\"2366\"},\"ticker\":{\"id\":\"2252\"}},\"id\":\"2251\",\"type\":\"LinearAxis\"},{\"attributes\":{\"fill_color\":{\"value\":\"#1f77b4\"},\"line_color\":{\"value\":\"#1f77b4\"},\"top\":{\"field\":\"top\"},\"width\":{\"value\":0.9},\"x\":{\"field\":\"x\"}},\"id\":\"2270\",\"type\":\"VBar\"},{\"attributes\":{},\"id\":\"2365\",\"type\":\"BasicTickFormatter\"},{\"attributes\":{},\"id\":\"2249\",\"type\":\"CategoricalTicker\"},{\"attributes\":{\"formatter\":{\"id\":\"2368\"},\"major_label_policy\":{\"id\":\"2369\"},\"ticker\":{\"id\":\"2249\"}},\"id\":\"2248\",\"type\":\"CategoricalAxis\"},{\"attributes\":{\"fill_alpha\":{\"value\":0.1},\"fill_color\":{\"value\":\"#1f77b4\"},\"line_alpha\":{\"value\":0.1},\"line_color\":{\"value\":\"#1f77b4\"},\"top\":{\"field\":\"top\"},\"width\":{\"value\":0.9},\"x\":{\"field\":\"x\"}},\"id\":\"2271\",\"type\":\"VBar\"},{\"attributes\":{\"factors\":[\"50.0\",\"51.9\",\"53.8\",\"55.7\",\"57.6\",\"59.5\",\"61.4\",\"63.3\",\"65.2\",\"67.1\"]},\"id\":\"2240\",\"type\":\"FactorRange\"},{\"attributes\":{\"data\":{\"top\":[13,725,9174,19747,14934,6567,1879,403,130,30],\"x\":[\"50.0\",\"51.9\",\"53.8\",\"55.7\",\"57.6\",\"59.5\",\"61.4\",\"63.3\",\"65.2\",\"67.1\"]},\"selected\":{\"id\":\"2372\"},\"selection_policy\":{\"id\":\"2371\"}},\"id\":\"2269\",\"type\":\"ColumnDataSource\"},{\"attributes\":{},\"id\":\"2256\",\"type\":\"WheelZoomTool\"},{\"attributes\":{\"data_source\":{\"id\":\"2269\"},\"glyph\":{\"id\":\"2270\"},\"hover_glyph\":null,\"muted_glyph\":null,\"nonselection_glyph\":{\"id\":\"2271\"},\"view\":{\"id\":\"2273\"}},\"id\":\"2272\",\"type\":\"GlyphRenderer\"},{\"attributes\":{},\"id\":\"2252\",\"type\":\"BasicTicker\"},{\"attributes\":{},\"id\":\"2368\",\"type\":\"CategoricalTickFormatter\"},{\"attributes\":{\"active_multi\":null,\"tools\":[{\"id\":\"2255\"},{\"id\":\"2256\"},{\"id\":\"2257\"},{\"id\":\"2258\"},{\"id\":\"2259\"},{\"id\":\"2260\"}]},\"id\":\"2262\",\"type\":\"Toolbar\"},{\"attributes\":{\"axis\":{\"id\":\"2248\"},\"ticker\":null},\"id\":\"2250\",\"type\":\"Grid\"},{\"attributes\":{},\"id\":\"2242\",\"type\":\"DataRange1d\"}],\"root_ids\":[\"2237\"]},\"title\":\"Bokeh Application\",\"version\":\"2.3.0\"}};\n",
       "  var render_items = [{\"docid\":\"78a06114-47f3-4fdc-af3c-419f2f0f61a8\",\"root_ids\":[\"2237\"],\"roots\":{\"2237\":\"922371eb-1b05-43fd-9368-d4aac15b6620\"}}];\n",
       "  root.Bokeh.embed.embed_items_notebook(docs_json, render_items);\n",
       "\n",
       "  }\n",
       "  if (root.Bokeh !== undefined) {\n",
       "    embed_document(root);\n",
       "  } else {\n",
       "    var attempts = 0;\n",
       "    var timer = setInterval(function(root) {\n",
       "      if (root.Bokeh !== undefined) {\n",
       "        clearInterval(timer);\n",
       "        embed_document(root);\n",
       "      } else {\n",
       "        attempts++;\n",
       "        if (attempts > 100) {\n",
       "          clearInterval(timer);\n",
       "          console.log(\"Bokeh: ERROR: Unable to run BokehJS code because BokehJS library is missing\");\n",
       "        }\n",
       "      }\n",
       "    }, 10, root)\n",
       "  }\n",
       "})(window);"
      ],
      "application/vnd.bokehjs_exec.v0+json": ""
     },
     "metadata": {
      "application/vnd.bokehjs_exec.v0+json": {
       "id": "2237"
      }
     },
     "output_type": "display_data"
    }
   ],
   "source": [
    "%%local\n",
    "\n",
    "labels = [str(round(e, 2)) for e in hist_table['bins']]\n",
    "p = figure(\n",
    " x_range=labels,\n",
    " plot_height=350,\n",
    " title='Hist Table'\n",
    ")\n",
    "p.vbar(x=labels, top=hist_table['counts'], width=0.9)\n",
    "show(p)"
   ]
  },
  {
   "cell_type": "markdown",
   "metadata": {},
   "source": [
    "From the output, we can see our histogram of table values. We see the distribution of our data does not have any outliers."
   ]
  },
  {
   "cell_type": "markdown",
   "metadata": {},
   "source": [
    "## Price Histogram"
   ]
  },
  {
   "cell_type": "markdown",
   "metadata": {},
   "source": [
    "We run the following code to create our price histogram's cut-off points. We first select the column we would like to visualize and convert it to an RDD level. We then flat map the column to flatten out all elements. Then we call the histogram method of RDD and provide the number of partitions.\n"
   ]
  },
  {
   "cell_type": "code",
   "execution_count": null,
   "metadata": {},
   "outputs": [
    {
     "data": {
      "application/vnd.jupyter.widget-view+json": {
       "model_id": "813bf4d53b574859b6a5636bfc00acbd",
       "version_major": 2,
       "version_minor": 0
      },
      "text/plain": [
       "VBox()"
      ]
     },
     "metadata": {},
     "output_type": "display_data"
    },
    {
     "data": {
      "application/vnd.jupyter.widget-view+json": {
       "model_id": "",
       "version_major": 2,
       "version_minor": 0
      },
      "text/plain": [
       "FloatProgress(value=0.0, bar_style='info', description='Progress:', layout=Layout(height='25px', width='50%'),…"
      ]
     },
     "metadata": {},
     "output_type": "display_data"
    }
   ],
   "source": [
    "#generate bins and count of each bin\n",
    "histogram_price = (\n",
    "    diamonds_df\n",
    "    .select('price')\n",
    "    .rdd\n",
    "    .flatMap(lambda record: record)\n",
    "    .histogram(10)\n",
    ")"
   ]
  },
  {
   "cell_type": "markdown",
   "metadata": {},
   "source": [
    "This cell does not generate the histogram. Its purpose is to generate the cut-off points for our histogram.\n"
   ]
  },
  {
   "cell_type": "markdown",
   "metadata": {},
   "source": [
    "We use cell magic to export our converted pandas dataframe to the client. We do this in order to have our bins and frequencies in two separate columns. \n"
   ]
  },
  {
   "cell_type": "code",
   "execution_count": null,
   "metadata": {},
   "outputs": [
    {
     "data": {
      "application/vnd.jupyter.widget-view+json": {
       "model_id": "",
       "version_major": 2,
       "version_minor": 0
      },
      "text/plain": [
       "FloatProgress(value=0.0, bar_style='info', description='Progress:', layout=Layout(height='25px', width='50%'),…"
      ]
     },
     "metadata": {},
     "output_type": "display_data"
    },
    {
     "data": {
      "application/vnd.jupyter.widget-view+json": {
       "model_id": "",
       "version_major": 2,
       "version_minor": 0
      },
      "text/plain": [
       "FloatProgress(value=0.0, bar_style='info', description='Progress:', layout=Layout(height='25px', width='50%'),…"
      ]
     },
     "metadata": {},
     "output_type": "display_data"
    }
   ],
   "source": [
    "%%spark -o hist_price\n",
    "\n",
    "import pandas as pd\n",
    "hist_price =  spark.createDataFrame(\n",
    "    list(zip(*histogram_price)), \n",
    "    ['bins', 'counts'])"
   ]
  },
  {
   "cell_type": "markdown",
   "metadata": {},
   "source": [
    "We first tell Jupyter that this is a local cell and to not send it to the cluster. We then import libraries from bokeh. We then set the parameters for our histogram and create it. We set bins as our index and we use counts for our heights. \n"
   ]
  },
  {
   "cell_type": "code",
   "execution_count": null,
   "metadata": {},
   "outputs": [
    {
     "data": {
      "text/html": [
       "\n",
       "\n",
       "\n",
       "\n",
       "\n",
       "\n",
       "  <div class=\"bk-root\" id=\"9175305d-55eb-4a27-9f1d-073351a6af90\" data-root-id=\"2424\"></div>\n"
      ]
     },
     "metadata": {},
     "output_type": "display_data"
    },
    {
     "data": {
      "application/javascript": [
       "(function(root) {\n",
       "  function embed_document(root) {\n",
       "    \n",
       "  var docs_json = {\"72480959-a796-414f-8a4a-897c3ec8e660\":{\"defs\":[{\"extends\":null,\"module\":null,\"name\":\"DataModel\",\"overrides\":[],\"properties\":[]}],\"roots\":{\"references\":[{\"attributes\":{\"below\":[{\"id\":\"2435\"}],\"center\":[{\"id\":\"2437\"},{\"id\":\"2441\"}],\"height\":350,\"left\":[{\"id\":\"2438\"}],\"renderers\":[{\"id\":\"2459\"}],\"title\":{\"id\":\"2425\"},\"toolbar\":{\"id\":\"2449\"},\"x_range\":{\"id\":\"2427\"},\"x_scale\":{\"id\":\"2431\"},\"y_range\":{\"id\":\"2429\"},\"y_scale\":{\"id\":\"2433\"}},\"id\":\"2424\",\"subtype\":\"Figure\",\"type\":\"Plot\"},{\"attributes\":{\"text\":\"Hist Price\"},\"id\":\"2425\",\"type\":\"Title\"},{\"attributes\":{\"data\":{\"top\":[25322,9305,7389,3869,2355,1728,1274,957,783,620],\"x\":[\"326.0\",\"2175.2\",\"4024.4\",\"5873.6\",\"7722.8\",\"9572.0\",\"11421.2\",\"13270.4\",\"15119.6\",\"16968.8\"]},\"selected\":{\"id\":\"2569\"},\"selection_policy\":{\"id\":\"2568\"}},\"id\":\"2456\",\"type\":\"ColumnDataSource\"},{\"attributes\":{},\"id\":\"2447\",\"type\":\"HelpTool\"},{\"attributes\":{\"formatter\":{\"id\":\"2565\"},\"major_label_policy\":{\"id\":\"2566\"},\"ticker\":{\"id\":\"2436\"}},\"id\":\"2435\",\"type\":\"CategoricalAxis\"},{\"attributes\":{},\"id\":\"2439\",\"type\":\"BasicTicker\"},{\"attributes\":{},\"id\":\"2566\",\"type\":\"AllLabels\"},{\"attributes\":{\"factors\":[\"326.0\",\"2175.2\",\"4024.4\",\"5873.6\",\"7722.8\",\"9572.0\",\"11421.2\",\"13270.4\",\"15119.6\",\"16968.8\"]},\"id\":\"2427\",\"type\":\"FactorRange\"},{\"attributes\":{\"fill_color\":{\"value\":\"#1f77b4\"},\"line_color\":{\"value\":\"#1f77b4\"},\"top\":{\"field\":\"top\"},\"width\":{\"value\":0.9},\"x\":{\"field\":\"x\"}},\"id\":\"2457\",\"type\":\"VBar\"},{\"attributes\":{},\"id\":\"2568\",\"type\":\"UnionRenderers\"},{\"attributes\":{},\"id\":\"2429\",\"type\":\"DataRange1d\"},{\"attributes\":{\"formatter\":{\"id\":\"2562\"},\"major_label_policy\":{\"id\":\"2563\"},\"ticker\":{\"id\":\"2439\"}},\"id\":\"2438\",\"type\":\"LinearAxis\"},{\"attributes\":{},\"id\":\"2565\",\"type\":\"CategoricalTickFormatter\"},{\"attributes\":{},\"id\":\"2436\",\"type\":\"CategoricalTicker\"},{\"attributes\":{},\"id\":\"2445\",\"type\":\"SaveTool\"},{\"attributes\":{\"axis\":{\"id\":\"2435\"},\"ticker\":null},\"id\":\"2437\",\"type\":\"Grid\"},{\"attributes\":{},\"id\":\"2569\",\"type\":\"Selection\"},{\"attributes\":{},\"id\":\"2563\",\"type\":\"AllLabels\"},{\"attributes\":{\"overlay\":{\"id\":\"2448\"}},\"id\":\"2444\",\"type\":\"BoxZoomTool\"},{\"attributes\":{},\"id\":\"2446\",\"type\":\"ResetTool\"},{\"attributes\":{\"axis\":{\"id\":\"2438\"},\"dimension\":1,\"ticker\":null},\"id\":\"2441\",\"type\":\"Grid\"},{\"attributes\":{},\"id\":\"2442\",\"type\":\"PanTool\"},{\"attributes\":{\"source\":{\"id\":\"2456\"}},\"id\":\"2460\",\"type\":\"CDSView\"},{\"attributes\":{\"bottom_units\":\"screen\",\"fill_alpha\":0.5,\"fill_color\":\"lightgrey\",\"left_units\":\"screen\",\"level\":\"overlay\",\"line_alpha\":1.0,\"line_color\":\"black\",\"line_dash\":[4,4],\"line_width\":2,\"right_units\":\"screen\",\"syncable\":false,\"top_units\":\"screen\"},\"id\":\"2448\",\"type\":\"BoxAnnotation\"},{\"attributes\":{},\"id\":\"2443\",\"type\":\"WheelZoomTool\"},{\"attributes\":{},\"id\":\"2433\",\"type\":\"LinearScale\"},{\"attributes\":{},\"id\":\"2431\",\"type\":\"CategoricalScale\"},{\"attributes\":{\"data_source\":{\"id\":\"2456\"},\"glyph\":{\"id\":\"2457\"},\"hover_glyph\":null,\"muted_glyph\":null,\"nonselection_glyph\":{\"id\":\"2458\"},\"view\":{\"id\":\"2460\"}},\"id\":\"2459\",\"type\":\"GlyphRenderer\"},{\"attributes\":{\"fill_alpha\":{\"value\":0.1},\"fill_color\":{\"value\":\"#1f77b4\"},\"line_alpha\":{\"value\":0.1},\"line_color\":{\"value\":\"#1f77b4\"},\"top\":{\"field\":\"top\"},\"width\":{\"value\":0.9},\"x\":{\"field\":\"x\"}},\"id\":\"2458\",\"type\":\"VBar\"},{\"attributes\":{},\"id\":\"2562\",\"type\":\"BasicTickFormatter\"},{\"attributes\":{\"active_multi\":null,\"tools\":[{\"id\":\"2442\"},{\"id\":\"2443\"},{\"id\":\"2444\"},{\"id\":\"2445\"},{\"id\":\"2446\"},{\"id\":\"2447\"}]},\"id\":\"2449\",\"type\":\"Toolbar\"}],\"root_ids\":[\"2424\"]},\"title\":\"Bokeh Application\",\"version\":\"2.3.0\"}};\n",
       "  var render_items = [{\"docid\":\"72480959-a796-414f-8a4a-897c3ec8e660\",\"root_ids\":[\"2424\"],\"roots\":{\"2424\":\"9175305d-55eb-4a27-9f1d-073351a6af90\"}}];\n",
       "  root.Bokeh.embed.embed_items_notebook(docs_json, render_items);\n",
       "\n",
       "  }\n",
       "  if (root.Bokeh !== undefined) {\n",
       "    embed_document(root);\n",
       "  } else {\n",
       "    var attempts = 0;\n",
       "    var timer = setInterval(function(root) {\n",
       "      if (root.Bokeh !== undefined) {\n",
       "        clearInterval(timer);\n",
       "        embed_document(root);\n",
       "      } else {\n",
       "        attempts++;\n",
       "        if (attempts > 100) {\n",
       "          clearInterval(timer);\n",
       "          console.log(\"Bokeh: ERROR: Unable to run BokehJS code because BokehJS library is missing\");\n",
       "        }\n",
       "      }\n",
       "    }, 10, root)\n",
       "  }\n",
       "})(window);"
      ],
      "application/vnd.bokehjs_exec.v0+json": ""
     },
     "metadata": {
      "application/vnd.bokehjs_exec.v0+json": {
       "id": "2424"
      }
     },
     "output_type": "display_data"
    }
   ],
   "source": [
    "%%local\n",
    "\n",
    "labels = [str(round(e, 2)) for e in hist_price['bins']]\n",
    "p = figure(\n",
    " x_range=labels,\n",
    " plot_height=350,\n",
    " title='Hist Price'\n",
    ")\n",
    "p.vbar(x=labels, top=hist_price['counts'], width=0.9)\n",
    "show(p)"
   ]
  },
  {
   "cell_type": "markdown",
   "metadata": {},
   "source": [
    "From the output, we can see our histogram of price values. We see the distribution of our data does not have any outliers."
   ]
  },
  {
   "cell_type": "markdown",
   "metadata": {},
   "source": [
    "## X Histogram"
   ]
  },
  {
   "cell_type": "markdown",
   "metadata": {},
   "source": [
    "We run the following code to create our x histogram's cut-off points. We first select the column we would like to visualize and convert it to an RDD level. We then flat map the column to flatten out all elements. Then we call the histogram method of RDD and provide the number of partitions.\n"
   ]
  },
  {
   "cell_type": "code",
   "execution_count": null,
   "metadata": {},
   "outputs": [
    {
     "data": {
      "application/vnd.jupyter.widget-view+json": {
       "model_id": "8befd8bd51974ea8980688c480e21c61",
       "version_major": 2,
       "version_minor": 0
      },
      "text/plain": [
       "VBox()"
      ]
     },
     "metadata": {},
     "output_type": "display_data"
    },
    {
     "data": {
      "application/vnd.jupyter.widget-view+json": {
       "model_id": "",
       "version_major": 2,
       "version_minor": 0
      },
      "text/plain": [
       "FloatProgress(value=0.0, bar_style='info', description='Progress:', layout=Layout(height='25px', width='50%'),…"
      ]
     },
     "metadata": {},
     "output_type": "display_data"
    }
   ],
   "source": [
    "#generate bins and count of each bin\n",
    "histogram_x = (\n",
    "    diamonds_df\n",
    "    .select('x')\n",
    "    .rdd\n",
    "    .flatMap(lambda record: record)\n",
    "    .histogram(5)\n",
    ")"
   ]
  },
  {
   "cell_type": "markdown",
   "metadata": {},
   "source": [
    "This cell does not generate the histogram. Its purpose is to generate the cut-off points for our histogram."
   ]
  },
  {
   "cell_type": "markdown",
   "metadata": {},
   "source": [
    "We use cell magic to export our converted pandas dataframe to the client. We do this in order to have our bins and frequencies in two separate columns. \n"
   ]
  },
  {
   "cell_type": "code",
   "execution_count": null,
   "metadata": {},
   "outputs": [
    {
     "data": {
      "application/vnd.jupyter.widget-view+json": {
       "model_id": "",
       "version_major": 2,
       "version_minor": 0
      },
      "text/plain": [
       "FloatProgress(value=0.0, bar_style='info', description='Progress:', layout=Layout(height='25px', width='50%'),…"
      ]
     },
     "metadata": {},
     "output_type": "display_data"
    },
    {
     "data": {
      "application/vnd.jupyter.widget-view+json": {
       "model_id": "",
       "version_major": 2,
       "version_minor": 0
      },
      "text/plain": [
       "FloatProgress(value=0.0, bar_style='info', description='Progress:', layout=Layout(height='25px', width='50%'),…"
      ]
     },
     "metadata": {},
     "output_type": "display_data"
    }
   ],
   "source": [
    "%%spark -o hist_x\n",
    "\n",
    "import pandas as pd\n",
    "hist_x =  spark.createDataFrame(\n",
    "    list(zip(*histogram_x)), \n",
    "    ['bins', 'counts'])"
   ]
  },
  {
   "cell_type": "markdown",
   "metadata": {},
   "source": [
    "We first tell Jupyter that this is a local cell and to not send it to the cluster. We then import libraries from bokeh. We then set the parameters for our histogram and create it. We set bins as our index and we use counts for our heights. \n"
   ]
  },
  {
   "cell_type": "code",
   "execution_count": null,
   "metadata": {},
   "outputs": [
    {
     "data": {
      "text/html": [
       "\n",
       "\n",
       "\n",
       "\n",
       "\n",
       "\n",
       "  <div class=\"bk-root\" id=\"4842ec82-1128-448d-aca1-c1cf83ca8795\" data-root-id=\"2621\"></div>\n"
      ]
     },
     "metadata": {},
     "output_type": "display_data"
    },
    {
     "data": {
      "application/javascript": [
       "(function(root) {\n",
       "  function embed_document(root) {\n",
       "    \n",
       "  var docs_json = {\"42c31957-d195-4bd7-b9c9-36b5f2b8fccb\":{\"defs\":[{\"extends\":null,\"module\":null,\"name\":\"DataModel\",\"overrides\":[],\"properties\":[]}],\"roots\":{\"references\":[{\"attributes\":{\"below\":[{\"id\":\"2632\"}],\"center\":[{\"id\":\"2634\"},{\"id\":\"2638\"}],\"height\":350,\"left\":[{\"id\":\"2635\"}],\"renderers\":[{\"id\":\"2656\"}],\"title\":{\"id\":\"2622\"},\"toolbar\":{\"id\":\"2646\"},\"x_range\":{\"id\":\"2624\"},\"x_scale\":{\"id\":\"2628\"},\"y_range\":{\"id\":\"2626\"},\"y_scale\":{\"id\":\"2630\"}},\"id\":\"2621\",\"subtype\":\"Figure\",\"type\":\"Plot\"},{\"attributes\":{\"fill_color\":{\"value\":\"#1f77b4\"},\"line_color\":{\"value\":\"#1f77b4\"},\"top\":{\"field\":\"top\"},\"width\":{\"value\":0.9},\"x\":{\"field\":\"x\"}},\"id\":\"2654\",\"type\":\"VBar\"},{\"attributes\":{},\"id\":\"2639\",\"type\":\"PanTool\"},{\"attributes\":{},\"id\":\"2773\",\"type\":\"AllLabels\"},{\"attributes\":{\"bottom_units\":\"screen\",\"fill_alpha\":0.5,\"fill_color\":\"lightgrey\",\"left_units\":\"screen\",\"level\":\"overlay\",\"line_alpha\":1.0,\"line_color\":\"black\",\"line_dash\":[4,4],\"line_width\":2,\"right_units\":\"screen\",\"syncable\":false,\"top_units\":\"screen\"},\"id\":\"2645\",\"type\":\"BoxAnnotation\"},{\"attributes\":{\"data_source\":{\"id\":\"2653\"},\"glyph\":{\"id\":\"2654\"},\"hover_glyph\":null,\"muted_glyph\":null,\"nonselection_glyph\":{\"id\":\"2655\"},\"view\":{\"id\":\"2657\"}},\"id\":\"2656\",\"type\":\"GlyphRenderer\"},{\"attributes\":{},\"id\":\"2769\",\"type\":\"BasicTickFormatter\"},{\"attributes\":{},\"id\":\"2633\",\"type\":\"CategoricalTicker\"},{\"attributes\":{},\"id\":\"2630\",\"type\":\"LinearScale\"},{\"attributes\":{\"axis\":{\"id\":\"2635\"},\"dimension\":1,\"ticker\":null},\"id\":\"2638\",\"type\":\"Grid\"},{\"attributes\":{\"formatter\":{\"id\":\"2772\"},\"major_label_policy\":{\"id\":\"2773\"},\"ticker\":{\"id\":\"2633\"}},\"id\":\"2632\",\"type\":\"CategoricalAxis\"},{\"attributes\":{},\"id\":\"2642\",\"type\":\"SaveTool\"},{\"attributes\":{},\"id\":\"2772\",\"type\":\"CategoricalTickFormatter\"},{\"attributes\":{\"formatter\":{\"id\":\"2769\"},\"major_label_policy\":{\"id\":\"2770\"},\"ticker\":{\"id\":\"2636\"}},\"id\":\"2635\",\"type\":\"LinearAxis\"},{\"attributes\":{\"axis\":{\"id\":\"2632\"},\"ticker\":null},\"id\":\"2634\",\"type\":\"Grid\"},{\"attributes\":{\"fill_alpha\":{\"value\":0.1},\"fill_color\":{\"value\":\"#1f77b4\"},\"line_alpha\":{\"value\":0.1},\"line_color\":{\"value\":\"#1f77b4\"},\"top\":{\"field\":\"top\"},\"width\":{\"value\":0.9},\"x\":{\"field\":\"x\"}},\"id\":\"2655\",\"type\":\"VBar\"},{\"attributes\":{\"overlay\":{\"id\":\"2645\"}},\"id\":\"2641\",\"type\":\"BoxZoomTool\"},{\"attributes\":{},\"id\":\"2628\",\"type\":\"CategoricalScale\"},{\"attributes\":{\"factors\":[\"3.73\",\"4.68\",\"5.63\",\"6.59\",\"7.54\"]},\"id\":\"2624\",\"type\":\"FactorRange\"},{\"attributes\":{},\"id\":\"2644\",\"type\":\"HelpTool\"},{\"attributes\":{},\"id\":\"2775\",\"type\":\"UnionRenderers\"},{\"attributes\":{},\"id\":\"2626\",\"type\":\"DataRange1d\"},{\"attributes\":{\"active_multi\":null,\"tools\":[{\"id\":\"2639\"},{\"id\":\"2640\"},{\"id\":\"2641\"},{\"id\":\"2642\"},{\"id\":\"2643\"},{\"id\":\"2644\"}]},\"id\":\"2646\",\"type\":\"Toolbar\"},{\"attributes\":{\"source\":{\"id\":\"2653\"}},\"id\":\"2657\",\"type\":\"CDSView\"},{\"attributes\":{},\"id\":\"2636\",\"type\":\"BasicTicker\"},{\"attributes\":{},\"id\":\"2776\",\"type\":\"Selection\"},{\"attributes\":{\"text\":\"Hist X\"},\"id\":\"2622\",\"type\":\"Title\"},{\"attributes\":{},\"id\":\"2640\",\"type\":\"WheelZoomTool\"},{\"attributes\":{},\"id\":\"2643\",\"type\":\"ResetTool\"},{\"attributes\":{\"data\":{\"top\":[12924,12778,15591,9285,3024],\"x\":[\"3.73\",\"4.68\",\"5.63\",\"6.59\",\"7.54\"]},\"selected\":{\"id\":\"2776\"},\"selection_policy\":{\"id\":\"2775\"}},\"id\":\"2653\",\"type\":\"ColumnDataSource\"},{\"attributes\":{},\"id\":\"2770\",\"type\":\"AllLabels\"}],\"root_ids\":[\"2621\"]},\"title\":\"Bokeh Application\",\"version\":\"2.3.0\"}};\n",
       "  var render_items = [{\"docid\":\"42c31957-d195-4bd7-b9c9-36b5f2b8fccb\",\"root_ids\":[\"2621\"],\"roots\":{\"2621\":\"4842ec82-1128-448d-aca1-c1cf83ca8795\"}}];\n",
       "  root.Bokeh.embed.embed_items_notebook(docs_json, render_items);\n",
       "\n",
       "  }\n",
       "  if (root.Bokeh !== undefined) {\n",
       "    embed_document(root);\n",
       "  } else {\n",
       "    var attempts = 0;\n",
       "    var timer = setInterval(function(root) {\n",
       "      if (root.Bokeh !== undefined) {\n",
       "        clearInterval(timer);\n",
       "        embed_document(root);\n",
       "      } else {\n",
       "        attempts++;\n",
       "        if (attempts > 100) {\n",
       "          clearInterval(timer);\n",
       "          console.log(\"Bokeh: ERROR: Unable to run BokehJS code because BokehJS library is missing\");\n",
       "        }\n",
       "      }\n",
       "    }, 10, root)\n",
       "  }\n",
       "})(window);"
      ],
      "application/vnd.bokehjs_exec.v0+json": ""
     },
     "metadata": {
      "application/vnd.bokehjs_exec.v0+json": {
       "id": "2621"
      }
     },
     "output_type": "display_data"
    }
   ],
   "source": [
    "%%local\n",
    "\n",
    "labels = [str(round(e, 2)) for e in hist_x['bins']]\n",
    "p = figure(\n",
    " x_range=labels,\n",
    " plot_height=350,\n",
    " title='Hist X'\n",
    ")\n",
    "p.vbar(x=labels, top=hist_x['counts'], width=0.9)\n",
    "show(p)"
   ]
  },
  {
   "cell_type": "markdown",
   "metadata": {},
   "source": [
    "From the output, we can see our histogram of x values. We see the distribution of our data does not have any outliers."
   ]
  },
  {
   "cell_type": "markdown",
   "metadata": {},
   "source": [
    "## Y Histogram"
   ]
  },
  {
   "cell_type": "markdown",
   "metadata": {},
   "source": [
    "We run the following code to create our y histogram's cut-off points. We first select the column we would like to visualize and convert it to an RDD level. We then flat map the column to flatten out all elements. Then we call the histogram method of RDD and provide the number of partitions.\n"
   ]
  },
  {
   "cell_type": "code",
   "execution_count": null,
   "metadata": {},
   "outputs": [
    {
     "data": {
      "application/vnd.jupyter.widget-view+json": {
       "model_id": "0cea509837b549dd9c2be70fda2eda3e",
       "version_major": 2,
       "version_minor": 0
      },
      "text/plain": [
       "VBox()"
      ]
     },
     "metadata": {},
     "output_type": "display_data"
    },
    {
     "data": {
      "application/vnd.jupyter.widget-view+json": {
       "model_id": "",
       "version_major": 2,
       "version_minor": 0
      },
      "text/plain": [
       "FloatProgress(value=0.0, bar_style='info', description='Progress:', layout=Layout(height='25px', width='50%'),…"
      ]
     },
     "metadata": {},
     "output_type": "display_data"
    }
   ],
   "source": [
    "#generate bins and count of each bin\n",
    "histogram_y = (\n",
    "    diamonds_df\n",
    "    .select('y')\n",
    "    .rdd\n",
    "    .flatMap(lambda record: record)\n",
    "    .histogram(5)\n",
    ")"
   ]
  },
  {
   "cell_type": "markdown",
   "metadata": {},
   "source": [
    "This cell does not generate the histogram. Its purpose is to generate the cut-off points for our histogram.\n"
   ]
  },
  {
   "cell_type": "markdown",
   "metadata": {},
   "source": [
    "We use cell magic to export our converted pandas dataframe to the client. We do this in order to have our bins and frequencies in two separate columns. \n"
   ]
  },
  {
   "cell_type": "code",
   "execution_count": null,
   "metadata": {},
   "outputs": [
    {
     "data": {
      "application/vnd.jupyter.widget-view+json": {
       "model_id": "",
       "version_major": 2,
       "version_minor": 0
      },
      "text/plain": [
       "FloatProgress(value=0.0, bar_style='info', description='Progress:', layout=Layout(height='25px', width='50%'),…"
      ]
     },
     "metadata": {},
     "output_type": "display_data"
    },
    {
     "data": {
      "application/vnd.jupyter.widget-view+json": {
       "model_id": "",
       "version_major": 2,
       "version_minor": 0
      },
      "text/plain": [
       "FloatProgress(value=0.0, bar_style='info', description='Progress:', layout=Layout(height='25px', width='50%'),…"
      ]
     },
     "metadata": {},
     "output_type": "display_data"
    }
   ],
   "source": [
    "%%spark -o hist_y\n",
    "\n",
    "import pandas as pd\n",
    "hist_y =  spark.createDataFrame(\n",
    "    list(zip(*histogram_y)), \n",
    "    ['bins', 'counts'])"
   ]
  },
  {
   "cell_type": "markdown",
   "metadata": {},
   "source": [
    "We first tell Jupyter that this is a local cell and to not send it to the cluster. We then import libraries from bokeh. We then set the parameters for our histogram and create it. We set bins as our index and we use counts for our heights. \n"
   ]
  },
  {
   "cell_type": "code",
   "execution_count": null,
   "metadata": {},
   "outputs": [
    {
     "data": {
      "text/html": [
       "\n",
       "\n",
       "\n",
       "\n",
       "\n",
       "\n",
       "  <div class=\"bk-root\" id=\"e081e7e1-5113-4c3d-b13f-536d6250fd7e\" data-root-id=\"2828\"></div>\n"
      ]
     },
     "metadata": {},
     "output_type": "display_data"
    },
    {
     "data": {
      "application/javascript": [
       "(function(root) {\n",
       "  function embed_document(root) {\n",
       "    \n",
       "  var docs_json = {\"7296a3ac-7382-417b-b2c3-f1c27e7d2af6\":{\"defs\":[{\"extends\":null,\"module\":null,\"name\":\"DataModel\",\"overrides\":[],\"properties\":[]}],\"roots\":{\"references\":[{\"attributes\":{\"below\":[{\"id\":\"2839\"}],\"center\":[{\"id\":\"2841\"},{\"id\":\"2845\"}],\"height\":350,\"left\":[{\"id\":\"2842\"}],\"renderers\":[{\"id\":\"2863\"}],\"title\":{\"id\":\"2829\"},\"toolbar\":{\"id\":\"2853\"},\"x_range\":{\"id\":\"2831\"},\"x_scale\":{\"id\":\"2835\"},\"y_range\":{\"id\":\"2833\"},\"y_scale\":{\"id\":\"2837\"}},\"id\":\"2828\",\"subtype\":\"Figure\",\"type\":\"Plot\"},{\"attributes\":{},\"id\":\"2992\",\"type\":\"UnionRenderers\"},{\"attributes\":{\"active_multi\":null,\"tools\":[{\"id\":\"2846\"},{\"id\":\"2847\"},{\"id\":\"2848\"},{\"id\":\"2849\"},{\"id\":\"2850\"},{\"id\":\"2851\"}]},\"id\":\"2853\",\"type\":\"Toolbar\"},{\"attributes\":{},\"id\":\"2835\",\"type\":\"CategoricalScale\"},{\"attributes\":{},\"id\":\"2851\",\"type\":\"HelpTool\"},{\"attributes\":{\"fill_alpha\":{\"value\":0.1},\"fill_color\":{\"value\":\"#1f77b4\"},\"line_alpha\":{\"value\":0.1},\"line_color\":{\"value\":\"#1f77b4\"},\"top\":{\"field\":\"top\"},\"width\":{\"value\":0.9},\"x\":{\"field\":\"x\"}},\"id\":\"2862\",\"type\":\"VBar\"},{\"attributes\":{},\"id\":\"2993\",\"type\":\"Selection\"},{\"attributes\":{\"formatter\":{\"id\":\"2989\"},\"major_label_policy\":{\"id\":\"2990\"},\"ticker\":{\"id\":\"2840\"}},\"id\":\"2839\",\"type\":\"CategoricalAxis\"},{\"attributes\":{},\"id\":\"2989\",\"type\":\"CategoricalTickFormatter\"},{\"attributes\":{\"axis\":{\"id\":\"2842\"},\"dimension\":1,\"ticker\":null},\"id\":\"2845\",\"type\":\"Grid\"},{\"attributes\":{\"factors\":[\"3.68\",\"4.66\",\"5.63\",\"6.61\",\"7.58\"]},\"id\":\"2831\",\"type\":\"FactorRange\"},{\"attributes\":{\"data\":{\"top\":[12174,13534,16005,9188,2701],\"x\":[\"3.68\",\"4.66\",\"5.63\",\"6.61\",\"7.58\"]},\"selected\":{\"id\":\"2993\"},\"selection_policy\":{\"id\":\"2992\"}},\"id\":\"2860\",\"type\":\"ColumnDataSource\"},{\"attributes\":{},\"id\":\"2849\",\"type\":\"SaveTool\"},{\"attributes\":{},\"id\":\"2987\",\"type\":\"AllLabels\"},{\"attributes\":{},\"id\":\"2837\",\"type\":\"LinearScale\"},{\"attributes\":{\"text\":\"Hist Y\"},\"id\":\"2829\",\"type\":\"Title\"},{\"attributes\":{},\"id\":\"2847\",\"type\":\"WheelZoomTool\"},{\"attributes\":{},\"id\":\"2990\",\"type\":\"AllLabels\"},{\"attributes\":{},\"id\":\"2850\",\"type\":\"ResetTool\"},{\"attributes\":{},\"id\":\"2833\",\"type\":\"DataRange1d\"},{\"attributes\":{\"axis\":{\"id\":\"2839\"},\"ticker\":null},\"id\":\"2841\",\"type\":\"Grid\"},{\"attributes\":{},\"id\":\"2846\",\"type\":\"PanTool\"},{\"attributes\":{\"source\":{\"id\":\"2860\"}},\"id\":\"2864\",\"type\":\"CDSView\"},{\"attributes\":{},\"id\":\"2843\",\"type\":\"BasicTicker\"},{\"attributes\":{\"bottom_units\":\"screen\",\"fill_alpha\":0.5,\"fill_color\":\"lightgrey\",\"left_units\":\"screen\",\"level\":\"overlay\",\"line_alpha\":1.0,\"line_color\":\"black\",\"line_dash\":[4,4],\"line_width\":2,\"right_units\":\"screen\",\"syncable\":false,\"top_units\":\"screen\"},\"id\":\"2852\",\"type\":\"BoxAnnotation\"},{\"attributes\":{},\"id\":\"2986\",\"type\":\"BasicTickFormatter\"},{\"attributes\":{},\"id\":\"2840\",\"type\":\"CategoricalTicker\"},{\"attributes\":{\"data_source\":{\"id\":\"2860\"},\"glyph\":{\"id\":\"2861\"},\"hover_glyph\":null,\"muted_glyph\":null,\"nonselection_glyph\":{\"id\":\"2862\"},\"view\":{\"id\":\"2864\"}},\"id\":\"2863\",\"type\":\"GlyphRenderer\"},{\"attributes\":{\"overlay\":{\"id\":\"2852\"}},\"id\":\"2848\",\"type\":\"BoxZoomTool\"},{\"attributes\":{\"fill_color\":{\"value\":\"#1f77b4\"},\"line_color\":{\"value\":\"#1f77b4\"},\"top\":{\"field\":\"top\"},\"width\":{\"value\":0.9},\"x\":{\"field\":\"x\"}},\"id\":\"2861\",\"type\":\"VBar\"},{\"attributes\":{\"formatter\":{\"id\":\"2986\"},\"major_label_policy\":{\"id\":\"2987\"},\"ticker\":{\"id\":\"2843\"}},\"id\":\"2842\",\"type\":\"LinearAxis\"}],\"root_ids\":[\"2828\"]},\"title\":\"Bokeh Application\",\"version\":\"2.3.0\"}};\n",
       "  var render_items = [{\"docid\":\"7296a3ac-7382-417b-b2c3-f1c27e7d2af6\",\"root_ids\":[\"2828\"],\"roots\":{\"2828\":\"e081e7e1-5113-4c3d-b13f-536d6250fd7e\"}}];\n",
       "  root.Bokeh.embed.embed_items_notebook(docs_json, render_items);\n",
       "\n",
       "  }\n",
       "  if (root.Bokeh !== undefined) {\n",
       "    embed_document(root);\n",
       "  } else {\n",
       "    var attempts = 0;\n",
       "    var timer = setInterval(function(root) {\n",
       "      if (root.Bokeh !== undefined) {\n",
       "        clearInterval(timer);\n",
       "        embed_document(root);\n",
       "      } else {\n",
       "        attempts++;\n",
       "        if (attempts > 100) {\n",
       "          clearInterval(timer);\n",
       "          console.log(\"Bokeh: ERROR: Unable to run BokehJS code because BokehJS library is missing\");\n",
       "        }\n",
       "      }\n",
       "    }, 10, root)\n",
       "  }\n",
       "})(window);"
      ],
      "application/vnd.bokehjs_exec.v0+json": ""
     },
     "metadata": {
      "application/vnd.bokehjs_exec.v0+json": {
       "id": "2828"
      }
     },
     "output_type": "display_data"
    }
   ],
   "source": [
    "%%local\n",
    "\n",
    "labels = [str(round(e, 2)) for e in hist_y['bins']]\n",
    "p = figure(\n",
    " x_range=labels,\n",
    " plot_height=350,\n",
    " title='Hist Y'\n",
    ")\n",
    "p.vbar(x=labels, top=hist_y['counts'], width=0.9)\n",
    "show(p)"
   ]
  },
  {
   "cell_type": "markdown",
   "metadata": {},
   "source": [
    "From the output, we can see our histogram of y values. We see the distribution of our data does not have any outliers."
   ]
  },
  {
   "cell_type": "markdown",
   "metadata": {},
   "source": [
    "## Z Histogram"
   ]
  },
  {
   "cell_type": "markdown",
   "metadata": {},
   "source": [
    "We run the following code to create our z histogram's cut-off points. We first select the column we would like to visualize and convert it to an RDD level. We then flat map the column to flatten out all elements. Then we call the histogram method of RDD and provide the number of partitions.\n"
   ]
  },
  {
   "cell_type": "code",
   "execution_count": null,
   "metadata": {},
   "outputs": [
    {
     "data": {
      "application/vnd.jupyter.widget-view+json": {
       "model_id": "0b592a759c7d46ff95aa0fe4a9b3ec81",
       "version_major": 2,
       "version_minor": 0
      },
      "text/plain": [
       "VBox()"
      ]
     },
     "metadata": {},
     "output_type": "display_data"
    },
    {
     "data": {
      "application/vnd.jupyter.widget-view+json": {
       "model_id": "",
       "version_major": 2,
       "version_minor": 0
      },
      "text/plain": [
       "FloatProgress(value=0.0, bar_style='info', description='Progress:', layout=Layout(height='25px', width='50%'),…"
      ]
     },
     "metadata": {},
     "output_type": "display_data"
    }
   ],
   "source": [
    "#generate bins and count of each bin\n",
    "histogram_z = (\n",
    "    diamonds_df\n",
    "    .select('z')\n",
    "    .rdd\n",
    "    .flatMap(lambda record: record)\n",
    "    .histogram(5)\n",
    ")"
   ]
  },
  {
   "cell_type": "markdown",
   "metadata": {},
   "source": [
    "This cell does not generate the histogram. Its purpose is to generate the cut-off points for our histogram.\n"
   ]
  },
  {
   "cell_type": "markdown",
   "metadata": {},
   "source": [
    "We use cell magic to export our converted pandas dataframe to the client. We do this in order to have our bins and frequencies in two separate columns. \n"
   ]
  },
  {
   "cell_type": "code",
   "execution_count": null,
   "metadata": {},
   "outputs": [
    {
     "data": {
      "application/vnd.jupyter.widget-view+json": {
       "model_id": "",
       "version_major": 2,
       "version_minor": 0
      },
      "text/plain": [
       "FloatProgress(value=0.0, bar_style='info', description='Progress:', layout=Layout(height='25px', width='50%'),…"
      ]
     },
     "metadata": {},
     "output_type": "display_data"
    },
    {
     "data": {
      "application/vnd.jupyter.widget-view+json": {
       "model_id": "",
       "version_major": 2,
       "version_minor": 0
      },
      "text/plain": [
       "FloatProgress(value=0.0, bar_style='info', description='Progress:', layout=Layout(height='25px', width='50%'),…"
      ]
     },
     "metadata": {},
     "output_type": "display_data"
    }
   ],
   "source": [
    "%%spark -o hist_z\n",
    "\n",
    "import pandas as pd\n",
    "hist_z =  spark.createDataFrame(\n",
    "    list(zip(*histogram_z)), \n",
    "    ['bins', 'counts'])"
   ]
  },
  {
   "cell_type": "markdown",
   "metadata": {},
   "source": [
    "We first tell Jupyter that this is a local cell and to not send it to the cluster. We then import libraries from bokeh. We then set the parameters for our histogram and create it. We set bins as our index and we use counts for our heights. \n"
   ]
  },
  {
   "cell_type": "code",
   "execution_count": null,
   "metadata": {},
   "outputs": [
    {
     "data": {
      "text/html": [
       "\n",
       "\n",
       "\n",
       "\n",
       "\n",
       "\n",
       "  <div class=\"bk-root\" id=\"094b0ebe-5ddd-435e-a501-459c4821380e\" data-root-id=\"3045\"></div>\n"
      ]
     },
     "metadata": {},
     "output_type": "display_data"
    },
    {
     "data": {
      "application/javascript": [
       "(function(root) {\n",
       "  function embed_document(root) {\n",
       "    \n",
       "  var docs_json = {\"458bbe19-7418-4c9d-84f1-188d5bf86a04\":{\"defs\":[{\"extends\":null,\"module\":null,\"name\":\"DataModel\",\"overrides\":[],\"properties\":[]}],\"roots\":{\"references\":[{\"attributes\":{\"below\":[{\"id\":\"3056\"}],\"center\":[{\"id\":\"3058\"},{\"id\":\"3062\"}],\"height\":350,\"left\":[{\"id\":\"3059\"}],\"renderers\":[{\"id\":\"3080\"}],\"title\":{\"id\":\"3046\"},\"toolbar\":{\"id\":\"3070\"},\"x_range\":{\"id\":\"3048\"},\"x_scale\":{\"id\":\"3052\"},\"y_range\":{\"id\":\"3050\"},\"y_scale\":{\"id\":\"3054\"}},\"id\":\"3045\",\"subtype\":\"Figure\",\"type\":\"Plot\"},{\"attributes\":{\"formatter\":{\"id\":\"3213\"},\"major_label_policy\":{\"id\":\"3214\"},\"ticker\":{\"id\":\"3060\"}},\"id\":\"3059\",\"type\":\"LinearAxis\"},{\"attributes\":{\"active_multi\":null,\"tools\":[{\"id\":\"3063\"},{\"id\":\"3064\"},{\"id\":\"3065\"},{\"id\":\"3066\"},{\"id\":\"3067\"},{\"id\":\"3068\"}]},\"id\":\"3070\",\"type\":\"Toolbar\"},{\"attributes\":{\"formatter\":{\"id\":\"3216\"},\"major_label_policy\":{\"id\":\"3217\"},\"ticker\":{\"id\":\"3057\"}},\"id\":\"3056\",\"type\":\"CategoricalAxis\"},{\"attributes\":{\"source\":{\"id\":\"3077\"}},\"id\":\"3081\",\"type\":\"CDSView\"},{\"attributes\":{},\"id\":\"3054\",\"type\":\"LinearScale\"},{\"attributes\":{},\"id\":\"3063\",\"type\":\"PanTool\"},{\"attributes\":{},\"id\":\"3068\",\"type\":\"HelpTool\"},{\"attributes\":{},\"id\":\"3219\",\"type\":\"UnionRenderers\"},{\"attributes\":{\"factors\":[\"1.07\",\"2.09\",\"3.11\",\"4.12\",\"5.14\"]},\"id\":\"3048\",\"type\":\"FactorRange\"},{\"attributes\":{\"axis\":{\"id\":\"3056\"},\"ticker\":null},\"id\":\"3058\",\"type\":\"Grid\"},{\"attributes\":{},\"id\":\"3214\",\"type\":\"AllLabels\"},{\"attributes\":{\"overlay\":{\"id\":\"3069\"}},\"id\":\"3065\",\"type\":\"BoxZoomTool\"},{\"attributes\":{},\"id\":\"3213\",\"type\":\"BasicTickFormatter\"},{\"attributes\":{\"fill_alpha\":{\"value\":0.1},\"fill_color\":{\"value\":\"#1f77b4\"},\"line_alpha\":{\"value\":0.1},\"line_color\":{\"value\":\"#1f77b4\"},\"top\":{\"field\":\"top\"},\"width\":{\"value\":0.9},\"x\":{\"field\":\"x\"}},\"id\":\"3079\",\"type\":\"VBar\"},{\"attributes\":{},\"id\":\"3220\",\"type\":\"Selection\"},{\"attributes\":{},\"id\":\"3057\",\"type\":\"CategoricalTicker\"},{\"attributes\":{},\"id\":\"3067\",\"type\":\"ResetTool\"},{\"attributes\":{\"axis\":{\"id\":\"3059\"},\"dimension\":1,\"ticker\":null},\"id\":\"3062\",\"type\":\"Grid\"},{\"attributes\":{},\"id\":\"3064\",\"type\":\"WheelZoomTool\"},{\"attributes\":{},\"id\":\"3052\",\"type\":\"CategoricalScale\"},{\"attributes\":{},\"id\":\"3050\",\"type\":\"DataRange1d\"},{\"attributes\":{\"text\":\"Hist Z\"},\"id\":\"3046\",\"type\":\"Title\"},{\"attributes\":{\"data\":{\"top\":[4,17864,25129,10301,304],\"x\":[\"1.07\",\"2.09\",\"3.11\",\"4.12\",\"5.14\"]},\"selected\":{\"id\":\"3220\"},\"selection_policy\":{\"id\":\"3219\"}},\"id\":\"3077\",\"type\":\"ColumnDataSource\"},{\"attributes\":{\"data_source\":{\"id\":\"3077\"},\"glyph\":{\"id\":\"3078\"},\"hover_glyph\":null,\"muted_glyph\":null,\"nonselection_glyph\":{\"id\":\"3079\"},\"view\":{\"id\":\"3081\"}},\"id\":\"3080\",\"type\":\"GlyphRenderer\"},{\"attributes\":{\"fill_color\":{\"value\":\"#1f77b4\"},\"line_color\":{\"value\":\"#1f77b4\"},\"top\":{\"field\":\"top\"},\"width\":{\"value\":0.9},\"x\":{\"field\":\"x\"}},\"id\":\"3078\",\"type\":\"VBar\"},{\"attributes\":{},\"id\":\"3217\",\"type\":\"AllLabels\"},{\"attributes\":{},\"id\":\"3066\",\"type\":\"SaveTool\"},{\"attributes\":{},\"id\":\"3060\",\"type\":\"BasicTicker\"},{\"attributes\":{},\"id\":\"3216\",\"type\":\"CategoricalTickFormatter\"},{\"attributes\":{\"bottom_units\":\"screen\",\"fill_alpha\":0.5,\"fill_color\":\"lightgrey\",\"left_units\":\"screen\",\"level\":\"overlay\",\"line_alpha\":1.0,\"line_color\":\"black\",\"line_dash\":[4,4],\"line_width\":2,\"right_units\":\"screen\",\"syncable\":false,\"top_units\":\"screen\"},\"id\":\"3069\",\"type\":\"BoxAnnotation\"}],\"root_ids\":[\"3045\"]},\"title\":\"Bokeh Application\",\"version\":\"2.3.0\"}};\n",
       "  var render_items = [{\"docid\":\"458bbe19-7418-4c9d-84f1-188d5bf86a04\",\"root_ids\":[\"3045\"],\"roots\":{\"3045\":\"094b0ebe-5ddd-435e-a501-459c4821380e\"}}];\n",
       "  root.Bokeh.embed.embed_items_notebook(docs_json, render_items);\n",
       "\n",
       "  }\n",
       "  if (root.Bokeh !== undefined) {\n",
       "    embed_document(root);\n",
       "  } else {\n",
       "    var attempts = 0;\n",
       "    var timer = setInterval(function(root) {\n",
       "      if (root.Bokeh !== undefined) {\n",
       "        clearInterval(timer);\n",
       "        embed_document(root);\n",
       "      } else {\n",
       "        attempts++;\n",
       "        if (attempts > 100) {\n",
       "          clearInterval(timer);\n",
       "          console.log(\"Bokeh: ERROR: Unable to run BokehJS code because BokehJS library is missing\");\n",
       "        }\n",
       "      }\n",
       "    }, 10, root)\n",
       "  }\n",
       "})(window);"
      ],
      "application/vnd.bokehjs_exec.v0+json": ""
     },
     "metadata": {
      "application/vnd.bokehjs_exec.v0+json": {
       "id": "3045"
      }
     },
     "output_type": "display_data"
    }
   ],
   "source": [
    "%%local\n",
    "\n",
    "labels = [str(round(e, 2)) for e in hist_z['bins']]\n",
    "p = figure(\n",
    " x_range=labels,\n",
    " plot_height=350,\n",
    " title='Hist Z'\n",
    ")\n",
    "p.vbar(x=labels, top=hist_z['counts'], width=0.9)\n",
    "show(p)"
   ]
  },
  {
   "cell_type": "markdown",
   "metadata": {},
   "source": [
    "From the output, we can see our histogram of z values. We see the distribution of our data does not have any outliers."
   ]
  }
 ],
 "metadata": {
  "kernelspec": {
   "display_name": "Python 3",
   "language": "python",
   "name": "python3"
  },
  "language_info": {
   "codemirror_mode": {
    "name": "ipython",
    "version": 3
   },
   "file_extension": ".py",
   "mimetype": "text/x-python",
   "name": "python",
   "nbconvert_exporter": "python",
   "pygments_lexer": "ipython3",
   "version": "3.8.3"
  }
 },
 "nbformat": 4,
 "nbformat_minor": 5
}
